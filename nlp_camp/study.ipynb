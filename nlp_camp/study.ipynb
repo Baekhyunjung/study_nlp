{
  "nbformat": 4,
  "nbformat_minor": 0,
  "metadata": {
    "colab": {
      "provenance": [],
      "authorship_tag": "ABX9TyPydq/g5nlyp0LX8Dm0U7b4",
      "include_colab_link": true
    },
    "kernelspec": {
      "name": "python3",
      "display_name": "Python 3"
    },
    "language_info": {
      "name": "python"
    },
    "accelerator": "GPU",
    "gpuClass": "standard"
  },
  "cells": [
    {
      "cell_type": "markdown",
      "metadata": {
        "id": "view-in-github",
        "colab_type": "text"
      },
      "source": [
        "<a href=\"https://colab.research.google.com/github/Baekhyunjung/study_nlp/blob/main/nlp_camp/study.ipynb\" target=\"_parent\"><img src=\"https://colab.research.google.com/assets/colab-badge.svg\" alt=\"Open In Colab\"/></a>"
      ]
    },
    {
      "cell_type": "code",
      "source": [
        "import torchtext\n",
        "version = list(map(int, torchtext.__version__.split('.')))\n",
        "if version[0] <= 0 and version[1] < 9:\n",
        "    from torchtext import data\n",
        "else:\n",
        "    from torchtext.legacy import data\n",
        "\n",
        "\n",
        "class DataLoader(object):\n",
        "    '''\n",
        "    Data loader class to load text file using torchtext library.\n",
        "    '''\n",
        "\n",
        "    def __init__(\n",
        "        self, train_fn,\n",
        "        batch_size=64,\n",
        "        valid_ratio=.2,\n",
        "        device=-1,\n",
        "        max_vocab=999999,\n",
        "        min_freq=1,\n",
        "        use_eos=False,\n",
        "        shuffle=True,\n",
        "    ):\n",
        "        '''\n",
        "        DataLoader initialization.\n",
        "        :param train_fn: Train-set filename\n",
        "        :param batch_size: Batchify data fot certain batch size.\n",
        "        :param device: Device-id to load data (-1 for CPU)\n",
        "        :param max_vocab: Maximum vocabulary size\n",
        "        :param min_freq: Minimum frequency for loaded word.\n",
        "        :param use_eos: If it is True, put <EOS> after every end of sentence.\n",
        "        :param shuffle: If it is True, random shuffle the input data.\n",
        "        '''\n",
        "        super().__init__()\n",
        "\n",
        "        # Define field of the input file.\n",
        "        # The input file consists of two fields.\n",
        "        self.label = data.Field(\n",
        "            sequential=False,\n",
        "            use_vocab=True,\n",
        "            unk_token=None\n",
        "        )\n",
        "        self.text = data.Field(\n",
        "            use_vocab=True,\n",
        "            batch_first=True,\n",
        "            include_lengths=False,\n",
        "            eos_token='<EOS>' if use_eos else None,\n",
        "        )\n",
        "\n",
        "        # Those defined two columns will be delimited by TAB.\n",
        "        # Thus, we use TabularDataset to load two columns in the input file.\n",
        "        # We would have two separate input file: train_fn, valid_fn\n",
        "        # Files consist of two columns: label field and text field.\n",
        "        train, valid = data.TabularDataset(\n",
        "            path=train_fn,\n",
        "            format='tsv',\n",
        "            fields=[\n",
        "                ('label', self.label),\n",
        "                ('text', self.text),\n",
        "            ],\n",
        "        ).split(split_ratio=(1 - valid_ratio))\n",
        "\n",
        "        # Those loaded dataset would be feeded into each iterator:\n",
        "        # train iterator and valid iterator.\n",
        "        # We sort input sentences by length, to group similar lengths.\n",
        "        self.train_loader, self.valid_loader = data.BucketIterator.splits(\n",
        "            (train, valid),\n",
        "            batch_size=batch_size,\n",
        "            device='cuda:%d' % device if device >= 0 else 'cpu',\n",
        "            shuffle=shuffle,\n",
        "            sort_key=lambda x: len(x.text),\n",
        "            sort_within_batch=True,\n",
        "        )\n",
        "\n",
        "        # At last, we make a vocabulary for label and text field.\n",
        "        # It is making mapping table between words and indice.\n",
        "        self.label.build_vocab(train)\n",
        "        self.text.build_vocab(train, max_size=max_vocab, min_freq=min_freq)"
      ],
      "metadata": {
        "id": "b7_2bY6pweHy"
      },
      "execution_count": null,
      "outputs": []
    },
    {
      "cell_type": "code",
      "source": [
        "from torchtext import data, datasets\n",
        "import torch.utils.data\n",
        "\n",
        "\n",
        "PAD, BOS, EOS = 1, 2, 3\n",
        "\n",
        "\n",
        "class DataLoader():\n",
        "\n",
        "    def __init__(self,\n",
        "                 train_fn,\n",
        "                 valid_fn,\n",
        "                 batch_size=64,\n",
        "                 device='cpu',\n",
        "                 max_vocab=99999999,\n",
        "                 max_length=255,\n",
        "                 fix_length=None,\n",
        "                 use_bos=True,\n",
        "                 use_eos=True,\n",
        "                 shuffle=True\n",
        "                 ):\n",
        "\n",
        "        super(DataLoader, self).__init__()\n",
        "\n",
        "        self.text = data.Field(sequential=True,\n",
        "                               use_vocab=True,\n",
        "                               batch_first=True,\n",
        "                               include_lengths=True,\n",
        "                               fix_length=fix_length,\n",
        "                               init_token='<BOS>' if use_bos else None,\n",
        "                               eos_token='<EOS>' if use_eos else None\n",
        "                               )\n",
        "\n",
        "        train = LanguageModelDataset(path=train_fn,\n",
        "                                     fields=[('text', self.text)],\n",
        "                                     max_length=max_length\n",
        "                                     )\n",
        "        valid = LanguageModelDataset(path=valid_fn,\n",
        "                                     fields=[('text', self.text)],\n",
        "                                     max_length=max_length\n",
        "                                     )\n",
        "\n",
        "        self.train_iter = data.BucketIterator(train,\n",
        "                                              batch_size=batch_size,\n",
        "                                              device='cuda:%d' % device if device >= 0 else 'cpu',\n",
        "                                              shuffle=shuffle,\n",
        "                                              sort_key=lambda x: -len(x.text),\n",
        "                                              sort_within_batch=True\n",
        "                                              )\n",
        "        self.valid_iter = data.BucketIterator(valid,\n",
        "                                              batch_size=batch_size,\n",
        "                                              device='cuda:%d' % device if device >= 0 else 'cpu',\n",
        "                                              shuffle=False,\n",
        "                                              sort_key=lambda x: -len(x.text),\n",
        "                                              sort_within_batch=True\n",
        "                                              )\n",
        "\n",
        "        self.text.build_vocab(train, max_size=max_vocab)\n",
        "\n",
        "\n",
        "class LanguageModelDataset(data.Dataset):\n",
        "\n",
        "    def __init__(self, path, fields, max_length=None, **kwargs):\n",
        "        if not isinstance(fields[0], (tuple, list)):\n",
        "            fields = [('text', fields[0])]\n",
        "\n",
        "        examples = []\n",
        "        with open(path) as f:\n",
        "            for line in f:\n",
        "                line = line.strip()\n",
        "                if max_length and max_length < len(line.split()):\n",
        "                    continue\n",
        "                if line != '':\n",
        "                    examples.append(data.Example.fromlist(\n",
        "                        [line], fields))\n",
        "\n",
        "        super(LanguageModelDataset, self).__init__(examples, fields, **kwargs)\n",
        "\n",
        "\n",
        "if __name__ == '__main__':\n",
        "    import sys\n",
        "    loader = DataLoader(sys.argv[1], sys.argv[2])\n",
        "\n",
        "    for batch_index, batch in enumerate(loader.train_iter):\n",
        "        print(batch.text)\n",
        "\n",
        "        if batch_index > 1:\n",
        "            break"
      ],
      "metadata": {
        "colab": {
          "base_uri": "https://localhost:8080/",
          "height": 251
        },
        "id": "dxLakN5ezS9s",
        "outputId": "6593a93a-b476-49dd-84d8-e3a1ae22d73d"
      },
      "execution_count": null,
      "outputs": [
        {
          "output_type": "error",
          "ename": "AttributeError",
          "evalue": "ignored",
          "traceback": [
            "\u001b[0;31m---------------------------------------------------------------------------\u001b[0m",
            "\u001b[0;31mAttributeError\u001b[0m                            Traceback (most recent call last)",
            "\u001b[0;32m<ipython-input-31-9619e0d76d7e>\u001b[0m in \u001b[0;36m<module>\u001b[0;34m()\u001b[0m\n\u001b[1;32m     59\u001b[0m \u001b[0;34m\u001b[0m\u001b[0m\n\u001b[1;32m     60\u001b[0m \u001b[0;34m\u001b[0m\u001b[0m\n\u001b[0;32m---> 61\u001b[0;31m \u001b[0;32mclass\u001b[0m \u001b[0mLanguageModelDataset\u001b[0m\u001b[0;34m(\u001b[0m\u001b[0mdata\u001b[0m\u001b[0;34m.\u001b[0m\u001b[0mDataset\u001b[0m\u001b[0;34m)\u001b[0m\u001b[0;34m:\u001b[0m\u001b[0;34m\u001b[0m\u001b[0;34m\u001b[0m\u001b[0m\n\u001b[0m\u001b[1;32m     62\u001b[0m \u001b[0;34m\u001b[0m\u001b[0m\n\u001b[1;32m     63\u001b[0m     \u001b[0;32mdef\u001b[0m \u001b[0m__init__\u001b[0m\u001b[0;34m(\u001b[0m\u001b[0mself\u001b[0m\u001b[0;34m,\u001b[0m \u001b[0mpath\u001b[0m\u001b[0;34m,\u001b[0m \u001b[0mfields\u001b[0m\u001b[0;34m,\u001b[0m \u001b[0mmax_length\u001b[0m\u001b[0;34m=\u001b[0m\u001b[0;32mNone\u001b[0m\u001b[0;34m,\u001b[0m \u001b[0;34m**\u001b[0m\u001b[0mkwargs\u001b[0m\u001b[0;34m)\u001b[0m\u001b[0;34m:\u001b[0m\u001b[0;34m\u001b[0m\u001b[0;34m\u001b[0m\u001b[0m\n",
            "\u001b[0;31mAttributeError\u001b[0m: module 'torchtext.data' has no attribute 'Dataset'"
          ]
        }
      ]
    },
    {
      "cell_type": "code",
      "source": [
        "import os\n",
        "\n",
        "import torchtext\n",
        "version = list(map(int, torchtext.__version__.split('.')))\n",
        "if version[0] <= 0 and version[1] < 9:\n",
        "    from torchtext import data\n",
        "else:\n",
        "    from torchtext.legacy import data\n",
        "\n",
        "PAD, BOS, EOS = 1, 2, 3\n",
        "\n",
        "\n",
        "class DataLoader():\n",
        "\n",
        "    def __init__(self,\n",
        "                 train_fn=None,\n",
        "                 valid_fn=None,\n",
        "                 exts=None,\n",
        "                 batch_size=64,\n",
        "                 device='cpu',\n",
        "                 max_vocab=99999999,\n",
        "                 max_length=255,\n",
        "                 fix_length=None,\n",
        "                 use_bos=True,\n",
        "                 use_eos=True,\n",
        "                 shuffle=True,\n",
        "                 dsl=False\n",
        "                 ):\n",
        "\n",
        "        super(DataLoader, self).__init__()\n",
        "\n",
        "        self.src = data.Field(\n",
        "            sequential=True,\n",
        "            use_vocab=True,\n",
        "            batch_first=True,\n",
        "            include_lengths=True,\n",
        "            fix_length=fix_length,\n",
        "            init_token='<BOS>' if dsl else None,\n",
        "            eos_token='<EOS>' if dsl else None,\n",
        "        )\n",
        "\n",
        "        self.tgt = data.Field(\n",
        "            sequential=True,\n",
        "            use_vocab=True,\n",
        "            batch_first=True,\n",
        "            include_lengths=True,\n",
        "            fix_length=fix_length,\n",
        "            init_token='<BOS>' if use_bos else None,\n",
        "            eos_token='<EOS>' if use_eos else None,\n",
        "        )\n",
        "\n",
        "        if train_fn is not None and valid_fn is not None and exts is not None:\n",
        "            train = TranslationDataset(\n",
        "                path=train_fn,\n",
        "                exts=exts,\n",
        "                fields=[('src', self.src), ('tgt', self.tgt)],\n",
        "                max_length=max_length\n",
        "            )\n",
        "            valid = TranslationDataset(\n",
        "                path=valid_fn,\n",
        "                exts=exts,\n",
        "                fields=[('src', self.src), ('tgt', self.tgt)],\n",
        "                max_length=max_length,\n",
        "            )\n",
        "\n",
        "            self.train_iter = data.BucketIterator(\n",
        "                train,\n",
        "                batch_size=batch_size,\n",
        "                device='cuda:%d' % device if device >= 0 else 'cpu',\n",
        "                shuffle=shuffle,\n",
        "                sort_key=lambda x: len(x.tgt) + (max_length * len(x.src)),\n",
        "                sort_within_batch=True,\n",
        "            )\n",
        "            self.valid_iter = data.BucketIterator(\n",
        "                valid,\n",
        "                batch_size=batch_size,\n",
        "                device='cuda:%d' % device if device >= 0 else 'cpu',\n",
        "                shuffle=False,\n",
        "                sort_key=lambda x: len(x.tgt) + (max_length * len(x.src)),\n",
        "                sort_within_batch=True,\n",
        "            )\n",
        "\n",
        "            self.src.build_vocab(train, max_size=max_vocab)\n",
        "            self.tgt.build_vocab(train, max_size=max_vocab)\n",
        "\n",
        "    def load_vocab(self, src_vocab, tgt_vocab):\n",
        "        self.src.vocab = src_vocab\n",
        "        self.tgt.vocab = tgt_vocab\n",
        "\n",
        "\n",
        "class TranslationDataset(data.Dataset):\n",
        "    \"\"\"Defines a dataset for machine translation.\"\"\"\n",
        "\n",
        "    @staticmethod\n",
        "    def sort_key(ex):\n",
        "        return data.interleave_keys(len(ex.src), len(ex.trg))\n",
        "\n",
        "    def __init__(self, path, exts, fields, max_length=None, **kwargs):\n",
        "        \"\"\"Create a TranslationDataset given paths and fields.\n",
        "\n",
        "        Arguments:\n",
        "            path: Common prefix of paths to the data files for both languages.\n",
        "            exts: A tuple containing the extension to path for each language.\n",
        "            fields: A tuple containing the fields that will be used for data\n",
        "                in each language.\n",
        "            Remaining keyword arguments: Passed to the constructor of\n",
        "                data.Dataset.\n",
        "        \"\"\"\n",
        "        if not isinstance(fields[0], (tuple, list)):\n",
        "            fields = [('src', fields[0]), ('trg', fields[1])]\n",
        "\n",
        "        if not path.endswith('.'):\n",
        "            path += '.'\n",
        "\n",
        "        src_path, trg_path = tuple(os.path.expanduser(path + x) for x in exts)\n",
        "\n",
        "        examples = []\n",
        "        with open(src_path, encoding='utf-8') as src_file, open(trg_path, encoding='utf-8') as trg_file:\n",
        "            for src_line, trg_line in zip(src_file, trg_file):\n",
        "                src_line, trg_line = src_line.strip(), trg_line.strip()\n",
        "                if max_length and max_length < max(len(src_line.split()), len(trg_line.split())):\n",
        "                    continue\n",
        "                if src_line != '' and trg_line != '':\n",
        "                    examples += [data.Example.fromlist([src_line, trg_line], fields)]\n",
        "\n",
        "        super().__init__(examples, fields, **kwargs)\n",
        "\n",
        "\n",
        "if __name__ == '__main__':\n",
        "    import sys\n",
        "    loader = DataLoader(\n",
        "        sys.argv[1],\n",
        "        sys.argv[2],\n",
        "        (sys.argv[3], sys.argv[4]),\n",
        "        batch_size=128\n",
        "    )\n",
        "\n",
        "    print(len(loader.src.vocab))\n",
        "    print(len(loader.tgt.vocab))\n",
        "\n",
        "    for batch_index, batch in enumerate(loader.train_iter):\n",
        "        print(batch.src)\n",
        "        print(batch.tgt)\n",
        "\n",
        "        if batch_index > 1:\n",
        "            break"
      ],
      "metadata": {
        "id": "md2Gdg0V3qAp",
        "outputId": "da1da6da-80c2-447c-c7d2-75a2dc7cf46d",
        "colab": {
          "base_uri": "https://localhost:8080/",
          "height": 251
        }
      },
      "execution_count": null,
      "outputs": [
        {
          "output_type": "error",
          "ename": "IndexError",
          "evalue": "ignored",
          "traceback": [
            "\u001b[0;31m---------------------------------------------------------------------------\u001b[0m",
            "\u001b[0;31mIndexError\u001b[0m                                Traceback (most recent call last)",
            "\u001b[0;32m<ipython-input-32-ddae513424d7>\u001b[0m in \u001b[0;36m<module>\u001b[0;34m()\u001b[0m\n\u001b[1;32m    132\u001b[0m         \u001b[0msys\u001b[0m\u001b[0;34m.\u001b[0m\u001b[0margv\u001b[0m\u001b[0;34m[\u001b[0m\u001b[0;36m1\u001b[0m\u001b[0;34m]\u001b[0m\u001b[0;34m,\u001b[0m\u001b[0;34m\u001b[0m\u001b[0;34m\u001b[0m\u001b[0m\n\u001b[1;32m    133\u001b[0m         \u001b[0msys\u001b[0m\u001b[0;34m.\u001b[0m\u001b[0margv\u001b[0m\u001b[0;34m[\u001b[0m\u001b[0;36m2\u001b[0m\u001b[0;34m]\u001b[0m\u001b[0;34m,\u001b[0m\u001b[0;34m\u001b[0m\u001b[0;34m\u001b[0m\u001b[0m\n\u001b[0;32m--> 134\u001b[0;31m         \u001b[0;34m(\u001b[0m\u001b[0msys\u001b[0m\u001b[0;34m.\u001b[0m\u001b[0margv\u001b[0m\u001b[0;34m[\u001b[0m\u001b[0;36m3\u001b[0m\u001b[0;34m]\u001b[0m\u001b[0;34m,\u001b[0m \u001b[0msys\u001b[0m\u001b[0;34m.\u001b[0m\u001b[0margv\u001b[0m\u001b[0;34m[\u001b[0m\u001b[0;36m4\u001b[0m\u001b[0;34m]\u001b[0m\u001b[0;34m)\u001b[0m\u001b[0;34m,\u001b[0m\u001b[0;34m\u001b[0m\u001b[0;34m\u001b[0m\u001b[0m\n\u001b[0m\u001b[1;32m    135\u001b[0m         \u001b[0mbatch_size\u001b[0m\u001b[0;34m=\u001b[0m\u001b[0;36m128\u001b[0m\u001b[0;34m\u001b[0m\u001b[0;34m\u001b[0m\u001b[0m\n\u001b[1;32m    136\u001b[0m     )\n",
            "\u001b[0;31mIndexError\u001b[0m: list index out of range"
          ]
        }
      ]
    },
    {
      "cell_type": "code",
      "source": [
        "import re, collections\n",
        "from IPython.display import display, Markdown, Latex\n",
        "\n",
        "def get_stats(dictionary):\n",
        "    # 유니그램의 pair들의 빈도수를 카운트\n",
        "    pairs = collections.defaultdict(int)\n",
        "    for word, freq in dictionary.items():\n",
        "        symbols = word.split()\n",
        "        for i in range(len(symbols)-1):\n",
        "            pairs[symbols[i],symbols[i+1]] += freq\n",
        "    print('현재 pair들의 빈도수 :', dict(pairs))\n",
        "    return pairs\n",
        "\n",
        "def merge_dictionary(pair, v_in):\n",
        "    v_out = {}\n",
        "    bigram = re.escape(' '.join(pair))\n",
        "    p = re.compile(r'(?<!\\S)' + bigram + r'(?!\\S)')\n",
        "    for word in v_in:\n",
        "        w_out = p.sub(''.join(pair), word)\n",
        "        v_out[w_out] = v_in[word]\n",
        "    return v_out\n",
        "\n",
        "bpe_codes = {}\n",
        "bpe_codes_reverse = {}\n",
        "\n",
        "num_merges = 10\n",
        "\n",
        "dictionary = {'l o w </w>' : 5,\n",
        "         'l o w e r </w>' : 2,\n",
        "         'n e w e s t </w>':6,\n",
        "         'w i d e s t </w>':3\n",
        "         }\n",
        "\n",
        "for i in range(num_merges):\n",
        "    display(Markdown(\"### Iteration {}\".format(i + 1)))\n",
        "    pairs = get_stats(dictionary)\n",
        "    best = max(pairs, key=pairs.get)\n",
        "    dictionary = merge_dictionary(best, dictionary)\n",
        "\n",
        "    bpe_codes[best] = i\n",
        "    bpe_codes_reverse[best[0] + best[1]] = best\n",
        "\n",
        "    print(\"new merge: {}\".format(best))\n",
        "    print(\"dictionary: {}\".format(dictionary))\n",
        "\n",
        "\n",
        "print(bpe_codes)"
      ],
      "metadata": {
        "colab": {
          "base_uri": "https://localhost:8080/",
          "height": 1000
        },
        "id": "OnxYsDspIzge",
        "outputId": "9b1a5f1a-a511-4254-9b07-b4b1a0faf48c"
      },
      "execution_count": null,
      "outputs": [
        {
          "output_type": "display_data",
          "data": {
            "text/plain": [
              "<IPython.core.display.Markdown object>"
            ],
            "text/markdown": "### Iteration 1"
          },
          "metadata": {}
        },
        {
          "output_type": "stream",
          "name": "stdout",
          "text": [
            "현재 pair들의 빈도수 : {('l', 'o'): 7, ('o', 'w'): 7, ('w', '</w>'): 5, ('w', 'e'): 8, ('e', 'r'): 2, ('r', '</w>'): 2, ('n', 'e'): 6, ('e', 'w'): 6, ('e', 's'): 9, ('s', 't'): 9, ('t', '</w>'): 9, ('w', 'i'): 3, ('i', 'd'): 3, ('d', 'e'): 3}\n",
            "new merge: ('e', 's')\n",
            "dictionary: {'l o w </w>': 5, 'l o w e r </w>': 2, 'n e w es t </w>': 6, 'w i d es t </w>': 3}\n"
          ]
        },
        {
          "output_type": "display_data",
          "data": {
            "text/plain": [
              "<IPython.core.display.Markdown object>"
            ],
            "text/markdown": "### Iteration 2"
          },
          "metadata": {}
        },
        {
          "output_type": "stream",
          "name": "stdout",
          "text": [
            "현재 pair들의 빈도수 : {('l', 'o'): 7, ('o', 'w'): 7, ('w', '</w>'): 5, ('w', 'e'): 2, ('e', 'r'): 2, ('r', '</w>'): 2, ('n', 'e'): 6, ('e', 'w'): 6, ('w', 'es'): 6, ('es', 't'): 9, ('t', '</w>'): 9, ('w', 'i'): 3, ('i', 'd'): 3, ('d', 'es'): 3}\n",
            "new merge: ('es', 't')\n",
            "dictionary: {'l o w </w>': 5, 'l o w e r </w>': 2, 'n e w est </w>': 6, 'w i d est </w>': 3}\n"
          ]
        },
        {
          "output_type": "display_data",
          "data": {
            "text/plain": [
              "<IPython.core.display.Markdown object>"
            ],
            "text/markdown": "### Iteration 3"
          },
          "metadata": {}
        },
        {
          "output_type": "stream",
          "name": "stdout",
          "text": [
            "현재 pair들의 빈도수 : {('l', 'o'): 7, ('o', 'w'): 7, ('w', '</w>'): 5, ('w', 'e'): 2, ('e', 'r'): 2, ('r', '</w>'): 2, ('n', 'e'): 6, ('e', 'w'): 6, ('w', 'est'): 6, ('est', '</w>'): 9, ('w', 'i'): 3, ('i', 'd'): 3, ('d', 'est'): 3}\n",
            "new merge: ('est', '</w>')\n",
            "dictionary: {'l o w </w>': 5, 'l o w e r </w>': 2, 'n e w est</w>': 6, 'w i d est</w>': 3}\n"
          ]
        },
        {
          "output_type": "display_data",
          "data": {
            "text/plain": [
              "<IPython.core.display.Markdown object>"
            ],
            "text/markdown": "### Iteration 4"
          },
          "metadata": {}
        },
        {
          "output_type": "stream",
          "name": "stdout",
          "text": [
            "현재 pair들의 빈도수 : {('l', 'o'): 7, ('o', 'w'): 7, ('w', '</w>'): 5, ('w', 'e'): 2, ('e', 'r'): 2, ('r', '</w>'): 2, ('n', 'e'): 6, ('e', 'w'): 6, ('w', 'est</w>'): 6, ('w', 'i'): 3, ('i', 'd'): 3, ('d', 'est</w>'): 3}\n",
            "new merge: ('l', 'o')\n",
            "dictionary: {'lo w </w>': 5, 'lo w e r </w>': 2, 'n e w est</w>': 6, 'w i d est</w>': 3}\n"
          ]
        },
        {
          "output_type": "display_data",
          "data": {
            "text/plain": [
              "<IPython.core.display.Markdown object>"
            ],
            "text/markdown": "### Iteration 5"
          },
          "metadata": {}
        },
        {
          "output_type": "stream",
          "name": "stdout",
          "text": [
            "현재 pair들의 빈도수 : {('lo', 'w'): 7, ('w', '</w>'): 5, ('w', 'e'): 2, ('e', 'r'): 2, ('r', '</w>'): 2, ('n', 'e'): 6, ('e', 'w'): 6, ('w', 'est</w>'): 6, ('w', 'i'): 3, ('i', 'd'): 3, ('d', 'est</w>'): 3}\n",
            "new merge: ('lo', 'w')\n",
            "dictionary: {'low </w>': 5, 'low e r </w>': 2, 'n e w est</w>': 6, 'w i d est</w>': 3}\n"
          ]
        },
        {
          "output_type": "display_data",
          "data": {
            "text/plain": [
              "<IPython.core.display.Markdown object>"
            ],
            "text/markdown": "### Iteration 6"
          },
          "metadata": {}
        },
        {
          "output_type": "stream",
          "name": "stdout",
          "text": [
            "현재 pair들의 빈도수 : {('low', '</w>'): 5, ('low', 'e'): 2, ('e', 'r'): 2, ('r', '</w>'): 2, ('n', 'e'): 6, ('e', 'w'): 6, ('w', 'est</w>'): 6, ('w', 'i'): 3, ('i', 'd'): 3, ('d', 'est</w>'): 3}\n",
            "new merge: ('n', 'e')\n",
            "dictionary: {'low </w>': 5, 'low e r </w>': 2, 'ne w est</w>': 6, 'w i d est</w>': 3}\n"
          ]
        },
        {
          "output_type": "display_data",
          "data": {
            "text/plain": [
              "<IPython.core.display.Markdown object>"
            ],
            "text/markdown": "### Iteration 7"
          },
          "metadata": {}
        },
        {
          "output_type": "stream",
          "name": "stdout",
          "text": [
            "현재 pair들의 빈도수 : {('low', '</w>'): 5, ('low', 'e'): 2, ('e', 'r'): 2, ('r', '</w>'): 2, ('ne', 'w'): 6, ('w', 'est</w>'): 6, ('w', 'i'): 3, ('i', 'd'): 3, ('d', 'est</w>'): 3}\n",
            "new merge: ('ne', 'w')\n",
            "dictionary: {'low </w>': 5, 'low e r </w>': 2, 'new est</w>': 6, 'w i d est</w>': 3}\n"
          ]
        },
        {
          "output_type": "display_data",
          "data": {
            "text/plain": [
              "<IPython.core.display.Markdown object>"
            ],
            "text/markdown": "### Iteration 8"
          },
          "metadata": {}
        },
        {
          "output_type": "stream",
          "name": "stdout",
          "text": [
            "현재 pair들의 빈도수 : {('low', '</w>'): 5, ('low', 'e'): 2, ('e', 'r'): 2, ('r', '</w>'): 2, ('new', 'est</w>'): 6, ('w', 'i'): 3, ('i', 'd'): 3, ('d', 'est</w>'): 3}\n",
            "new merge: ('new', 'est</w>')\n",
            "dictionary: {'low </w>': 5, 'low e r </w>': 2, 'newest</w>': 6, 'w i d est</w>': 3}\n"
          ]
        },
        {
          "output_type": "display_data",
          "data": {
            "text/plain": [
              "<IPython.core.display.Markdown object>"
            ],
            "text/markdown": "### Iteration 9"
          },
          "metadata": {}
        },
        {
          "output_type": "stream",
          "name": "stdout",
          "text": [
            "현재 pair들의 빈도수 : {('low', '</w>'): 5, ('low', 'e'): 2, ('e', 'r'): 2, ('r', '</w>'): 2, ('w', 'i'): 3, ('i', 'd'): 3, ('d', 'est</w>'): 3}\n",
            "new merge: ('low', '</w>')\n",
            "dictionary: {'low</w>': 5, 'low e r </w>': 2, 'newest</w>': 6, 'w i d est</w>': 3}\n"
          ]
        },
        {
          "output_type": "display_data",
          "data": {
            "text/plain": [
              "<IPython.core.display.Markdown object>"
            ],
            "text/markdown": "### Iteration 10"
          },
          "metadata": {}
        },
        {
          "output_type": "stream",
          "name": "stdout",
          "text": [
            "현재 pair들의 빈도수 : {('low', 'e'): 2, ('e', 'r'): 2, ('r', '</w>'): 2, ('w', 'i'): 3, ('i', 'd'): 3, ('d', 'est</w>'): 3}\n",
            "new merge: ('w', 'i')\n",
            "dictionary: {'low</w>': 5, 'low e r </w>': 2, 'newest</w>': 6, 'wi d est</w>': 3}\n",
            "{('e', 's'): 0, ('es', 't'): 1, ('est', '</w>'): 2, ('l', 'o'): 3, ('lo', 'w'): 4, ('n', 'e'): 5, ('ne', 'w'): 6, ('new', 'est</w>'): 7, ('low', '</w>'): 8, ('w', 'i'): 9}\n"
          ]
        }
      ]
    },
    {
      "cell_type": "code",
      "source": [
        "def get_pairs(word):\n",
        "    \"\"\"Return set of symbol pairs in a word.\n",
        "    Word is represented as a tuple of symbols (symbols being variable-length strings).\n",
        "    \"\"\"\n",
        "    pairs = set()\n",
        "    prev_char = word[0]\n",
        "    for char in word[1:]:\n",
        "        pairs.add((prev_char, char))\n",
        "        prev_char = char\n",
        "    return pairs\n",
        "\n",
        "\n",
        "def encode(orig):\n",
        "    \"\"\"Encode word based on list of BPE merge operations, which are applied consecutively\"\"\"\n",
        "\n",
        "    word = tuple(orig) + ('</w>',)\n",
        "    display(Markdown(\"__word split into characters:__ <tt>{}</tt>\".format(word)))\n",
        "\n",
        "    pairs = get_pairs(word)\n",
        "\n",
        "    if not pairs:\n",
        "        return orig\n",
        "\n",
        "    iteration = 0\n",
        "    while True:\n",
        "        iteration += 1\n",
        "        display(Markdown(\"__Iteration {}:__\".format(iteration)))\n",
        "\n",
        "        print(\"bigrams in the word: {}\".format(pairs))\n",
        "        bigram = min(pairs, key = lambda pair: bpe_codes.get(pair, float('inf')))\n",
        "        print(\"candidate for merging: {}\".format(bigram))\n",
        "        if bigram not in bpe_codes:\n",
        "            display(Markdown(\"__Candidate not in BPE merges, algorithm stops.__\"))\n",
        "            break\n",
        "        first, second = bigram\n",
        "        new_word = []\n",
        "        i = 0\n",
        "        while i < len(word):\n",
        "            try:\n",
        "                j = word.index(first, i)\n",
        "                new_word.extend(word[i:j])\n",
        "                i = j\n",
        "            except:\n",
        "                new_word.extend(word[i:])\n",
        "                break\n",
        "\n",
        "            if word[i] == first and i < len(word)-1 and word[i+1] == second:\n",
        "                new_word.append(first+second)\n",
        "                i += 2\n",
        "            else:\n",
        "                new_word.append(word[i])\n",
        "                i += 1\n",
        "        new_word = tuple(new_word)\n",
        "        word = new_word\n",
        "        print(\"word after merging: {}\".format(word))\n",
        "        if len(word) == 1:\n",
        "            break\n",
        "        else:\n",
        "            pairs = get_pairs(word)\n",
        "\n",
        "    # 특별 토큰인 </w>는 출력하지 않는다.\n",
        "    if word[-1] == '</w>':\n",
        "        word = word[:-1]\n",
        "    elif word[-1].endswith('</w>'):\n",
        "        word = word[:-1] + (word[-1].replace('</w>',''),)\n",
        "\n",
        "    return word"
      ],
      "metadata": {
        "id": "1KbuJOv0KYPe"
      },
      "execution_count": null,
      "outputs": []
    },
    {
      "cell_type": "code",
      "source": [
        "encode(\"loki\")"
      ],
      "metadata": {
        "colab": {
          "base_uri": "https://localhost:8080/",
          "height": 242
        },
        "id": "m3dcxMc0KZo6",
        "outputId": "ebaeccfe-eb61-4b90-8024-548fe7ca82d5"
      },
      "execution_count": null,
      "outputs": [
        {
          "output_type": "display_data",
          "data": {
            "text/plain": [
              "<IPython.core.display.Markdown object>"
            ],
            "text/markdown": "__word split into characters:__ <tt>('l', 'o', 'k', 'i', '</w>')</tt>"
          },
          "metadata": {}
        },
        {
          "output_type": "display_data",
          "data": {
            "text/plain": [
              "<IPython.core.display.Markdown object>"
            ],
            "text/markdown": "__Iteration 1:__"
          },
          "metadata": {}
        },
        {
          "output_type": "stream",
          "name": "stdout",
          "text": [
            "bigrams in the word: {('l', 'o'), ('k', 'i'), ('o', 'k'), ('i', '</w>')}\n",
            "candidate for merging: ('l', 'o')\n",
            "word after merging: ('lo', 'k', 'i', '</w>')\n"
          ]
        },
        {
          "output_type": "display_data",
          "data": {
            "text/plain": [
              "<IPython.core.display.Markdown object>"
            ],
            "text/markdown": "__Iteration 2:__"
          },
          "metadata": {}
        },
        {
          "output_type": "stream",
          "name": "stdout",
          "text": [
            "bigrams in the word: {('lo', 'k'), ('k', 'i'), ('i', '</w>')}\n",
            "candidate for merging: ('lo', 'k')\n"
          ]
        },
        {
          "output_type": "display_data",
          "data": {
            "text/plain": [
              "<IPython.core.display.Markdown object>"
            ],
            "text/markdown": "__Candidate not in BPE merges, algorithm stops.__"
          },
          "metadata": {}
        },
        {
          "output_type": "execute_result",
          "data": {
            "text/plain": [
              "('lo', 'k', 'i')"
            ]
          },
          "metadata": {},
          "execution_count": 3
        }
      ]
    },
    {
      "cell_type": "code",
      "source": [
        "encode(\"lowest\")"
      ],
      "metadata": {
        "colab": {
          "base_uri": "https://localhost:8080/",
          "height": 583
        },
        "id": "nv6FET-wKcbL",
        "outputId": "fa1066bf-4aeb-431f-a64b-62d3310d05ca"
      },
      "execution_count": null,
      "outputs": [
        {
          "output_type": "display_data",
          "data": {
            "text/plain": [
              "<IPython.core.display.Markdown object>"
            ],
            "text/markdown": "__word split into characters:__ <tt>('l', 'o', 'w', 'e', 's', 't', '</w>')</tt>"
          },
          "metadata": {}
        },
        {
          "output_type": "display_data",
          "data": {
            "text/plain": [
              "<IPython.core.display.Markdown object>"
            ],
            "text/markdown": "__Iteration 1:__"
          },
          "metadata": {}
        },
        {
          "output_type": "stream",
          "name": "stdout",
          "text": [
            "bigrams in the word: {('o', 'w'), ('t', '</w>'), ('s', 't'), ('w', 'e'), ('e', 's'), ('l', 'o')}\n",
            "candidate for merging: ('e', 's')\n",
            "word after merging: ('l', 'o', 'w', 'es', 't', '</w>')\n"
          ]
        },
        {
          "output_type": "display_data",
          "data": {
            "text/plain": [
              "<IPython.core.display.Markdown object>"
            ],
            "text/markdown": "__Iteration 2:__"
          },
          "metadata": {}
        },
        {
          "output_type": "stream",
          "name": "stdout",
          "text": [
            "bigrams in the word: {('o', 'w'), ('t', '</w>'), ('w', 'es'), ('es', 't'), ('l', 'o')}\n",
            "candidate for merging: ('es', 't')\n",
            "word after merging: ('l', 'o', 'w', 'est', '</w>')\n"
          ]
        },
        {
          "output_type": "display_data",
          "data": {
            "text/plain": [
              "<IPython.core.display.Markdown object>"
            ],
            "text/markdown": "__Iteration 3:__"
          },
          "metadata": {}
        },
        {
          "output_type": "stream",
          "name": "stdout",
          "text": [
            "bigrams in the word: {('o', 'w'), ('l', 'o'), ('est', '</w>'), ('w', 'est')}\n",
            "candidate for merging: ('est', '</w>')\n",
            "word after merging: ('l', 'o', 'w', 'est</w>')\n"
          ]
        },
        {
          "output_type": "display_data",
          "data": {
            "text/plain": [
              "<IPython.core.display.Markdown object>"
            ],
            "text/markdown": "__Iteration 4:__"
          },
          "metadata": {}
        },
        {
          "output_type": "stream",
          "name": "stdout",
          "text": [
            "bigrams in the word: {('o', 'w'), ('l', 'o'), ('w', 'est</w>')}\n",
            "candidate for merging: ('l', 'o')\n",
            "word after merging: ('lo', 'w', 'est</w>')\n"
          ]
        },
        {
          "output_type": "display_data",
          "data": {
            "text/plain": [
              "<IPython.core.display.Markdown object>"
            ],
            "text/markdown": "__Iteration 5:__"
          },
          "metadata": {}
        },
        {
          "output_type": "stream",
          "name": "stdout",
          "text": [
            "bigrams in the word: {('lo', 'w'), ('w', 'est</w>')}\n",
            "candidate for merging: ('lo', 'w')\n",
            "word after merging: ('low', 'est</w>')\n"
          ]
        },
        {
          "output_type": "display_data",
          "data": {
            "text/plain": [
              "<IPython.core.display.Markdown object>"
            ],
            "text/markdown": "__Iteration 6:__"
          },
          "metadata": {}
        },
        {
          "output_type": "stream",
          "name": "stdout",
          "text": [
            "bigrams in the word: {('low', 'est</w>')}\n",
            "candidate for merging: ('low', 'est</w>')\n"
          ]
        },
        {
          "output_type": "display_data",
          "data": {
            "text/plain": [
              "<IPython.core.display.Markdown object>"
            ],
            "text/markdown": "__Candidate not in BPE merges, algorithm stops.__"
          },
          "metadata": {}
        },
        {
          "output_type": "execute_result",
          "data": {
            "text/plain": [
              "('low', 'est')"
            ]
          },
          "metadata": {},
          "execution_count": 8
        }
      ]
    },
    {
      "cell_type": "code",
      "source": [
        "encode(\"lowing\")"
      ],
      "metadata": {
        "colab": {
          "base_uri": "https://localhost:8080/",
          "height": 327
        },
        "id": "WWcvohSDKg7o",
        "outputId": "633357ec-775a-4141-b0fc-942efbe7fa95"
      },
      "execution_count": null,
      "outputs": [
        {
          "output_type": "display_data",
          "data": {
            "text/plain": [
              "<IPython.core.display.Markdown object>"
            ],
            "text/markdown": "__word split into characters:__ <tt>('l', 'o', 'w', 'i', 'n', 'g', '</w>')</tt>"
          },
          "metadata": {}
        },
        {
          "output_type": "display_data",
          "data": {
            "text/plain": [
              "<IPython.core.display.Markdown object>"
            ],
            "text/markdown": "__Iteration 1:__"
          },
          "metadata": {}
        },
        {
          "output_type": "stream",
          "name": "stdout",
          "text": [
            "bigrams in the word: {('o', 'w'), ('n', 'g'), ('w', 'i'), ('i', 'n'), ('g', '</w>'), ('l', 'o')}\n",
            "candidate for merging: ('l', 'o')\n",
            "word after merging: ('lo', 'w', 'i', 'n', 'g', '</w>')\n"
          ]
        },
        {
          "output_type": "display_data",
          "data": {
            "text/plain": [
              "<IPython.core.display.Markdown object>"
            ],
            "text/markdown": "__Iteration 2:__"
          },
          "metadata": {}
        },
        {
          "output_type": "stream",
          "name": "stdout",
          "text": [
            "bigrams in the word: {('n', 'g'), ('w', 'i'), ('i', 'n'), ('g', '</w>'), ('lo', 'w')}\n",
            "candidate for merging: ('lo', 'w')\n",
            "word after merging: ('low', 'i', 'n', 'g', '</w>')\n"
          ]
        },
        {
          "output_type": "display_data",
          "data": {
            "text/plain": [
              "<IPython.core.display.Markdown object>"
            ],
            "text/markdown": "__Iteration 3:__"
          },
          "metadata": {}
        },
        {
          "output_type": "stream",
          "name": "stdout",
          "text": [
            "bigrams in the word: {('i', 'n'), ('g', '</w>'), ('low', 'i'), ('n', 'g')}\n",
            "candidate for merging: ('i', 'n')\n"
          ]
        },
        {
          "output_type": "display_data",
          "data": {
            "text/plain": [
              "<IPython.core.display.Markdown object>"
            ],
            "text/markdown": "__Candidate not in BPE merges, algorithm stops.__"
          },
          "metadata": {}
        },
        {
          "output_type": "execute_result",
          "data": {
            "text/plain": [
              "('low', 'i', 'n', 'g')"
            ]
          },
          "metadata": {},
          "execution_count": 9
        }
      ]
    },
    {
      "cell_type": "code",
      "source": [
        "encode(\"highing\")"
      ],
      "metadata": {
        "colab": {
          "base_uri": "https://localhost:8080/",
          "height": 157
        },
        "id": "pLA3KE7bKj3g",
        "outputId": "87f94169-d40e-4706-b77c-3cc7fb883bb5"
      },
      "execution_count": null,
      "outputs": [
        {
          "output_type": "display_data",
          "data": {
            "text/plain": [
              "<IPython.core.display.Markdown object>"
            ],
            "text/markdown": "__word split into characters:__ <tt>('h', 'i', 'g', 'h', 'i', 'n', 'g', '</w>')</tt>"
          },
          "metadata": {}
        },
        {
          "output_type": "display_data",
          "data": {
            "text/plain": [
              "<IPython.core.display.Markdown object>"
            ],
            "text/markdown": "__Iteration 1:__"
          },
          "metadata": {}
        },
        {
          "output_type": "stream",
          "name": "stdout",
          "text": [
            "bigrams in the word: {('g', 'h'), ('n', 'g'), ('i', 'n'), ('g', '</w>'), ('h', 'i'), ('i', 'g')}\n",
            "candidate for merging: ('g', 'h')\n"
          ]
        },
        {
          "output_type": "display_data",
          "data": {
            "text/plain": [
              "<IPython.core.display.Markdown object>"
            ],
            "text/markdown": "__Candidate not in BPE merges, algorithm stops.__"
          },
          "metadata": {}
        },
        {
          "output_type": "execute_result",
          "data": {
            "text/plain": [
              "('h', 'i', 'g', 'h', 'i', 'n', 'g')"
            ]
          },
          "metadata": {},
          "execution_count": 10
        }
      ]
    },
    {
      "cell_type": "code",
      "source": [],
      "metadata": {
        "id": "fiWTQ95yw5xo"
      },
      "execution_count": null,
      "outputs": []
    },
    {
      "cell_type": "code",
      "source": [
        "import torch\n",
        "from torchtext.datasets import AG_NEWS\n",
        "train_iter = AG_NEWS(split='train')"
      ],
      "metadata": {
        "colab": {
          "base_uri": "https://localhost:8080/"
        },
        "id": "czKmJ7DLw56M",
        "outputId": "102eff42-6879-43db-f4c1-a538ac3fe3a6"
      },
      "execution_count": null,
      "outputs": [
        {
          "output_type": "stream",
          "name": "stderr",
          "text": [
            "29.5MB [00:00, 62.8MB/s]\n"
          ]
        }
      ]
    },
    {
      "cell_type": "code",
      "source": [
        "next(train_iter)"
      ],
      "metadata": {
        "colab": {
          "base_uri": "https://localhost:8080/"
        },
        "id": "kMkiPiJjw_b3",
        "outputId": "4986ec59-5b8a-44a6-ed48-3d8d01f2e41f"
      },
      "execution_count": null,
      "outputs": [
        {
          "output_type": "execute_result",
          "data": {
            "text/plain": [
              "(3,\n",
              " \"Wall St. Bears Claw Back Into the Black (Reuters) Reuters - Short-sellers, Wall Street's dwindling\\\\band of ultra-cynics, are seeing green again.\")"
            ]
          },
          "metadata": {},
          "execution_count": 2
        }
      ]
    },
    {
      "cell_type": "code",
      "source": [
        "next(train_iter)"
      ],
      "metadata": {
        "colab": {
          "base_uri": "https://localhost:8080/"
        },
        "id": "oPRPAyxfxCCt",
        "outputId": "1680bed5-b3fd-4c32-f500-3eedec24d787"
      },
      "execution_count": null,
      "outputs": [
        {
          "output_type": "execute_result",
          "data": {
            "text/plain": [
              "(3,\n",
              " 'Carlyle Looks Toward Commercial Aerospace (Reuters) Reuters - Private investment firm Carlyle Group,\\\\which has a reputation for making well-timed and occasionally\\\\controversial plays in the defense industry, has quietly placed\\\\its bets on another part of the market.')"
            ]
          },
          "metadata": {},
          "execution_count": 3
        }
      ]
    },
    {
      "cell_type": "code",
      "source": [
        "next(train_iter)"
      ],
      "metadata": {
        "colab": {
          "base_uri": "https://localhost:8080/"
        },
        "id": "RI1ki8mXxDmL",
        "outputId": "28f07e3c-7200-4e0c-c466-99f5b9dfb740"
      },
      "execution_count": null,
      "outputs": [
        {
          "output_type": "execute_result",
          "data": {
            "text/plain": [
              "(3,\n",
              " \"Oil and Economy Cloud Stocks' Outlook (Reuters) Reuters - Soaring crude prices plus worries\\\\about the economy and the outlook for earnings are expected to\\\\hang over the stock market next week during the depth of the\\\\summer doldrums.\")"
            ]
          },
          "metadata": {},
          "execution_count": 4
        }
      ]
    },
    {
      "cell_type": "code",
      "source": [
        "from torchtext.data.utils import get_tokenizer\n",
        "from torchtext.vocab import build_vocab_from_iterator\n",
        "\n",
        "tokenizer = get_tokenizer('basic_english')\n",
        "train_iter = AG_NEWS(split='train')\n",
        "\n",
        "def yield_tokens(data_iter):\n",
        "    for _, text in data_iter:\n",
        "        yield tokenizer(text)\n",
        "\n",
        "vocab = build_vocab_from_iterator(yield_tokens(train_iter), specials=[\"<unk>\"])\n",
        "vocab.set_default_index(vocab[\"<unk>\"])"
      ],
      "metadata": {
        "id": "aylMQDOyxF1n"
      },
      "execution_count": null,
      "outputs": []
    },
    {
      "cell_type": "code",
      "source": [
        "vocab(['here', 'is', 'an', 'example'])"
      ],
      "metadata": {
        "colab": {
          "base_uri": "https://localhost:8080/"
        },
        "id": "odGrV1CnxJwT",
        "outputId": "d93739a3-cb79-43ad-d5bf-b342ec6bd4b4"
      },
      "execution_count": null,
      "outputs": [
        {
          "output_type": "execute_result",
          "data": {
            "text/plain": [
              "[475, 21, 30, 5297]"
            ]
          },
          "metadata": {},
          "execution_count": 6
        }
      ]
    },
    {
      "cell_type": "code",
      "source": [
        "text_pipeline = lambda x: vocab(tokenizer(x))\n",
        "label_pipeline = lambda x: int(x) - 1"
      ],
      "metadata": {
        "id": "PmzPMXjrxMdE"
      },
      "execution_count": null,
      "outputs": []
    },
    {
      "cell_type": "code",
      "source": [
        "text_pipeline('here is the an example')"
      ],
      "metadata": {
        "colab": {
          "base_uri": "https://localhost:8080/"
        },
        "id": "RONoDOlMxOxF",
        "outputId": "dee22203-ae66-4b4c-defa-783597816fc0"
      },
      "execution_count": null,
      "outputs": [
        {
          "output_type": "execute_result",
          "data": {
            "text/plain": [
              "[475, 21, 2, 30, 5297]"
            ]
          },
          "metadata": {},
          "execution_count": 8
        }
      ]
    },
    {
      "cell_type": "code",
      "source": [
        "label_pipeline('10')"
      ],
      "metadata": {
        "colab": {
          "base_uri": "https://localhost:8080/"
        },
        "id": "avNtfwvWxRGf",
        "outputId": "0dafe7dc-8064-49ae-f5c6-de04497866ee"
      },
      "execution_count": null,
      "outputs": [
        {
          "output_type": "execute_result",
          "data": {
            "text/plain": [
              "9"
            ]
          },
          "metadata": {},
          "execution_count": 9
        }
      ]
    },
    {
      "cell_type": "code",
      "source": [
        "from torch.utils.data import DataLoader\n",
        "device = torch.device(\"cuda\" if torch.cuda.is_available() else \"cpu\")\n",
        "\n",
        "def collate_batch(batch):\n",
        "    label_list, text_list, offsets = [], [], [0]\n",
        "    for (_label, _text) in batch:\n",
        "         label_list.append(label_pipeline(_label))\n",
        "         processed_text = torch.tensor(text_pipeline(_text), dtype=torch.int64)\n",
        "         text_list.append(processed_text)\n",
        "         offsets.append(processed_text.size(0))\n",
        "    label_list = torch.tensor(label_list, dtype=torch.int64)\n",
        "    offsets = torch.tensor(offsets[:-1]).cumsum(dim=0)\n",
        "    text_list = torch.cat(text_list)\n",
        "    return label_list.to(device), text_list.to(device), offsets.to(device)\n",
        "\n",
        "train_iter = AG_NEWS(split='train')\n",
        "dataloader = DataLoader(train_iter, batch_size=8, shuffle=False, collate_fn=collate_batch)"
      ],
      "metadata": {
        "id": "rrXIxforxTOM"
      },
      "execution_count": null,
      "outputs": []
    },
    {
      "cell_type": "code",
      "source": [
        "from torch import nn\n",
        "\n",
        "class TextClassificationModel(nn.Module):\n",
        "\n",
        "    def __init__(self, vocab_size, embed_dim, num_class):\n",
        "        super(TextClassificationModel, self).__init__()\n",
        "        self.embedding = nn.EmbeddingBag(vocab_size, embed_dim, sparse=True)\n",
        "        self.fc = nn.Linear(embed_dim, num_class)\n",
        "        self.init_weights()\n",
        "\n",
        "    def init_weights(self):\n",
        "        initrange = 0.5\n",
        "        self.embedding.weight.data.uniform_(-initrange, initrange)\n",
        "        self.fc.weight.data.uniform_(-initrange, initrange)\n",
        "        self.fc.bias.data.zero_()\n",
        "\n",
        "    def forward(self, text, offsets):\n",
        "        embedded = self.embedding(text, offsets)\n",
        "        return self.fc(embedded)"
      ],
      "metadata": {
        "id": "N9KG-1_RxWDp"
      },
      "execution_count": null,
      "outputs": []
    },
    {
      "cell_type": "code",
      "source": [
        "train_iter = AG_NEWS(split='train')\n",
        "num_class = len(set([label for (label, text) in train_iter]))\n",
        "vocab_size = len(vocab)\n",
        "emsize = 64\n",
        "model = TextClassificationModel(vocab_size, emsize, num_class).to(device)"
      ],
      "metadata": {
        "id": "vhFXM2T8xaVN"
      },
      "execution_count": null,
      "outputs": []
    },
    {
      "cell_type": "code",
      "source": [
        "import time\n",
        "\n",
        "def train(dataloader):\n",
        "    model.train()\n",
        "    total_acc, total_count = 0, 0\n",
        "    log_interval = 500\n",
        "    start_time = time.time()\n",
        "    for idx, (label, text, offsets) in enumerate(dataloader):\n",
        "        optimizer.zero_grad()\n",
        "        predicted_label = model(text, offsets)\n",
        "        loss = criterion(predicted_label, label)\n",
        "        loss.backward()\n",
        "        torch.nn.utils.clip_grad_norm_(model.parameters(), 0.1)\n",
        "        optimizer.step()\n",
        "        total_acc += (predicted_label.argmax(1) == label).sum().item()\n",
        "        total_count += label.size(0)\n",
        "        if idx % log_interval == 0 and idx > 0:\n",
        "            elapsed = time.time() - start_time\n",
        "            print('| epoch {:3d} | {:5d}/{:5d} batches '\n",
        "                  '| accuracy {:8.3f}'.format(epoch, idx, len(dataloader),\n",
        "                                              total_acc/total_count))\n",
        "            total_acc, total_count = 0, 0\n",
        "            start_time = time.time()\n",
        "\n",
        "def evaluate(dataloader):\n",
        "    model.eval()\n",
        "    total_acc, total_count = 0, 0\n",
        "\n",
        "    with torch.no_grad():\n",
        "        for idx, (label, text, offsets) in enumerate(dataloader):\n",
        "            predicted_label = model(text, offsets)\n",
        "            loss = criterion(predicted_label, label)\n",
        "            total_acc += (predicted_label.argmax(1) == label).sum().item()\n",
        "            total_count += label.size(0)\n",
        "    return total_acc/total_count"
      ],
      "metadata": {
        "id": "g5tOgA6NxdOD"
      },
      "execution_count": null,
      "outputs": []
    },
    {
      "cell_type": "code",
      "source": [
        "from torch.utils.data.dataset import random_split\n",
        "from torchtext.data.functional import to_map_style_dataset\n",
        "# Hyperparameters\n",
        "EPOCHS = 10 # epoch\n",
        "LR = 5  # learning rate\n",
        "BATCH_SIZE = 64 # batch size for training\n",
        "\n",
        "criterion = torch.nn.CrossEntropyLoss()\n",
        "optimizer = torch.optim.SGD(model.parameters(), lr=LR)\n",
        "scheduler = torch.optim.lr_scheduler.StepLR(optimizer, 1.0, gamma=0.1)\n",
        "total_accu = None\n",
        "train_iter, test_iter = AG_NEWS()\n",
        "train_dataset = to_map_style_dataset(train_iter)\n",
        "test_dataset = to_map_style_dataset(test_iter)\n",
        "num_train = int(len(train_dataset) * 0.95)\n",
        "split_train_, split_valid_ = \\\n",
        "    random_split(train_dataset, [num_train, len(train_dataset) - num_train])\n",
        "\n",
        "train_dataloader = DataLoader(split_train_, batch_size=BATCH_SIZE,\n",
        "                              shuffle=True, collate_fn=collate_batch)\n",
        "valid_dataloader = DataLoader(split_valid_, batch_size=BATCH_SIZE,\n",
        "                              shuffle=True, collate_fn=collate_batch)\n",
        "test_dataloader = DataLoader(test_dataset, batch_size=BATCH_SIZE,\n",
        "                             shuffle=True, collate_fn=collate_batch)\n",
        "\n",
        "for epoch in range(1, EPOCHS + 1):\n",
        "    epoch_start_time = time.time()\n",
        "    train(train_dataloader)\n",
        "    accu_val = evaluate(valid_dataloader)\n",
        "    if total_accu is not None and total_accu > accu_val:\n",
        "      scheduler.step()\n",
        "    else:\n",
        "       total_accu = accu_val\n",
        "    print('-' * 59)\n",
        "    print('| end of epoch {:3d} | time: {:5.2f}s | '\n",
        "          'valid accuracy {:8.3f} '.format(epoch,\n",
        "                                           time.time() - epoch_start_time,\n",
        "                                           accu_val))\n",
        "    print('-' * 59)"
      ],
      "metadata": {
        "colab": {
          "base_uri": "https://localhost:8080/"
        },
        "id": "9e5vBApwxgGz",
        "outputId": "b8959f3d-bd4d-4207-e6c9-04c93a7cf697"
      },
      "execution_count": null,
      "outputs": [
        {
          "output_type": "stream",
          "name": "stderr",
          "text": [
            "1.86MB [00:00, 16.1MB/s]\n"
          ]
        },
        {
          "output_type": "stream",
          "name": "stdout",
          "text": [
            "| epoch   1 |   500/ 1782 batches | accuracy    0.682\n",
            "| epoch   1 |  1000/ 1782 batches | accuracy    0.852\n",
            "| epoch   1 |  1500/ 1782 batches | accuracy    0.874\n",
            "-----------------------------------------------------------\n",
            "| end of epoch   1 | time: 14.73s | valid accuracy    0.896 \n",
            "-----------------------------------------------------------\n",
            "| epoch   2 |   500/ 1782 batches | accuracy    0.900\n",
            "| epoch   2 |  1000/ 1782 batches | accuracy    0.898\n",
            "| epoch   2 |  1500/ 1782 batches | accuracy    0.903\n",
            "-----------------------------------------------------------\n",
            "| end of epoch   2 | time: 14.60s | valid accuracy    0.908 \n",
            "-----------------------------------------------------------\n",
            "| epoch   3 |   500/ 1782 batches | accuracy    0.913\n",
            "| epoch   3 |  1000/ 1782 batches | accuracy    0.914\n",
            "| epoch   3 |  1500/ 1782 batches | accuracy    0.913\n",
            "-----------------------------------------------------------\n",
            "| end of epoch   3 | time: 14.77s | valid accuracy    0.913 \n",
            "-----------------------------------------------------------\n",
            "| epoch   4 |   500/ 1782 batches | accuracy    0.923\n",
            "| epoch   4 |  1000/ 1782 batches | accuracy    0.923\n",
            "| epoch   4 |  1500/ 1782 batches | accuracy    0.921\n",
            "-----------------------------------------------------------\n",
            "| end of epoch   4 | time: 14.51s | valid accuracy    0.912 \n",
            "-----------------------------------------------------------\n",
            "| epoch   5 |   500/ 1782 batches | accuracy    0.936\n",
            "| epoch   5 |  1000/ 1782 batches | accuracy    0.935\n",
            "| epoch   5 |  1500/ 1782 batches | accuracy    0.939\n",
            "-----------------------------------------------------------\n",
            "| end of epoch   5 | time: 14.47s | valid accuracy    0.919 \n",
            "-----------------------------------------------------------\n",
            "| epoch   6 |   500/ 1782 batches | accuracy    0.936\n",
            "| epoch   6 |  1000/ 1782 batches | accuracy    0.938\n",
            "| epoch   6 |  1500/ 1782 batches | accuracy    0.940\n",
            "-----------------------------------------------------------\n",
            "| end of epoch   6 | time: 14.63s | valid accuracy    0.918 \n",
            "-----------------------------------------------------------\n",
            "| epoch   7 |   500/ 1782 batches | accuracy    0.938\n",
            "| epoch   7 |  1000/ 1782 batches | accuracy    0.939\n",
            "| epoch   7 |  1500/ 1782 batches | accuracy    0.941\n",
            "-----------------------------------------------------------\n",
            "| end of epoch   7 | time: 14.54s | valid accuracy    0.920 \n",
            "-----------------------------------------------------------\n",
            "| epoch   8 |   500/ 1782 batches | accuracy    0.938\n",
            "| epoch   8 |  1000/ 1782 batches | accuracy    0.940\n",
            "| epoch   8 |  1500/ 1782 batches | accuracy    0.939\n",
            "-----------------------------------------------------------\n",
            "| end of epoch   8 | time: 14.57s | valid accuracy    0.920 \n",
            "-----------------------------------------------------------\n",
            "| epoch   9 |   500/ 1782 batches | accuracy    0.940\n",
            "| epoch   9 |  1000/ 1782 batches | accuracy    0.939\n",
            "| epoch   9 |  1500/ 1782 batches | accuracy    0.939\n",
            "-----------------------------------------------------------\n",
            "| end of epoch   9 | time: 14.35s | valid accuracy    0.921 \n",
            "-----------------------------------------------------------\n",
            "| epoch  10 |   500/ 1782 batches | accuracy    0.940\n",
            "| epoch  10 |  1000/ 1782 batches | accuracy    0.939\n",
            "| epoch  10 |  1500/ 1782 batches | accuracy    0.941\n",
            "-----------------------------------------------------------\n",
            "| end of epoch  10 | time: 14.37s | valid accuracy    0.920 \n",
            "-----------------------------------------------------------\n"
          ]
        }
      ]
    },
    {
      "cell_type": "code",
      "source": [
        "# 5장\n",
        "\n",
        "from nltk.corpus import wordnet as wn\n",
        "import nltk\n",
        "nltk.download('wordnet')\n",
        "\n",
        "def hypernyms(word):\n",
        "  current_node = wn.synsets(word)[0]\n",
        "  yield current_node\n",
        "\n",
        "  while True:\n",
        "    try:\n",
        "      current_node = current_node.hypernyms()[0]\n",
        "      yield current_node\n",
        "    except IndexError:\n",
        "      break"
      ],
      "metadata": {
        "colab": {
          "base_uri": "https://localhost:8080/"
        },
        "id": "R870GMY7gKHh",
        "outputId": "a2942bdb-3798-4110-fcc0-118e54e0e446"
      },
      "execution_count": null,
      "outputs": [
        {
          "output_type": "stream",
          "name": "stdout",
          "text": [
            "[nltk_data] Downloading package wordnet to /root/nltk_data...\n",
            "[nltk_data]   Unzipping corpora/wordnet.zip.\n"
          ]
        }
      ]
    },
    {
      "cell_type": "code",
      "source": [
        "wn.synsets('policeman')"
      ],
      "metadata": {
        "colab": {
          "base_uri": "https://localhost:8080/"
        },
        "id": "x4BksceLglWF",
        "outputId": "40717505-4725-4467-e7ef-af05d63ba9f6"
      },
      "execution_count": null,
      "outputs": [
        {
          "output_type": "execute_result",
          "data": {
            "text/plain": [
              "[Synset('policeman.n.01')]"
            ]
          },
          "metadata": {},
          "execution_count": 2
        }
      ]
    },
    {
      "cell_type": "code",
      "source": [
        "for h in hypernyms('policeman'):\n",
        "  print(h)"
      ],
      "metadata": {
        "colab": {
          "base_uri": "https://localhost:8080/"
        },
        "id": "mefRh0CMv1VI",
        "outputId": "d32903a9-60b5-476e-e2af-15b456e9fd2f"
      },
      "execution_count": null,
      "outputs": [
        {
          "output_type": "stream",
          "name": "stdout",
          "text": [
            "Synset('policeman.n.01')\n",
            "Synset('lawman.n.01')\n",
            "Synset('defender.n.01')\n",
            "Synset('preserver.n.03')\n",
            "Synset('person.n.01')\n",
            "Synset('causal_agent.n.01')\n",
            "Synset('physical_entity.n.01')\n",
            "Synset('entity.n.01')\n"
          ]
        }
      ]
    },
    {
      "cell_type": "code",
      "source": [
        "for h in hypernyms('student'):\n",
        "  print(h)"
      ],
      "metadata": {
        "colab": {
          "base_uri": "https://localhost:8080/"
        },
        "id": "Mtq2CIXMv_vf",
        "outputId": "ad8d843f-cf4d-40c1-d6fd-b2f8f28f43c8"
      },
      "execution_count": null,
      "outputs": [
        {
          "output_type": "stream",
          "name": "stdout",
          "text": [
            "Synset('student.n.01')\n",
            "Synset('enrollee.n.01')\n",
            "Synset('person.n.01')\n",
            "Synset('causal_agent.n.01')\n",
            "Synset('physical_entity.n.01')\n",
            "Synset('entity.n.01')\n"
          ]
        }
      ]
    },
    {
      "cell_type": "code",
      "source": [
        "policeman = wn.synset('policeman.n.01')\n",
        "print(policeman.definition())"
      ],
      "metadata": {
        "colab": {
          "base_uri": "https://localhost:8080/"
        },
        "id": "lzkBlNbGiU-m",
        "outputId": "8a37504e-4992-4674-f785-2d6ce899c0ed"
      },
      "execution_count": null,
      "outputs": [
        {
          "output_type": "stream",
          "name": "stdout",
          "text": [
            "a member of a police force\n"
          ]
        }
      ]
    },
    {
      "cell_type": "code",
      "source": [
        "wn.synsets('man')"
      ],
      "metadata": {
        "colab": {
          "base_uri": "https://localhost:8080/"
        },
        "id": "YEIlxdOJjaeu",
        "outputId": "a420913b-e0e1-4ffd-a992-94e3a3e63ad4"
      },
      "execution_count": null,
      "outputs": [
        {
          "output_type": "execute_result",
          "data": {
            "text/plain": [
              "[Synset('man.n.01'),\n",
              " Synset('serviceman.n.01'),\n",
              " Synset('man.n.03'),\n",
              " Synset('homo.n.02'),\n",
              " Synset('man.n.05'),\n",
              " Synset('man.n.06'),\n",
              " Synset('valet.n.01'),\n",
              " Synset('man.n.08'),\n",
              " Synset('man.n.09'),\n",
              " Synset('man.n.10'),\n",
              " Synset('world.n.08'),\n",
              " Synset('man.v.01'),\n",
              " Synset('man.v.02')]"
            ]
          },
          "metadata": {},
          "execution_count": 26
        }
      ]
    },
    {
      "cell_type": "code",
      "source": [
        "man = wn.synset('man.n.01')\n",
        "print(man.definition())"
      ],
      "metadata": {
        "colab": {
          "base_uri": "https://localhost:8080/"
        },
        "id": "gGfTXlqBjnGX",
        "outputId": "695fc9dc-7658-468a-f432-13276899825d"
      },
      "execution_count": null,
      "outputs": [
        {
          "output_type": "stream",
          "name": "stdout",
          "text": [
            "an adult person who is male (as opposed to a woman)\n"
          ]
        }
      ]
    },
    {
      "cell_type": "code",
      "source": [
        "import numpy as np\n",
        "\n",
        "def distance(word1, word2):\n",
        "    word1_hypernyms = [h for h in hypernyms(word1)]\n",
        "\n",
        "    for i, word2_hypernym in enumerate(hypernyms(word2)):\n",
        "        try:\n",
        "            return i + word1_hypernyms.index(word2_hypernym)\n",
        "        except ValueError:\n",
        "            continue\n",
        "\n",
        "print(distance('policeman', 'student'))\n",
        "\n",
        "def similarity(word1, word2):\n",
        "    return -np.log(distance(word1, word2))\n",
        "\n",
        "print(similarity('policeman', 'student'))"
      ],
      "metadata": {
        "colab": {
          "base_uri": "https://localhost:8080/"
        },
        "id": "FXfr8KhYxFJE",
        "outputId": "454d4de6-5cd9-4010-ba1e-b2b94e812aa8"
      },
      "execution_count": null,
      "outputs": [
        {
          "output_type": "stream",
          "name": "stdout",
          "text": [
            "6\n",
            "-1.791759469228055\n"
          ]
        }
      ]
    },
    {
      "cell_type": "code",
      "source": [
        "print(man.hypernym_paths())\n",
        "# 4개의 관계 그래프 경로\n",
        "# 경로의 흐름에 따라 의미가 구체화됨"
      ],
      "metadata": {
        "colab": {
          "base_uri": "https://localhost:8080/"
        },
        "id": "UGHprlwbjvZU",
        "outputId": "1b2bb576-5615-4dcd-9271-6f03bbf26749"
      },
      "execution_count": null,
      "outputs": [
        {
          "output_type": "stream",
          "name": "stdout",
          "text": [
            "[[Synset('entity.n.01'), Synset('physical_entity.n.01'), Synset('causal_agent.n.01'), Synset('person.n.01'), Synset('adult.n.01'), Synset('man.n.01')], [Synset('entity.n.01'), Synset('physical_entity.n.01'), Synset('object.n.01'), Synset('whole.n.02'), Synset('living_thing.n.01'), Synset('organism.n.01'), Synset('person.n.01'), Synset('adult.n.01'), Synset('man.n.01')], [Synset('entity.n.01'), Synset('physical_entity.n.01'), Synset('causal_agent.n.01'), Synset('person.n.01'), Synset('male.n.02'), Synset('man.n.01')], [Synset('entity.n.01'), Synset('physical_entity.n.01'), Synset('object.n.01'), Synset('whole.n.02'), Synset('living_thing.n.01'), Synset('organism.n.01'), Synset('person.n.01'), Synset('male.n.02'), Synset('man.n.01')]]\n"
          ]
        }
      ]
    },
    {
      "cell_type": "code",
      "source": [
        "girl = wn.synset('girl.n.01')\n",
        "woman = wn.synset('woman.n.01')\n",
        "boy = wn.synset('boy.n.01')\n",
        "guy = wn.synset('guy.n.01')\n",
        "print(man.path_similarity(girl))\n",
        "print(man.path_similarity(woman))\n",
        "print(man.path_similarity(man))\n",
        "print(man.path_similarity(boy))\n",
        "print(man.path_similarity(guy))\n",
        "# 1에 가까울수록 유사도가 높음"
      ],
      "metadata": {
        "colab": {
          "base_uri": "https://localhost:8080/"
        },
        "id": "xOkvwqVHj6NM",
        "outputId": "7c428f63-7206-4c85-c709-549a1e0cfbbc"
      },
      "execution_count": null,
      "outputs": [
        {
          "output_type": "stream",
          "name": "stdout",
          "text": [
            "0.25\n",
            "0.3333333333333333\n",
            "1.0\n",
            "0.3333333333333333\n",
            "0.5\n"
          ]
        }
      ]
    },
    {
      "cell_type": "code",
      "source": [
        "'''\n",
        "import pandas as pd\n",
        "\n",
        "def get_term_frequency(document, word_dict=None):\n",
        "  if word_dict is None:\n",
        "    word_dict = {}\n",
        "\n",
        "  words = []\n",
        "  for w in range(len(document)):\n",
        "    words = document[w].split()\n",
        "\n",
        "    for w in words:\n",
        "      word_dict[w] = 1 + (0 if word_dict.get(w) is None else word_dict[w])\n",
        "\n",
        "  return pd.Series(word_dict).sort_values(ascending=False)\n",
        "'''"
      ],
      "metadata": {
        "id": "xxYLKaknkURp",
        "colab": {
          "base_uri": "https://localhost:8080/",
          "height": 73
        },
        "outputId": "5becd306-cdf7-446a-86ae-73e2db88e51f"
      },
      "execution_count": null,
      "outputs": [
        {
          "output_type": "execute_result",
          "data": {
            "text/plain": [
              "'\\nimport pandas as pd\\n\\ndef get_term_frequency(document, word_dict=None):\\n  if word_dict is None:\\n    word_dict = {}\\n\\n  words = []\\n  for w in range(len(document)):\\n    words = document[w].split()\\n\\n    for w in words:\\n      word_dict[w] = 1 + (0 if word_dict.get(w) is None else word_dict[w])\\n  \\n  return pd.Series(word_dict).sort_values(ascending=False)\\n'"
            ],
            "application/vnd.google.colaboratory.intrinsic+json": {
              "type": "string"
            }
          },
          "metadata": {},
          "execution_count": 119
        }
      ]
    },
    {
      "cell_type": "code",
      "source": [
        "def get_document_frequency(documents):\n",
        "  dicts = []\n",
        "  vocab = set([])\n",
        "  df = {}\n",
        "\n",
        "  for d in documents:\n",
        "    tf = get_term_frequency(d)\n",
        "    dicts += [tf]\n",
        "    vocab = vocab | set(tf.keys())\n",
        "\n",
        "  for v in list(vocab):\n",
        "    df[v] = 0\n",
        "    for dict_d in dicts:\n",
        "      if dict_d.get(v) is not None:\n",
        "        df[v] += 1\n",
        "\n",
        "  return pd.Series(df).sort_values(ascending=False)"
      ],
      "metadata": {
        "id": "oUGTyQMrkrYD"
      },
      "execution_count": null,
      "outputs": []
    },
    {
      "cell_type": "code",
      "source": [
        "def get_tfidf(docs):\n",
        "  vocab = {}\n",
        "  tfs = []\n",
        "  for d in docs:\n",
        "    vocab = get_term_frequency(d, vocab)\n",
        "    tfs += [get_term_frequency(d)]\n",
        "  df = get_document_frequency(docs)\n",
        "\n",
        "  from operator import itemgetter\n",
        "  import numpy as np\n",
        "\n",
        "  stats = []\n",
        "  for word, freq in vocab.items():\n",
        "    tfidfs = []\n",
        "    for idx in range(len(docs)):\n",
        "      if tfs[idx].get(word) is not None:\n",
        "        tfidfs += [tfs[idx][word] * np.log(len(docs)/df[word])]\n",
        "      else:\n",
        "        tfidfs += [0]\n",
        "\n",
        "    stats.append((word, freq, *tfidfs, max(tfidfs)))\n",
        "\n",
        "  return pd.DataFrame(stats, columns=('word', 'frequency', 'doc1', 'doc2', 'doc3', 'max')).sort_values('frequency', ascending=False)"
      ],
      "metadata": {
        "id": "Fz3JvSfInPiw"
      },
      "execution_count": null,
      "outputs": []
    },
    {
      "cell_type": "code",
      "source": [
        "!pip install konlpy"
      ],
      "metadata": {
        "colab": {
          "base_uri": "https://localhost:8080/"
        },
        "id": "qUR1RikK2rpN",
        "outputId": "1d3c2ea1-58b6-4fa8-eee1-584925801547"
      },
      "execution_count": null,
      "outputs": [
        {
          "output_type": "stream",
          "name": "stdout",
          "text": [
            "Collecting konlpy\n",
            "  Downloading konlpy-0.6.0-py2.py3-none-any.whl (19.4 MB)\n",
            "\u001b[K     |████████████████████████████████| 19.4 MB 1.2 MB/s \n",
            "\u001b[?25hCollecting JPype1>=0.7.0\n",
            "  Downloading JPype1-1.3.0-cp37-cp37m-manylinux_2_5_x86_64.manylinux1_x86_64.whl (448 kB)\n",
            "\u001b[K     |████████████████████████████████| 448 kB 47.5 MB/s \n",
            "\u001b[?25hRequirement already satisfied: numpy>=1.6 in /usr/local/lib/python3.7/dist-packages (from konlpy) (1.21.5)\n",
            "Requirement already satisfied: lxml>=4.1.0 in /usr/local/lib/python3.7/dist-packages (from konlpy) (4.2.6)\n",
            "Requirement already satisfied: typing-extensions in /usr/local/lib/python3.7/dist-packages (from JPype1>=0.7.0->konlpy) (3.10.0.2)\n",
            "Installing collected packages: JPype1, konlpy\n",
            "Successfully installed JPype1-1.3.0 konlpy-0.6.0\n"
          ]
        }
      ]
    },
    {
      "cell_type": "code",
      "source": [
        "import pandas as pd\n",
        "from konlpy.tag import Hannanum\n",
        "hannanum = Hannanum()\n",
        "\n",
        "def get_term_frequency(document, word_dict=None):\n",
        "  if word_dict is None:\n",
        "    word_dict = {}\n",
        "\n",
        "  words = []\n",
        "  for w in range(len(document)):\n",
        "    sub = hannanum.morphs(doc1[w])\n",
        "    for i in range(len(sub)):\n",
        "      words.append(sub[i])\n",
        "\n",
        "  for w in words:\n",
        "    word_dict[w] = 1 + (0 if word_dict.get(w) is None else word_dict[w])\n",
        "\n",
        "  return pd.Series(word_dict).sort_values(ascending=False)\n",
        "\n",
        "\n",
        "doc1 = list()\n",
        "with open('doc1.txt', encoding='UTF8') as file:\n",
        "    for line in file:\n",
        "        for l in re.split(r\"\\.\\s|\\?\\s|\\!\\s|\\n\", line):\n",
        "            if l: doc1.append(l)"
      ],
      "metadata": {
        "id": "FE9CXux5wWfu"
      },
      "execution_count": null,
      "outputs": []
    },
    {
      "cell_type": "code",
      "source": [
        "from google.colab import files\n",
        "myfile = files.upload()"
      ],
      "metadata": {
        "colab": {
          "resources": {
            "http://localhost:8080/nbextensions/google.colab/files.js": {
              "data": "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",
              "ok": true,
              "headers": [
                [
                  "content-type",
                  "application/javascript"
                ]
              ],
              "status": 200,
              "status_text": ""
            }
          },
          "base_uri": "https://localhost:8080/",
          "height": 77
        },
        "id": "jVrGQmcboO6B",
        "outputId": "79c45d0b-7fdb-4309-bd5d-444051599be9"
      },
      "execution_count": null,
      "outputs": [
        {
          "output_type": "display_data",
          "data": {
            "text/plain": [
              "<IPython.core.display.HTML object>"
            ],
            "text/html": [
              "\n",
              "     <input type=\"file\" id=\"files-e29620f3-c0f0-4bcd-8905-f4f82943c6c6\" name=\"files[]\" multiple disabled\n",
              "        style=\"border:none\" />\n",
              "     <output id=\"result-e29620f3-c0f0-4bcd-8905-f4f82943c6c6\">\n",
              "      Upload widget is only available when the cell has been executed in the\n",
              "      current browser session. Please rerun this cell to enable.\n",
              "      </output>\n",
              "      <script src=\"/nbextensions/google.colab/files.js\"></script> "
            ]
          },
          "metadata": {}
        },
        {
          "output_type": "stream",
          "name": "stdout",
          "text": [
            "Saving doc1.txt to doc1 (1).txt\n"
          ]
        }
      ]
    },
    {
      "cell_type": "code",
      "source": [
        "from google.colab import files\n",
        "myfile = files.upload()"
      ],
      "metadata": {
        "colab": {
          "resources": {
            "http://localhost:8080/nbextensions/google.colab/files.js": {
              "data": "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",
              "ok": true,
              "headers": [
                [
                  "content-type",
                  "application/javascript"
                ]
              ],
              "status": 200,
              "status_text": ""
            }
          },
          "base_uri": "https://localhost:8080/",
          "height": 77
        },
        "id": "-gjaUFnjoYDr",
        "outputId": "e43fd273-349b-4753-d00a-b351351d0e77"
      },
      "execution_count": null,
      "outputs": [
        {
          "output_type": "display_data",
          "data": {
            "text/plain": [
              "<IPython.core.display.HTML object>"
            ],
            "text/html": [
              "\n",
              "     <input type=\"file\" id=\"files-656b577f-33e7-43aa-bd6d-537f7c55d7ad\" name=\"files[]\" multiple disabled\n",
              "        style=\"border:none\" />\n",
              "     <output id=\"result-656b577f-33e7-43aa-bd6d-537f7c55d7ad\">\n",
              "      Upload widget is only available when the cell has been executed in the\n",
              "      current browser session. Please rerun this cell to enable.\n",
              "      </output>\n",
              "      <script src=\"/nbextensions/google.colab/files.js\"></script> "
            ]
          },
          "metadata": {}
        },
        {
          "output_type": "stream",
          "name": "stdout",
          "text": [
            "Saving doc2.txt to doc2 (1).txt\n"
          ]
        }
      ]
    },
    {
      "cell_type": "code",
      "source": [
        "from google.colab import files\n",
        "myfile = files.upload()"
      ],
      "metadata": {
        "colab": {
          "resources": {
            "http://localhost:8080/nbextensions/google.colab/files.js": {
              "data": "Ly8gQ29weXJpZ2h0IDIwMTcgR29vZ2xlIExMQwovLwovLyBMaWNlbnNlZCB1bmRlciB0aGUgQXBhY2hlIExpY2Vuc2UsIFZlcnNpb24gMi4wICh0aGUgIkxpY2Vuc2UiKTsKLy8geW91IG1heSBub3QgdXNlIHRoaXMgZmlsZSBleGNlcHQgaW4gY29tcGxpYW5jZSB3aXRoIHRoZSBMaWNlbnNlLgovLyBZb3UgbWF5IG9idGFpbiBhIGNvcHkgb2YgdGhlIExpY2Vuc2UgYXQKLy8KLy8gICAgICBodHRwOi8vd3d3LmFwYWNoZS5vcmcvbGljZW5zZXMvTElDRU5TRS0yLjAKLy8KLy8gVW5sZXNzIHJlcXVpcmVkIGJ5IGFwcGxpY2FibGUgbGF3IG9yIGFncmVlZCB0byBpbiB3cml0aW5nLCBzb2Z0d2FyZQovLyBkaXN0cmlidXRlZCB1bmRlciB0aGUgTGljZW5zZSBpcyBkaXN0cmlidXRlZCBvbiBhbiAiQVMgSVMiIEJBU0lTLAovLyBXSVRIT1VUIFdBUlJBTlRJRVMgT1IgQ09ORElUSU9OUyBPRiBBTlkgS0lORCwgZWl0aGVyIGV4cHJlc3Mgb3IgaW1wbGllZC4KLy8gU2VlIHRoZSBMaWNlbnNlIGZvciB0aGUgc3BlY2lmaWMgbGFuZ3VhZ2UgZ292ZXJuaW5nIHBlcm1pc3Npb25zIGFuZAovLyBsaW1pdGF0aW9ucyB1bmRlciB0aGUgTGljZW5zZS4KCi8qKgogKiBAZmlsZW92ZXJ2aWV3IEhlbHBlcnMgZm9yIGdvb2dsZS5jb2xhYiBQeXRob24gbW9kdWxlLgogKi8KKGZ1bmN0aW9uKHNjb3BlKSB7CmZ1bmN0aW9uIHNwYW4odGV4dCwgc3R5bGVBdHRyaWJ1dGVzID0ge30pIHsKICBjb25zdCBlbGVtZW50ID0gZG9jdW1lbnQuY3JlYXRlRWxlbWVudCgnc3BhbicpOwogIGVsZW1lbnQudGV4dENvbnRlbnQgPSB0ZXh0OwogIGZvciAoY29uc3Qga2V5IG9mIE9iamVjdC5rZXlzKHN0eWxlQXR0cmlidXRlcykpIHsKICAgIGVsZW1lbnQuc3R5bGVba2V5XSA9IHN0eWxlQXR0cmlidXRlc1trZXldOwogIH0KICByZXR1cm4gZWxlbWVudDsKfQoKLy8gTWF4IG51bWJlciBvZiBieXRlcyB3aGljaCB3aWxsIGJlIHVwbG9hZGVkIGF0IGEgdGltZS4KY29uc3QgTUFYX1BBWUxPQURfU0laRSA9IDEwMCAqIDEwMjQ7CgpmdW5jdGlvbiBfdXBsb2FkRmlsZXMoaW5wdXRJZCwgb3V0cHV0SWQpIHsKICBjb25zdCBzdGVwcyA9IHVwbG9hZEZpbGVzU3RlcChpbnB1dElkLCBvdXRwdXRJZCk7CiAgY29uc3Qgb3V0cHV0RWxlbWVudCA9IGRvY3VtZW50LmdldEVsZW1lbnRCeUlkKG91dHB1dElkKTsKICAvLyBDYWNoZSBzdGVwcyBvbiB0aGUgb3V0cHV0RWxlbWVudCB0byBtYWtlIGl0IGF2YWlsYWJsZSBmb3IgdGhlIG5leHQgY2FsbAogIC8vIHRvIHVwbG9hZEZpbGVzQ29udGludWUgZnJvbSBQeXRob24uCiAgb3V0cHV0RWxlbWVudC5zdGVwcyA9IHN0ZXBzOwoKICByZXR1cm4gX3VwbG9hZEZpbGVzQ29udGludWUob3V0cHV0SWQpOwp9CgovLyBUaGlzIGlzIHJvdWdobHkgYW4gYXN5bmMgZ2VuZXJhdG9yIChub3Qgc3VwcG9ydGVkIGluIHRoZSBicm93c2VyIHlldCksCi8vIHdoZXJlIHRoZXJlIGFyZSBtdWx0aXBsZSBhc3luY2hyb25vdXMgc3RlcHMgYW5kIHRoZSBQeXRob24gc2lkZSBpcyBnb2luZwovLyB0byBwb2xsIGZvciBjb21wbGV0aW9uIG9mIGVhY2ggc3RlcC4KLy8gVGhpcyB1c2VzIGEgUHJvbWlzZSB0byBibG9jayB0aGUgcHl0aG9uIHNpZGUgb24gY29tcGxldGlvbiBvZiBlYWNoIHN0ZXAsCi8vIHRoZW4gcGFzc2VzIHRoZSByZXN1bHQgb2YgdGhlIHByZXZpb3VzIHN0ZXAgYXMgdGhlIGlucHV0IHRvIHRoZSBuZXh0IHN0ZXAuCmZ1bmN0aW9uIF91cGxvYWRGaWxlc0NvbnRpbnVlKG91dHB1dElkKSB7CiAgY29uc3Qgb3V0cHV0RWxlbWVudCA9IGRvY3VtZW50LmdldEVsZW1lbnRCeUlkKG91dHB1dElkKTsKICBjb25zdCBzdGVwcyA9IG91dHB1dEVsZW1lbnQuc3RlcHM7CgogIGNvbnN0IG5leHQgPSBzdGVwcy5uZXh0KG91dHB1dEVsZW1lbnQubGFzdFByb21pc2VWYWx1ZSk7CiAgcmV0dXJuIFByb21pc2UucmVzb2x2ZShuZXh0LnZhbHVlLnByb21pc2UpLnRoZW4oKHZhbHVlKSA9PiB7CiAgICAvLyBDYWNoZSB0aGUgbGFzdCBwcm9taXNlIHZhbHVlIHRvIG1ha2UgaXQgYXZhaWxhYmxlIHRvIHRoZSBuZXh0CiAgICAvLyBzdGVwIG9mIHRoZSBnZW5lcmF0b3IuCiAgICBvdXRwdXRFbGVtZW50Lmxhc3RQcm9taXNlVmFsdWUgPSB2YWx1ZTsKICAgIHJldHVybiBuZXh0LnZhbHVlLnJlc3BvbnNlOwogIH0pOwp9CgovKioKICogR2VuZXJhdG9yIGZ1bmN0aW9uIHdoaWNoIGlzIGNhbGxlZCBiZXR3ZWVuIGVhY2ggYXN5bmMgc3RlcCBvZiB0aGUgdXBsb2FkCiAqIHByb2Nlc3MuCiAqIEBwYXJhbSB7c3RyaW5nfSBpbnB1dElkIEVsZW1lbnQgSUQgb2YgdGhlIGlucHV0IGZpbGUgcGlja2VyIGVsZW1lbnQuCiAqIEBwYXJhbSB7c3RyaW5nfSBvdXRwdXRJZCBFbGVtZW50IElEIG9mIHRoZSBvdXRwdXQgZGlzcGxheS4KICogQHJldHVybiB7IUl0ZXJhYmxlPCFPYmplY3Q+fSBJdGVyYWJsZSBvZiBuZXh0IHN0ZXBzLgogKi8KZnVuY3Rpb24qIHVwbG9hZEZpbGVzU3RlcChpbnB1dElkLCBvdXRwdXRJZCkgewogIGNvbnN0IGlucHV0RWxlbWVudCA9IGRvY3VtZW50LmdldEVsZW1lbnRCeUlkKGlucHV0SWQpOwogIGlucHV0RWxlbWVudC5kaXNhYmxlZCA9IGZhbHNlOwoKICBjb25zdCBvdXRwdXRFbGVtZW50ID0gZG9jdW1lbnQuZ2V0RWxlbWVudEJ5SWQob3V0cHV0SWQpOwogIG91dHB1dEVsZW1lbnQuaW5uZXJIVE1MID0gJyc7CgogIGNvbnN0IHBpY2tlZFByb21pc2UgPSBuZXcgUHJvbWlzZSgocmVzb2x2ZSkgPT4gewogICAgaW5wdXRFbGVtZW50LmFkZEV2ZW50TGlzdGVuZXIoJ2NoYW5nZScsIChlKSA9PiB7CiAgICAgIHJlc29sdmUoZS50YXJnZXQuZmlsZXMpOwogICAgfSk7CiAgfSk7CgogIGNvbnN0IGNhbmNlbCA9IGRvY3VtZW50LmNyZWF0ZUVsZW1lbnQoJ2J1dHRvbicpOwogIGlucHV0RWxlbWVudC5wYXJlbnRFbGVtZW50LmFwcGVuZENoaWxkKGNhbmNlbCk7CiAgY2FuY2VsLnRleHRDb250ZW50ID0gJ0NhbmNlbCB1cGxvYWQnOwogIGNvbnN0IGNhbmNlbFByb21pc2UgPSBuZXcgUHJvbWlzZSgocmVzb2x2ZSkgPT4gewogICAgY2FuY2VsLm9uY2xpY2sgPSAoKSA9PiB7CiAgICAgIHJlc29sdmUobnVsbCk7CiAgICB9OwogIH0pOwoKICAvLyBXYWl0IGZvciB0aGUgdXNlciB0byBwaWNrIHRoZSBmaWxlcy4KICBjb25zdCBmaWxlcyA9IHlpZWxkIHsKICAgIHByb21pc2U6IFByb21pc2UucmFjZShbcGlja2VkUHJvbWlzZSwgY2FuY2VsUHJvbWlzZV0pLAogICAgcmVzcG9uc2U6IHsKICAgICAgYWN0aW9uOiAnc3RhcnRpbmcnLAogICAgfQogIH07CgogIGNhbmNlbC5yZW1vdmUoKTsKCiAgLy8gRGlzYWJsZSB0aGUgaW5wdXQgZWxlbWVudCBzaW5jZSBmdXJ0aGVyIHBpY2tzIGFyZSBub3QgYWxsb3dlZC4KICBpbnB1dEVsZW1lbnQuZGlzYWJsZWQgPSB0cnVlOwoKICBpZiAoIWZpbGVzKSB7CiAgICByZXR1cm4gewogICAgICByZXNwb25zZTogewogICAgICAgIGFjdGlvbjogJ2NvbXBsZXRlJywKICAgICAgfQogICAgfTsKICB9CgogIGZvciAoY29uc3QgZmlsZSBvZiBmaWxlcykgewogICAgY29uc3QgbGkgPSBkb2N1bWVudC5jcmVhdGVFbGVtZW50KCdsaScpOwogICAgbGkuYXBwZW5kKHNwYW4oZmlsZS5uYW1lLCB7Zm9udFdlaWdodDogJ2JvbGQnfSkpOwogICAgbGkuYXBwZW5kKHNwYW4oCiAgICAgICAgYCgke2ZpbGUudHlwZSB8fCAnbi9hJ30pIC0gJHtmaWxlLnNpemV9IGJ5dGVzLCBgICsKICAgICAgICBgbGFzdCBtb2RpZmllZDogJHsKICAgICAgICAgICAgZmlsZS5sYXN0TW9kaWZpZWREYXRlID8gZmlsZS5sYXN0TW9kaWZpZWREYXRlLnRvTG9jYWxlRGF0ZVN0cmluZygpIDoKICAgICAgICAgICAgICAgICAgICAgICAgICAgICAgICAgICAgJ24vYSd9IC0gYCkpOwogICAgY29uc3QgcGVyY2VudCA9IHNwYW4oJzAlIGRvbmUnKTsKICAgIGxpLmFwcGVuZENoaWxkKHBlcmNlbnQpOwoKICAgIG91dHB1dEVsZW1lbnQuYXBwZW5kQ2hpbGQobGkpOwoKICAgIGNvbnN0IGZpbGVEYXRhUHJvbWlzZSA9IG5ldyBQcm9taXNlKChyZXNvbHZlKSA9PiB7CiAgICAgIGNvbnN0IHJlYWRlciA9IG5ldyBGaWxlUmVhZGVyKCk7CiAgICAgIHJlYWRlci5vbmxvYWQgPSAoZSkgPT4gewogICAgICAgIHJlc29sdmUoZS50YXJnZXQucmVzdWx0KTsKICAgICAgfTsKICAgICAgcmVhZGVyLnJlYWRBc0FycmF5QnVmZmVyKGZpbGUpOwogICAgfSk7CiAgICAvLyBXYWl0IGZvciB0aGUgZGF0YSB0byBiZSByZWFkeS4KICAgIGxldCBmaWxlRGF0YSA9IHlpZWxkIHsKICAgICAgcHJvbWlzZTogZmlsZURhdGFQcm9taXNlLAogICAgICByZXNwb25zZTogewogICAgICAgIGFjdGlvbjogJ2NvbnRpbnVlJywKICAgICAgfQogICAgfTsKCiAgICAvLyBVc2UgYSBjaHVua2VkIHNlbmRpbmcgdG8gYXZvaWQgbWVzc2FnZSBzaXplIGxpbWl0cy4gU2VlIGIvNjIxMTU2NjAuCiAgICBsZXQgcG9zaXRpb24gPSAwOwogICAgZG8gewogICAgICBjb25zdCBsZW5ndGggPSBNYXRoLm1pbihmaWxlRGF0YS5ieXRlTGVuZ3RoIC0gcG9zaXRpb24sIE1BWF9QQVlMT0FEX1NJWkUpOwogICAgICBjb25zdCBjaHVuayA9IG5ldyBVaW50OEFycmF5KGZpbGVEYXRhLCBwb3NpdGlvbiwgbGVuZ3RoKTsKICAgICAgcG9zaXRpb24gKz0gbGVuZ3RoOwoKICAgICAgY29uc3QgYmFzZTY0ID0gYnRvYShTdHJpbmcuZnJvbUNoYXJDb2RlLmFwcGx5KG51bGwsIGNodW5rKSk7CiAgICAgIHlpZWxkIHsKICAgICAgICByZXNwb25zZTogewogICAgICAgICAgYWN0aW9uOiAnYXBwZW5kJywKICAgICAgICAgIGZpbGU6IGZpbGUubmFtZSwKICAgICAgICAgIGRhdGE6IGJhc2U2NCwKICAgICAgICB9LAogICAgICB9OwoKICAgICAgbGV0IHBlcmNlbnREb25lID0gZmlsZURhdGEuYnl0ZUxlbmd0aCA9PT0gMCA/CiAgICAgICAgICAxMDAgOgogICAgICAgICAgTWF0aC5yb3VuZCgocG9zaXRpb24gLyBmaWxlRGF0YS5ieXRlTGVuZ3RoKSAqIDEwMCk7CiAgICAgIHBlcmNlbnQudGV4dENvbnRlbnQgPSBgJHtwZXJjZW50RG9uZX0lIGRvbmVgOwoKICAgIH0gd2hpbGUgKHBvc2l0aW9uIDwgZmlsZURhdGEuYnl0ZUxlbmd0aCk7CiAgfQoKICAvLyBBbGwgZG9uZS4KICB5aWVsZCB7CiAgICByZXNwb25zZTogewogICAgICBhY3Rpb246ICdjb21wbGV0ZScsCiAgICB9CiAgfTsKfQoKc2NvcGUuZ29vZ2xlID0gc2NvcGUuZ29vZ2xlIHx8IHt9OwpzY29wZS5nb29nbGUuY29sYWIgPSBzY29wZS5nb29nbGUuY29sYWIgfHwge307CnNjb3BlLmdvb2dsZS5jb2xhYi5fZmlsZXMgPSB7CiAgX3VwbG9hZEZpbGVzLAogIF91cGxvYWRGaWxlc0NvbnRpbnVlLAp9Owp9KShzZWxmKTsK",
              "ok": true,
              "headers": [
                [
                  "content-type",
                  "application/javascript"
                ]
              ],
              "status": 200,
              "status_text": ""
            }
          },
          "base_uri": "https://localhost:8080/",
          "height": 77
        },
        "id": "raUqxTkkoaf1",
        "outputId": "fd3709e1-4854-419c-9400-f1eb81773f80"
      },
      "execution_count": null,
      "outputs": [
        {
          "output_type": "display_data",
          "data": {
            "text/plain": [
              "<IPython.core.display.HTML object>"
            ],
            "text/html": [
              "\n",
              "     <input type=\"file\" id=\"files-1da6c1e8-ee63-4692-a28e-4cbdadc4222c\" name=\"files[]\" multiple disabled\n",
              "        style=\"border:none\" />\n",
              "     <output id=\"result-1da6c1e8-ee63-4692-a28e-4cbdadc4222c\">\n",
              "      Upload widget is only available when the cell has been executed in the\n",
              "      current browser session. Please rerun this cell to enable.\n",
              "      </output>\n",
              "      <script src=\"/nbextensions/google.colab/files.js\"></script> "
            ]
          },
          "metadata": {}
        },
        {
          "output_type": "stream",
          "name": "stdout",
          "text": [
            "Saving doc3.txt to doc3 (1).txt\n"
          ]
        }
      ]
    },
    {
      "cell_type": "code",
      "source": [
        "import re\n",
        "\n",
        "doc1 = list()\n",
        "with open('doc1.txt', encoding='UTF8') as file:\n",
        "    for line in file:\n",
        "        for l in re.split(r\"\\.\\s|\\?\\s|\\!\\s|\\n\", line):\n",
        "            if l: doc1.append(l)\n",
        "\n",
        "doc2 = list()\n",
        "with open('doc2.txt', encoding='UTF8') as file:\n",
        "    for line in file:\n",
        "        for l in re.split(r\"\\.\\s|\\?\\s|\\!\\s|\\n\", line):\n",
        "            if l: doc2.append(l)\n",
        "\n",
        "doc3 = list()\n",
        "with open('doc3.txt', encoding='UTF8') as file:\n",
        "    for line in file:\n",
        "        for l in re.split(r\"\\.\\s|\\?\\s|\\!\\s|\\n\", line):\n",
        "            if l: doc3.append(l)\n"
      ],
      "metadata": {
        "id": "eWtBfUKWodOK"
      },
      "execution_count": null,
      "outputs": []
    },
    {
      "cell_type": "code",
      "source": [
        "words = []\n",
        "for w in range(len(doc3)):\n",
        "    sub = hannanum.morphs(doc3[w])\n",
        "    for i in range(len(sub)):\n",
        "      words.append(sub[i])\n",
        "\n",
        "pre = ' '.join(words)\n",
        "print(pre)"
      ],
      "metadata": {
        "colab": {
          "base_uri": "https://localhost:8080/"
        },
        "id": "Vn9Z31OA47ya",
        "outputId": "357ea465-f717-4b3b-c7fb-47876252ecfe"
      },
      "execution_count": null,
      "outputs": [
        {
          "output_type": "stream",
          "name": "stdout",
          "text": [
            "바 에 가 아 보 시ㄴ 적 있 으시죠 하 지만 바 에 가 ㄴ 덕분 에 2억 달러 짜리 계약 을 따 게 되 ㄴ 적 은 없 을 거 이 예요 10년 전 에 우리 에게 그러 ㄴ 일 이 있 었습니다 끔찍 하 ㄴ 하루 이 었던 어느 날 이 었어요 크 ㄴ 고객사가 우리 를 거의 죽이 려 들 었거든요 우리 는 소프트웨어 컨설팅 회사 이 었는데 특정 프로그래밍 스킬 이 없 어서 고객 이 원하 는 최첨단 클라우드 시스템 을 구축 하 ㄹ 수 없 었습니다 엔지니어 는 많 아지만 아무 도 그 고객 을 만족 시키 ㄹ 수 없 었습니다 우리 는 거의 잘리 ㄹ 지경 이 었죠 그래서 우리 는 바 에 가 아ㅂ니다 거기 서 바텐더 제프 와 이런저런 얘 이 기 를 나누 었죠 그 는 좋 은 바텐더 가 하 ㄹ 일 을 다 하 어 주 었습니다 우리 얘 이 기 에 공감 하 어 주 고 , 기분 을 풀 어 주 고 우리 고충 을 달래 기 도 하 었죠 \" 그 고객들 이 너무 하 었네요 신경쓰 지 말 세 요 .\" 그러 어다 그 는 진지 하 게 이렇 게 말 하 었습니다 \" 저 를 그 고객사 로 보내 어 주세요 저 가 방법 을 찾 아 볼게요 .\" 다음날 아침 , 우리 는 팀 회의 를 하 었습니다 물론 다들 술 이 덜 깨 ㄴ 상태 이 었죠 .. 저 는 반농담조 로 말 하 었습니다 뭐 어차피 잘리 ㄹ 판이 이 었으니까요 이렇 게 말 하 었죠 \" 바텐더 제프 를 보내 면 어떨까요 ?\" 잠시 침묵 이 흐르 고 다들 놀라 는 듯 하 더니 마침내 팀장 이 말 하 었습니다 \" 좋 은 아이디어 이 군 요 .\" \"제프 는 매우 똑똑하 고 뛰 어 나 ㄴ 사람 이 죠 뭔가 방법 을 찾 을 거 ㅂ니다 그 를 고객 에게 보내 ㅂ시다 .\" 제프 는 프로그래머 가 아니 ㅂ니다 . 사실 , 펜실베니아 대학 에서 철학 을 공부 하 어다 중퇴 하 었죠 하 지만 똑똑하 었습니다 문제 를 깊이 보 ㄹ 능력 이 있 었죠 우리 도 자 ㄹ 리 이 기 직전 이 라 그래서 그 를 보내 었습니다 긴장 의 몇 일 이 지나 ㄴ 후 제프 는 계속 고객사 에 있 었습니다 고객 은 그 를 돌리 어 보내 지 않 아아 전 믿 을 수 없 었습니다 뭐 을 어떻 게 하 었을까요 내막 은 이르 어 하 었습니다 그 는 고객 의 프로그래밍 스킬 에 대하 ㄴ 집착 을 완전히 버리 게 만들 었습니다 그리고 논 의 주제 를 바꾸 었죠 심지어 우리 가 만들 려던 대상 까지 바꾸 어 버리 었습니다 무엇 을 만들 지 오 아 만들 는 목적 이 논 의 주제 가 되 이 었습니다 물론 , 제프 는 해결책 을 프로그래밍하 는 방법 을 찾 아 내 었고 그 고객사 는 주요 참 고 사례 중 하나 가 되 이 었습니다 당시 200명 의 직원 이 있 었고 절반 은 컴퓨터 과학 이나 공학 전공자 이 었습니다 제프 의 사례 로 한가지 의문점 이 남 아죠 우리 업무 에 다시 적용 하 ㄹ 수 있을까 그래서 우리 는 채용 과 교육방식 을 바꾸 었습니다 컴퓨터 과학 이나 공학 전공자 를 계속 찾 으면 서도 예술 가 , 음악 가 , 작가 를 간간이 포함 시키 었습니다 그리 고 , 제프 와 같 은 경우 가 반복 하 어서 나타나 기 시작 하 었습니다 우리 최고 기술 책임자(CTO) 는 영어 전공자 이 ㅂ니다 맨해튼 에서 자전거 택배 를 하 기 도 하 었죠 현재 는 직원 이 1,000명 이 되 었고 여전히 100명 이하 의 컴퓨터 과학 이나 공학 전공자 가 있 고 여전히 컴퓨터 컨설팅 회사 이 ㅂ니다 우리 는 시장 에서 일등 기업 이 고 급 성장 하 는 소프트웨어 패키지 를 만들 고 연매출 이 100억 달러 에 가깝 습니다 효과 가 있 었던 거 이 죠 반면 우리나라 에서 STEM 기반 교육 에 대하 ㄴ 강요 는 -- 과학 , 기술 , 공학 , 수학 -- 극심 하 ㅂ니다 이 는 우리 모두 의 모습 이 ㅂ니다 그리고 엄청나 ㄴ 실수 이 ㅂ니다 2009년 이후 , 미국 의 STEM 전공자 는 43 % 증가 하 었습니다 반면 인문학 전공자 수 는 동일 하 ㅂ니다 우리 의 전 대통령 은 10억 다르 아 이상 을 STEM 교육 에 투자 하 었습니다 다른 과목 의 예산 을 줄 이 면서 말 이 죠 그리고 현 대통령 은 최근 교육부 예산 중 2억 달러 를 컴퓨터 과학 쪽 에 투자 하 었습니다 기업 CEO 들 은 늘 공학전공 인력 이 부족 하 다 고 불평 하 ㅂ니다 이런 움직이 ㅁ 은 기술 경제 의 명백한 성공 과 맞물리 게 되 이 었습니다 그러 니까 , 솔직히 말 하 어서 시가총액 으로 뜨 어 지 어서 세계 10대 기업 중 7개 는 기술 관련 회사 이 ㅂ니다 이 로부터 예측 되 는 것 은 미래 인력 의 경력 은 STEM 으로 채우 어 지 ㄹ 것 이 라는 것 이 ㅂ니다 좋 아요 이론적 으로 맞 습니다 매력적 이 기 도 하 죠 하 지만 완전히 과대평가 되 었습니다 축구팀 서 ㄴ 수 모두 가 공 을 따르 아 한곳 구석 으로 모이 는 모양새 이 ㅂ니다 공 이 거기 있 으니까요 STEM 에 너무 가치 를 부 이 어 하 어서 는 안 되 ㅂ니다 더 이상 인문학 이상 으로 과학 에 가치 를 부 이 어 하 면 안 되 ㅂ니다 여기 에는 몇 가지 이유 가 있 습니다 첫째 , 오늘날 기술 은 너무나 도 직관적 이 ㅂ니다 우리 가 다양 하 ㄴ 전공자 를 채용 하 ㄹ 수 있 었고 다른 전문 분야 에 눈 을 돌리 ㄹ 수 있 었던 이유 는 최신 시스템 은 프로그래밍 기술 이 없 어도 다루 ㄹ 수 있 기 때문 이 ㅂ니다 레 이 고 처럼 쉽 게 조립 하고 , 배우 기 쉽 고 , 프로그래밍 도 쉽 습니다 학습 에 필요 하 ㄴ 광범위 하 ㄴ 정보 가 주 어 지 기 때문 이 죠 물론 , 우리 인력 은 전문적 이 ㄴ 능력 이 필요 하 ㅂ니다 하 지만 그 능력 은 휠씬 덜 엄격 하고 덜 정형화 되 ㄴ 교육 만 있 으면 되 ㅂ니다 과거 에 비하 어서 말 이 죠 둘째 , 반드시 필요 하고 차별화 되 는 능력 은 직관적 이 ㄴ 기술 의 세계 에서 인간 으로서 함께 일 하 는 데 에 도움 을 주 는 능력 이 ㅂ니다 열심히 일 하 ㄴ다는 것 은 최종 산출물 을 구상 하 는 것 이 죠 그 효용성 도 포함해서요 이 는 실제 세계 의 경험 과 판단 , 역사적 맥락 이 요구 되 ㅂ니다 제프 의 사례 에서 배우 ㄴ 것 은 고객 이 잘못된 곳 에 집중 하 었다는 것 이 ㅂ니다 전형적 이 ㄴ 형태 는 이렇 습니다 기술자 는 기업 이나 최종 사용자 와 소통 하 기 위하 어 애쓰 고 기업 은 자신 의 요구 사항 을 분명 하 게 설명 하 지 못하 ㅂ니다 저 는 이런 경우 를 매일 보 ㅂ니다 우리 는 표면 만 겉돌고 있 습니다 인간 으로서 서로 소통 하고 개발 하 는 우리 의 능력 에 있 어서 말 이 ㅂ니다 과학 이 무언가 를 어떻 게 만들 ㄹ 지 에 대 어 하 어 가르치 어 주 는 반면 에 인문학 은 무엇 을 만들 어야 하 고 왜 만들 어야 하 는 지 를 알 려 줄 ㅂ니다 이 둘 모두 똑같이 중요 하고 둘 다 어렵 습니다 저 가 불편함 을 느끼 는 때 는 사람 들 이 인문학 을 덜 중요 하고 더 쉽 은 경력 으로 취급 하 ㄹ 때 이 ㅂ니다 여러분 인문학 은 우리 에게 세상 의 맥락 을 제공 하 ㅂ니다 우리 에게 비판적 으로 사 고 하 는 방법 을 알 려 줄 ㅂ니다 인문학 은 의도적 으로 구조화 되 지 않 아ㅂ니다 반면 과학 은 의도적 으로 구조화 되 었습니다 인문학 은 설득 을 가르치 고 언어 를 제공 하 ㅂ니다 우리 는 이 를 통하 어 감성 을 사 고 오 아 행동 으로 전환 하 ㅂ니다 인문학 은 과학 과 동등 하 게 취급 되 어야 하 ㅂ니다 여러분 도 많 은 예술가 를 채용 하 어 기술 회사 를 설립 하 ㄹ 수 있 습니다 그러면 엄청나 ㄴ 결과 를 얻 을 것 이 ㅂ니다 저 는 오늘 여기 에 STEM 이 나쁘 다 고 말 하 려고 오 ㄴ 것 은 아니 ㅂ니다 . 여성 프로그래머 를 반대 하 려는 것 도 아니에요 제발 저 가 운전 하 어 가 ㄹ 다음 다리 혹은 우리 가 타 ㄹ 다음 엘리베이터 .. 그 이면 에는 공학 이 있 음 을 분명히 합 시 이 다 그러나 이런 편집증 에 잘못 빠지 면 우리 의 미래 직업 을 STEM 이 지배 하 ㄹ 것 이 ㅂ니다 그것 은 어리석 은 것 이 ㅂ니다 여러분 이 친구 , 자녀 , 친척 , 손주 혹은 여자 조카 , 남자 조카 가 있 다면 그 들 이 원하 는 대 로 하 ㄹ 수 있 도록 격려 하 어 주 이 십시오 그곳 에 일자리 가 있 을 것 이 ㅂ니다 기술 CEO 들 은 STEM 졸업장 을 요구 하 ㅂ니다 그 들 이 누구 를 채용 하 는지 아세요 구글, 애플 , 페이스북 이 들 회사 의 일자리 중 65 % 는 기술직 이 아니 ㅂ니다 . 판매직 , 디자이너 , 프로젝트 매니저 , 프로그램 매니저 제품 매니저 , 변호사 , 인사 관리 전문 가 강사 , 코치 , 영업 , 구매담당자 등 이 ㅂ니다 이런 일 을 하 ㄹ 사람들 을 찾 고 있 습니다 미래 인력 에게 필요 하 ㄴ 한가지 가 있 습니다 다들 동의 하 시ㄹ 것 이 라 생각 하 어요 바로 다양성 이 ㅂ니다 하 지만 그러 ㄴ 다양성 이 성별 이나 인종 으로 끝나 아 안 되 ㅂ니다 우리 에게 필요 하 ㄴ 거 은 배경 의 다양성 이 ㅂ니다 그리고 능력 의 다양성 이 죠 내성적 이 ㄴ 사람 과 외향적 이 ㄴ 사람 앞 서는 사람 과 뒤따르 는 사람 이 있 습니다 그것 이 우리 미래 의 인력 이 ㅂ니다 기술 이 점점 쉽 고 더 간편해지 고 있 으니 그러 ㄴ 인력들 이 자유 롭 게 자신 이 잘하 는 것 을 배우 도록 하 어 주 세 요 .\n"
          ]
        }
      ]
    },
    {
      "cell_type": "code",
      "source": [
        "import re\n",
        "\n",
        "doc1 = list()\n",
        "with open('doc1.txt', encoding='UTF8') as file:\n",
        "    for line in file:\n",
        "        for l in re.split(r\" \", line):\n",
        "            if l: doc1.append(l)\n",
        "\n",
        "doc2 = list()\n",
        "with open('doc2.txt', encoding='UTF8') as file:\n",
        "    for line in file:\n",
        "        for l in re.split(r\" \", line):\n",
        "            if l: doc2.append(l)\n",
        "\n",
        "doc3 = list()\n",
        "with open('doc3.txt', encoding='UTF8') as file:\n",
        "    for line in file:\n",
        "        for l in re.split(r\" \", line):\n",
        "            if l: doc3.append(l)\n"
      ],
      "metadata": {
        "id": "FIcGzeDR6sAP"
      },
      "execution_count": null,
      "outputs": []
    },
    {
      "cell_type": "code",
      "source": [
        "word_tokens = doc1\n",
        "stop_words = \"ㄴ ㄹ ㅂ니다 을 를 는 이 가 있 습니다 의 과 ,\"\n",
        "\n",
        "result = []\n",
        "for w in word_tokens:\n",
        "  if w not in stop_words:\n",
        "    result.append(w)\n",
        "\n",
        "print(word_tokens,'\\n')\n",
        "print(result)\n"
      ],
      "metadata": {
        "colab": {
          "base_uri": "https://localhost:8080/"
        },
        "id": "Dz9Cz3DT53wv",
        "outputId": "911fe3df-15f0-41e1-f520-c17bf0074a52"
      },
      "execution_count": null,
      "outputs": [
        {
          "output_type": "stream",
          "name": "stdout",
          "text": [
            "['오늘', '저는', '기술이', '어떤', '방향으로', '가고', '있는지에', '대해', '얘기해볼까', '합니다.', '흔히,', '기술을', '처음', '접할', '때', '우리는', '기술이', '가져다', '주는', '것에', '대해', '놀라곤', '합니다.', '하지만', '사실', '기술의', '대부분은', '예측이', '가능합니다.', '이는', '모든', '종류의', '기술', '시스템이', '각각의', '성향을', '가지기', '때문입니다.', '기술마다', '긴급한', '부분이', '있고', '일정한', '경향성을', '띄기', '마련입니다.', '그리고', '그런', '경향들은', '물리학의', '본질이나', '선과', '스위치', '간의', '화학', ',그리고', '전자등으로부터', '유래되고', '이는', '반복되는', '패턴을', '끊임없이', '만들어냅니다.', '그래서', '그', '패턴들은', '경향성과', '성향을', '만듭니다.', '여러분은', '이를', '중력과', '비슷하다고', '생각할', '수', '있습니다.', '계곡에', '빗방울', '떨어지는', '모습을', '상상해보세요.', '계곡을', '내려가는', '빗방울의', '실제', '경로는', '예측할', '수', '없습니다.', '우리는', '그들이', '어디로', '가는지', '알', '수', '없지만', '대략적인', '방향은', '필연적입니다.', '바로', '아래', '쪽이지요.', '이처럼', '기술', '시스템에', '내장된', '경향성과', '촉발성은', '우리에게', '사건이', '대략적으로', '어떻게', '진행되는지에', '대해', '알려줍니다.', '그래서', '크게', '봤을', '때', '전화기의', '발명은', '필연적이었다고', '봅니다.', '그러나', '아이폰은', '아니었죠.', '인터넷의', '발명도', '필연적이었지만', '트위터는', '아니었습니다.', '그래서', '현재', '여러', '흐름이', '존재하는데', '저는', '그', '중에', '가장', '중요한', '것이', '끊임없이', '더욱', '더', '지능적', '으로', '고도화되는', '경향성입니다.', '그것을', \"'cognification'\", '이라', '합니다.', '제가', '붙인', '겁니다.', '이', '것은', '인공지능', '혹은', 'AI라고도', '불립니다.', '그리고', '저는', '이것이', '앞으로', '20년', '동안', '우리', '사회', '가장', '영향력있는', '발전이자', '유행,', '그리고', '방향과', '추동력이라고', '생각합니다.', '물론,', '이미', '큰', '영향을', '미치고', '있습니다.', '우리는', '이미', '인공지능을', '갖고', '있어요.', '이들은', '주로', '보이지', '않는', '곳에서', '일하지요.', '병원', '사무실', '뒷편에서', 'X선을', '의사보다', '더', '잘', '진단합니다.', '또한', '법률사무소에서', '법적', '증거', '검토를', '인간', '준법률가보다', '훨씬', '잘', '수행하죠.', 'AI는', '여러분이', '타고', '온', '비행기', '를', '띄우기', '위해서도', '사용됩니다.', '실제', '조종사는', '사실', '7분에서', '8분', '정도', '밖에', '운전하지', '않고', '그', '외는', '모두', 'AI가', '운행합니다.', '그리고', '주지하듯', '넷플릭스나', '아마존에선', '뒤에서', '활동하며', '추천을', '많이', '합니다.', '그게', '바로', '오늘날의', 'AI입니다.', '너무나', '대표적이고', '당연한', '예시로는', '세계', '최고의', '바둑', '선수를', '이긴', '알파고가', '있습니다.', '하지만', '그것이', '다가', '아닙니다.', '만약', '비디오', '게임을', '한다면,', '여러분은', '인공지능을', '상대로', '게임', '하는', '겁니다.', '하지만', '최근에', '구글에서', '인공지능에게', '비디오', '게임', '하는', '법을', '배우도록', '가르쳤습니다.', '다시', '말하자면', '비디오', '게임', '자체', '를', '가르치는', '건', '기성취되었지만', '비디오', '게임', '하는', '법을', '배우는', '것은', '한걸음', '더', '나아간', '것', '입니다.', '그것이', '바로', '인공적인', '총명입니다.', '우리가', '지금', '하고있는것은', '이', '인공적인', '총명을', '가지고', '더', '똑똑하게', '만드는', '것', '입니다.', '저는', '요즘의', '트렌드에서', '세', '가지', '부분이', '과소평과', '되고있다고', '생각합니다.', '우리가', '이', '세가지를', '이해한다면', '인공지능에', '대하여', '더', '잘', '이해하게', '될것입니다.', '또한,', '이것들은', '우리가', '인공지능', '을', '수용하는데', '도움을', '줄것입니다.', '왜냐하면', '인공지능을', '받아들여야만', '그를', '진정으로', '조종할', '수', '있으니까요.', '더', '큰', '추세를', '받아들임으로써', '세부적인', '측면까지', '조종할', '수', '있을', '것입니다.', '그', '때문에', '이', '세가지', '측면에', '대해', '설명을', '해보겠습니다.', '첫', '번째,', '우리의', '지능은', '지능이', '무엇인지에', '대해', '제대로', '이해하고', '있지', '못하다는', '점입니다.', '우리는', '지능이라는', '것을', '1차원으로', '생각하기', '쉽상이어서', '마치', '음표소리가', '점점', '커져', '가는', '것과', '비슷하게', '생각합니다.', '대표적인', '예시로', 'IQ', '검사가', '있습니다.', '쥐의', '아마', '간단하고', '낮은', '아이큐부터', '시작해서', '침팬지는', '더', '높을것이고', '그리고', '바보는', '아마', '그것', '보다', '높을', '것으로', '추측합니다.', '저와', '같은', '평균적인', '사람이', '그', '다음', '그리고', '다음은', '천재일', '겁니다.', '단수의', '지능이', '점점', '복수의', 'IQ로', '증가한다는', '것은', '사실', '완전히', '틀린', '관념입니다.', '그건', '지능이', '아닙니다.', '물론', '인간이', '지닌', '지능은', '아니죠.', '지능은', '단일음계가', '아니라', '다양한', '인지의', '악기가', '연주하는', '많은', '음표의', '교향곡과', '더', '유사합니다.', '우리', '안에는', '다양한', '유형의', '지능이', '존재합니다.', '연역', '추리능력', '정서', '지능', '공간', '감각', '등이', '있죠.', '우리', '안에는', '대략', '100가지도', '넘는', '유형의', '지능이', '함께', '묶여', '있고', '이는', '다양하게', '나타나', '사람마다', '다른', '장점을', '가집니다.', '동물들의', '경우도', '마찬가지로', '그', '그릇의', '지능내용이', '다르고', '다른', '종류의', '지능을', '가진', '다른', '교향곡을', '갖고', '있을', '것이고', '몇몇', '악기는', '우리와', '같은', '것이겠죠.', '같은', '방식으로', '생각을', '하지만', '다른', '방식으로', '배열할', '수도', '있고', '어쩌면', '특정', '부분에서는', '사람보다', '더', '똑똑할', '수도', '있습니다.', '예를들어', '마치', '다람쥐의', '장기기억력은', '천재에', '가까워서', '어디', '먹이를', '파묻었나', '기억하는데', '쓰입니다.', '그러나', '다른', '부분에서는', '사람보다', '낮을', '수도', '있습니다.', '우리는', '기계를', '만들', '때', '기계를', '이런', '방법으로', '제작하려', '합니다.', '우리보다', '훨씬', '더', '높은', '차원의', '지능을', '가지도록', '하지만', '그', '지능의', '수준은', '대부분', '인간보다', '훨씬', '못합니다.', '이는', '그것들이', '필요하지', '않기', '때문이죠.', '따라서', '우리는', '이런', '것을', '염두에', '두고', '즉,', '이', '인공적', '클러스터를', '고려해서', '인공지능에', '더', '다양한', '종류의', '인지력을', '추가해야합니다.', '우리는', '이를', '아주', '구체적으로', '만들어야', '합니다.', '그래서', '여러분의', '계산기는', '여러분의', '산수능력보다', '이미', '더', '똑똑하죠.', 'GPS는', '우리보다', '훨씬', '길을', '잘', '찾고', '구글과', '빙은', '우리보다', '훨씬', '긴', '장기기억을', '가집니다.', '우리는', '이런', '생각을', '또', '다시', '다른', '유형에도', '적용할수', '있습니다.', '예를', '들어', '자동차가', '있습니다.', '우리가', '인공지능을', '차', '안에', '넣어', '차가', '스스로', '운전하게', '하고자', '하는', '이유는', '차가', '인간처럼', '운전하지', '않는다는', '점', '때문입니다.', '차는', '우리처럼', '생각을', '하지', '않습니다.', '이게', '차의', '특징입니다.', '즉,', '다른', '것에', '정신이', '분산', '되지', '않는다는', '것입니다.', '가스레인지를', '켜고', '나왔는지', '혹은', '금융', '전공을', '할지', '말지', '등에', '고민하지', '않고', '그냥', '운전만', '합니다.', '그냥', '운전만이요!', '알겠나요?', '그리고', '우리는', '이런', '특징을', '광고할수도', '있습니다!', '\"생각이', '없다\"는', '식으로요.', '그들은', '자각이', '없고', '그런', '종류의', '걱정을', '하지', '않으며', '다른', '것에', '정신이', '팔리지', '않습니다.', '이처럼', '대부분의', '경우에서', '우리가', '하려는', '것은', '우리가', '할', '수', '있는', '생각의', '다양한', '형태를', '모두', '만드는', '겁니다.', '우리는', '가능한', '모든', '형태,', '종류의', '다양한', '생각들의', '영역을', '모두', '데이터화', '해야', '합니다.', '사실', '몇몇', '문제들은', '과학적으로', '힘들거나', '혹은', '시장현실에', '맞지', '않아', '인간의', '사고력만으로는', '풀', '수', '없을', '수도', '있습니다.', '그래서', '2단계의', '프로그램이', '필요할', '것입니다.', '먼저', '새로운', '종류의', '생각을', '창조해내', '우리가', '함께', '이', '큰', '문제를', '풀어가는', '것입니다.', '예를들어,', '암흑물질과', '양자중력처럼요.', '이런', '작업은', '외계지성체를', '만드는', '것과', '다를바가', '없습니다.', '아마', '여러분께', '이', '일을', '외계인처럼', '낯설게', '느낄수도', '있어요.', '그리고', '이는', '우리가', '다르게', '사고할', '수', '있도록', '도와줄것입니다.', '색다른', '생각은', '창조의', '엔진이자', '부와', '경제의', '새로운', '시작을', '열게', '하니까요.', '이어서', '두', '번째', '측면은', '우리가', '2차', '산업혁명을', '발생시키기', '위해', '인공지능을', '사용하는', '것입니다.', '제1차', '산업혁명은', '우리가', '소위', '인공적인', '힘이라는걸', '만들었다는', '사실에', '기반을', '뒀습니다.', '이전에는', '즉,', '농업', '혁명동안은', '모든', '것이', '사람의', '노동력으로', '만들어졌야', '했습니다.', '아니면', '동물의', '힘으로요.', '어떠한', '목적이든지', '인간과', '동물의', '육체적', '노동은', '불가피했습니다.', '산업혁명', '동안', '일어난', '혁신적인', '변화는', '우리가', '증기기관과', '화석연료를', '사용해', '인간이', '원했던', '모든', '것에', '쓸', '수', '있는', '인공적인', '힘을', '만들었다는', '겁니다.', '그래서', '오늘날', '여러분이', '고속도로', '주행시', '단순히', '스위치를', '만지는', '것으로', '250마리의', '말의', '지휘효과를', '가집니다.', '250', '마력은', '고층', '건물을', '짓고', '도시를', '세우며', '도로를', '닦는데', '쓸', '수', '있고', '의자나', '냉장고를', '만드는', '공장들이', '돌아가게', '만드는,', '인간을', '한참', '넘어서는', '힘입니다.', '그리고', '이런', '인공적인', '힘은', '모든', '집과,', '공장,', '농가', '등으로', '그리드상에서', '분배됩니다.', '누구나', '인공적인', '힘을', '플러그를', '꼽기만', '하면', '살', '수', '있습니다.', '그래서', '이는', '혁신의', '근원이었습니다.', '왜냐하면', '농부가', '수동식', '펌프에', '이', '인공적인', '힘,', '바로', '전기를', '적용하여', '자동식', '펌프를', '가질', '수', '있으니까요.', '이런', '경우가', '몇', '천,', '몇', '만번', '반복되고', '그렇게', '생기는', '공식이', '우리를', '산업혁명으로', '이끌었습니다.', '우리가', '보는', '모든것과', '우리가', '즐기는', '모든', '과정은', '우리가', '그를', '해냈다는', '사실로부터', '비롯됩니다.', '우리는', '인공지능의', '경우', '에도', '이를', '적용해볼수', '있습니다.', '배전망을', '통해', '인공지능을', '분배하여', '여러분은', '인공적인', '힘이', '더해진', '자동펌프에', '인공적인', '지능을', '더할', '수', '있습니다.', '그렇다면', '여러분은', '스마트', '펌프를', '가질수', '있죠.', '그리고', '다시', '이를', '수', '없이', '반복하여', '제', '2차', '산업혁명으로', '나아갈', '것입니다.', '그에', '따라서,', '이제', '고속도로를', '달리는', '차는', '250', '마력에다가', '250개의', '생각까지', '갖춘', '바로', '자동주행', '자동차가', '되겠지요.', '이건', '거의', '새로운', '상품입니다.', '새로운', '용도이니까요.', '인공지능은', '이제', '상공이라는', '새로운', '길을', '따라', '전기가', '그랬듯', '퍼져나갈', '것입니다.', '그럼으로써', '전기로', '작동하던', '모든', '것을', '인공지능화(cognify)할', '것입니다.', '그리고', '예언하건데,', '미래에', '많은', '스타트업', '사업의', '시작을', '열', '공식은', '매우', '간결합니다.', '변수', 'x에', '인공지능을', '더하는', '것이죠.', '이게', '공식이고', '바로', '우리가', '할', '일입니다.', '이를', '통해', '우리는', '2차', '산업혁명을', '일으킬', '수', '있습니다.', '그나저나,', '여러분은', '지금', '당장,', '바로', '여기서', '구글에', '로그인', '해서', '인공지능을', '6센트에', '100번', '쓸', '수', '있습니다.', '이게', '지금', '당장', '가능', '한', '거란', '말이죠.', '이에', '대한', '세', '번째', '측면은', '우리가', '인공지능을', '구체화시키고', '로봇을', '만들었을', '때입니다.', '로봇은', '수족이', '될', '것이고', '그들은', '우리가', '했던', '일들을', '하게', '되죠.', '직업은', '일의', '뭉텅이이기', '때문에', '로봇은', '우리의', '직업에', '대한', '개념을', '재정립할겁니다.', '그들이', '바로', '그', '일을', '맡게', '될', '것이기', '때문이죠.', '한편,', '로봇은', '우리가', '전에는', '원했는지조차', '몰랐던', '일의', '완전히', '새로운', '종류,', '또', '완전히', '새로운', '업무를', '만들어', '낼', '것입니다.', '즉,', '로봇의', '탄생은', '새로운', '직업군과', '인간이', '달성하고', '싶어할', '과제를', '새롭게', '만들어낼', '것입니다.', '마치', '자동화된', '기기가', '과거에는', '필요했는지', '조차도', '몰랐던', '것들을', '만들어', '냈고', '이제는', '우리가', '그들', '없이는', '살', '수', '없는', '것처럼요.', '그래서', '로봇들은', '그들이', '차지한', '직업보다', '더', '많은', '직업을', '양상해', '낼', '것입니다.', '그러나', '중요한', '점은', '우리가', '그들에게', '할당하는', '업무들의', '대부분이', '효율성과', '생산성이라는', '가치로', '정의될수', '있다는', '것입니다.', '만약', '당신이', '일을', '구체적으로', '설명할수', '있다면', '육체적', '노동이든', '정신적', '노동이든', '그', '일은', '효율성과', '생산성의', '관점에서', '로봇이', '대신', '할', '수', '있는', '것으로', '분류', '될', '수', '있습니다.', '생산성은', '로봇의', '몫이라는', '겁니다.', '우리가', '로봇보다', '훨씬', '잘하는', '건', '소위', '시간을', '낭비하는', '것일테니까요.', '실제로', '우리는', '비효율적인', '걸', '잘합니다.', '과학은', '본질적으로', '비효율적이죠.', '과학은', '여러', '번', '실패했다는', '점에', '기반합니다.', '여러분이', '성공하지', '못한', '실험과', '시험을', '했다는', '사실에', '근거합니다.', '그렇지', '않다면,', '새로운', '걸', '배울', '수', '없습니다.', '과학은', '이처럼', '효율성이', '많이', '부족하다는', '점에', '기반을', '둡니다.', '혁신을', '정의하자면', '바로', '비효율일', '겁니다.', '왜냐하면', '여러분은', '시제품을', '만들', '것이고', '실패하거나', '작동하지', '않을', '무언가를', '시도해보겠죠.', '모험도', '근본적', '비효율성을', '가집니다.', '예술도', '효율적이지', '않아요.', '인간관계', '또한', '효율적이지', '못합니다.', '이런', '것들은', '우리가', '자연스럽게', '끌리는', '일들입니다.', '바로', '그들이', '비효율적이기', '때문입니다.', '효율성은', '인간이', '아니라', '로봇들에게', '중요한', '것이죠.', '우리는', '앞으로', '이', '인공지능들과', '함께', '일해야', '하는', '것에', '대해', '배워야합니다.', '그들은', '우리보다', '다르게', '생각하니까요.', '딥', '블루가', '세계', '제일의', '체스', '챔피언에게', '이겼을', '때', '사람들은', '그것이', '체스의', '끝이라고', '생각했습니다.', '하지만', '실제로는,', '요즘', '세계제일의', '체스', '챔피언은', '인공지능이', '아닙니다.', '인간도', '아닙니다.', '바로', '인공지능과', '인간의', '팀이죠.', '제일의', '의료분석가는', '의사도', '아니고', '인공지능도', '아닌', '바로', '의사와', '인공지능의', '팀입니다.', '우리는', '앞으로', '이런', '인공지능들과', '일하게', '될', '겁니다.', '그리고', '여러분이', '미래에', '얼마나', '로봇과', '일을', '잘', '할수', '있는지에', '따라', '연봉이', '결정될거라고', '생각합니다.', '저의', '세번째', '포인트는', '바로', '이겁니다.', '그들이', '다르다는', '것.', '그들은', '도구예요.', '그래서', '그들은', '우리가', '적대심을', '가지는', '게', '아니라', '함께', '할', '존재입니다.', '우리는', '그들을', '거부하지', '않고', '함께', '일하려고', '해야합니다.', '그래서', '미래에는', '이', '미래에', '우리는', '어떻게', '될까요?', '저는', '25년', '후에', '지금을', '돌아봤을', '때', '인공지능에', '대한', '우리의', '이해를', '보곤', '이런', '말을', '할', '거라고', '생각합니다.', '\"너희는', 'AI를', '가지고', '있지', '않아.', '솔직히', '말하자면', '너희가', '가진', '건', '앞으로', '25년', '간', '있을', '것에', '비하면', '인터넷', '정도도', '안돼.\"', '지금', '당장은', '인공지능', '전문가가', '단', '하나도', '없습니다.', '현재', '많은', '돈이', '인공지능에', '쓰이고', '있어요.', '수십억', '달러쯤은', '투자되고', '있는', '매우', '큰', '사업이죠.', '하지만,', '20년', '후와', '비교하면', '전문가라고', '할만한게', '없죠.', '그래서', '우리는', '지금', '정말', '아주', '초기', '단계에', '있습니다.', '이', '모든것의', '시작점에', '있는', '것이죠.', '우리는', '인터넷의', '시작점에', '있고.', '앞으로', '닥쳐올', '것의', '시작점에', '있습니다.', '20년', '후', '모두가', '사용하고', '있을', '가장', '영향력있는', '인공지능은', '아직은', '발명되지', '않았습니다.', '그건', '여러분이', '늦지', '않았단', '걸', '뜻합니다.', '감사합니다.'] \n",
            "\n",
            "['오늘', '저는', '기술이', '어떤', '방향으로', '가고', '있는지에', '대해', '얘기해볼까', '합니다.', '흔히,', '기술을', '처음', '접할', '때', '우리는', '기술이', '가져다', '주는', '것에', '대해', '놀라곤', '합니다.', '하지만', '사실', '기술의', '대부분은', '예측이', '가능합니다.', '이는', '모든', '종류의', '기술', '시스템이', '각각의', '성향을', '가지기', '때문입니다.', '기술마다', '긴급한', '부분이', '있고', '일정한', '경향성을', '띄기', '마련입니다.', '그리고', '그런', '경향들은', '물리학의', '본질이나', '선과', '스위치', '간의', '화학', ',그리고', '전자등으로부터', '유래되고', '이는', '반복되는', '패턴을', '끊임없이', '만들어냅니다.', '그래서', '그', '패턴들은', '경향성과', '성향을', '만듭니다.', '여러분은', '이를', '중력과', '비슷하다고', '생각할', '수', '있습니다.', '계곡에', '빗방울', '떨어지는', '모습을', '상상해보세요.', '계곡을', '내려가는', '빗방울의', '실제', '경로는', '예측할', '수', '없습니다.', '우리는', '그들이', '어디로', '가는지', '알', '수', '없지만', '대략적인', '방향은', '필연적입니다.', '바로', '아래', '쪽이지요.', '이처럼', '기술', '시스템에', '내장된', '경향성과', '촉발성은', '우리에게', '사건이', '대략적으로', '어떻게', '진행되는지에', '대해', '알려줍니다.', '그래서', '크게', '봤을', '때', '전화기의', '발명은', '필연적이었다고', '봅니다.', '그러나', '아이폰은', '아니었죠.', '인터넷의', '발명도', '필연적이었지만', '트위터는', '아니었습니다.', '그래서', '현재', '여러', '흐름이', '존재하는데', '저는', '그', '중에', '가장', '중요한', '것이', '끊임없이', '더욱', '더', '지능적', '으로', '고도화되는', '경향성입니다.', '그것을', \"'cognification'\", '이라', '합니다.', '제가', '붙인', '겁니다.', '것은', '인공지능', '혹은', 'AI라고도', '불립니다.', '그리고', '저는', '이것이', '앞으로', '20년', '동안', '우리', '사회', '가장', '영향력있는', '발전이자', '유행,', '그리고', '방향과', '추동력이라고', '생각합니다.', '물론,', '이미', '큰', '영향을', '미치고', '있습니다.', '우리는', '이미', '인공지능을', '갖고', '있어요.', '이들은', '주로', '보이지', '않는', '곳에서', '일하지요.', '병원', '사무실', '뒷편에서', 'X선을', '의사보다', '더', '잘', '진단합니다.', '또한', '법률사무소에서', '법적', '증거', '검토를', '인간', '준법률가보다', '훨씬', '잘', '수행하죠.', 'AI는', '여러분이', '타고', '온', '비행기', '띄우기', '위해서도', '사용됩니다.', '실제', '조종사는', '사실', '7분에서', '8분', '정도', '밖에', '운전하지', '않고', '그', '외는', '모두', 'AI가', '운행합니다.', '그리고', '주지하듯', '넷플릭스나', '아마존에선', '뒤에서', '활동하며', '추천을', '많이', '합니다.', '그게', '바로', '오늘날의', 'AI입니다.', '너무나', '대표적이고', '당연한', '예시로는', '세계', '최고의', '바둑', '선수를', '이긴', '알파고가', '있습니다.', '하지만', '그것이', '다가', '아닙니다.', '만약', '비디오', '게임을', '한다면,', '여러분은', '인공지능을', '상대로', '게임', '하는', '겁니다.', '하지만', '최근에', '구글에서', '인공지능에게', '비디오', '게임', '하는', '법을', '배우도록', '가르쳤습니다.', '다시', '말하자면', '비디오', '게임', '자체', '가르치는', '건', '기성취되었지만', '비디오', '게임', '하는', '법을', '배우는', '것은', '한걸음', '더', '나아간', '것', '입니다.', '그것이', '바로', '인공적인', '총명입니다.', '우리가', '지금', '하고있는것은', '인공적인', '총명을', '가지고', '더', '똑똑하게', '만드는', '것', '입니다.', '저는', '요즘의', '트렌드에서', '세', '가지', '부분이', '과소평과', '되고있다고', '생각합니다.', '우리가', '세가지를', '이해한다면', '인공지능에', '대하여', '더', '잘', '이해하게', '될것입니다.', '또한,', '이것들은', '우리가', '인공지능', '수용하는데', '도움을', '줄것입니다.', '왜냐하면', '인공지능을', '받아들여야만', '그를', '진정으로', '조종할', '수', '있으니까요.', '더', '큰', '추세를', '받아들임으로써', '세부적인', '측면까지', '조종할', '수', '있을', '것입니다.', '그', '때문에', '세가지', '측면에', '대해', '설명을', '해보겠습니다.', '첫', '번째,', '우리의', '지능은', '지능이', '무엇인지에', '대해', '제대로', '이해하고', '있지', '못하다는', '점입니다.', '우리는', '지능이라는', '것을', '1차원으로', '생각하기', '쉽상이어서', '마치', '음표소리가', '점점', '커져', '가는', '것과', '비슷하게', '생각합니다.', '대표적인', '예시로', 'IQ', '검사가', '있습니다.', '쥐의', '아마', '간단하고', '낮은', '아이큐부터', '시작해서', '침팬지는', '더', '높을것이고', '그리고', '바보는', '아마', '그것', '보다', '높을', '것으로', '추측합니다.', '저와', '같은', '평균적인', '사람이', '그', '다음', '그리고', '다음은', '천재일', '겁니다.', '단수의', '지능이', '점점', '복수의', 'IQ로', '증가한다는', '것은', '사실', '완전히', '틀린', '관념입니다.', '그건', '지능이', '아닙니다.', '물론', '인간이', '지닌', '지능은', '아니죠.', '지능은', '단일음계가', '아니라', '다양한', '인지의', '악기가', '연주하는', '많은', '음표의', '교향곡과', '더', '유사합니다.', '우리', '안에는', '다양한', '유형의', '지능이', '존재합니다.', '연역', '추리능력', '정서', '지능', '공간', '감각', '등이', '있죠.', '우리', '안에는', '대략', '100가지도', '넘는', '유형의', '지능이', '함께', '묶여', '있고', '이는', '다양하게', '나타나', '사람마다', '다른', '장점을', '가집니다.', '동물들의', '경우도', '마찬가지로', '그', '그릇의', '지능내용이', '다르고', '다른', '종류의', '지능을', '가진', '다른', '교향곡을', '갖고', '있을', '것이고', '몇몇', '악기는', '우리와', '같은', '것이겠죠.', '같은', '방식으로', '생각을', '하지만', '다른', '방식으로', '배열할', '수도', '있고', '어쩌면', '특정', '부분에서는', '사람보다', '더', '똑똑할', '수도', '있습니다.', '예를들어', '마치', '다람쥐의', '장기기억력은', '천재에', '가까워서', '어디', '먹이를', '파묻었나', '기억하는데', '쓰입니다.', '그러나', '다른', '부분에서는', '사람보다', '낮을', '수도', '있습니다.', '우리는', '기계를', '만들', '때', '기계를', '이런', '방법으로', '제작하려', '합니다.', '우리보다', '훨씬', '더', '높은', '차원의', '지능을', '가지도록', '하지만', '그', '지능의', '수준은', '대부분', '인간보다', '훨씬', '못합니다.', '이는', '그것들이', '필요하지', '않기', '때문이죠.', '따라서', '우리는', '이런', '것을', '염두에', '두고', '즉,', '인공적', '클러스터를', '고려해서', '인공지능에', '더', '다양한', '종류의', '인지력을', '추가해야합니다.', '우리는', '이를', '아주', '구체적으로', '만들어야', '합니다.', '그래서', '여러분의', '계산기는', '여러분의', '산수능력보다', '이미', '더', '똑똑하죠.', 'GPS는', '우리보다', '훨씬', '길을', '잘', '찾고', '구글과', '빙은', '우리보다', '훨씬', '긴', '장기기억을', '가집니다.', '우리는', '이런', '생각을', '또', '다시', '다른', '유형에도', '적용할수', '있습니다.', '예를', '들어', '자동차가', '있습니다.', '우리가', '인공지능을', '차', '안에', '넣어', '차가', '스스로', '운전하게', '하고자', '하는', '이유는', '차가', '인간처럼', '운전하지', '않는다는', '점', '때문입니다.', '차는', '우리처럼', '생각을', '하지', '않습니다.', '이게', '차의', '특징입니다.', '즉,', '다른', '것에', '정신이', '분산', '되지', '않는다는', '것입니다.', '가스레인지를', '켜고', '나왔는지', '혹은', '금융', '전공을', '할지', '말지', '등에', '고민하지', '않고', '그냥', '운전만', '합니다.', '그냥', '운전만이요!', '알겠나요?', '그리고', '우리는', '이런', '특징을', '광고할수도', '있습니다!', '\"생각이', '없다\"는', '식으로요.', '그들은', '자각이', '없고', '그런', '종류의', '걱정을', '하지', '않으며', '다른', '것에', '정신이', '팔리지', '않습니다.', '이처럼', '대부분의', '경우에서', '우리가', '하려는', '것은', '우리가', '할', '수', '있는', '생각의', '다양한', '형태를', '모두', '만드는', '겁니다.', '우리는', '가능한', '모든', '형태,', '종류의', '다양한', '생각들의', '영역을', '모두', '데이터화', '해야', '합니다.', '사실', '몇몇', '문제들은', '과학적으로', '힘들거나', '혹은', '시장현실에', '맞지', '않아', '인간의', '사고력만으로는', '풀', '수', '없을', '수도', '있습니다.', '그래서', '2단계의', '프로그램이', '필요할', '것입니다.', '먼저', '새로운', '종류의', '생각을', '창조해내', '우리가', '함께', '큰', '문제를', '풀어가는', '것입니다.', '예를들어,', '암흑물질과', '양자중력처럼요.', '이런', '작업은', '외계지성체를', '만드는', '것과', '다를바가', '없습니다.', '아마', '여러분께', '일을', '외계인처럼', '낯설게', '느낄수도', '있어요.', '그리고', '이는', '우리가', '다르게', '사고할', '수', '있도록', '도와줄것입니다.', '색다른', '생각은', '창조의', '엔진이자', '부와', '경제의', '새로운', '시작을', '열게', '하니까요.', '이어서', '두', '번째', '측면은', '우리가', '2차', '산업혁명을', '발생시키기', '위해', '인공지능을', '사용하는', '것입니다.', '제1차', '산업혁명은', '우리가', '소위', '인공적인', '힘이라는걸', '만들었다는', '사실에', '기반을', '뒀습니다.', '이전에는', '즉,', '농업', '혁명동안은', '모든', '것이', '사람의', '노동력으로', '만들어졌야', '했습니다.', '아니면', '동물의', '힘으로요.', '어떠한', '목적이든지', '인간과', '동물의', '육체적', '노동은', '불가피했습니다.', '산업혁명', '동안', '일어난', '혁신적인', '변화는', '우리가', '증기기관과', '화석연료를', '사용해', '인간이', '원했던', '모든', '것에', '쓸', '수', '있는', '인공적인', '힘을', '만들었다는', '겁니다.', '그래서', '오늘날', '여러분이', '고속도로', '주행시', '단순히', '스위치를', '만지는', '것으로', '250마리의', '말의', '지휘효과를', '가집니다.', '250', '마력은', '고층', '건물을', '짓고', '도시를', '세우며', '도로를', '닦는데', '쓸', '수', '있고', '의자나', '냉장고를', '만드는', '공장들이', '돌아가게', '만드는,', '인간을', '한참', '넘어서는', '힘입니다.', '그리고', '이런', '인공적인', '힘은', '모든', '집과,', '공장,', '농가', '등으로', '그리드상에서', '분배됩니다.', '누구나', '인공적인', '힘을', '플러그를', '꼽기만', '하면', '살', '수', '있습니다.', '그래서', '이는', '혁신의', '근원이었습니다.', '왜냐하면', '농부가', '수동식', '펌프에', '인공적인', '힘,', '바로', '전기를', '적용하여', '자동식', '펌프를', '가질', '수', '있으니까요.', '이런', '경우가', '몇', '천,', '몇', '만번', '반복되고', '그렇게', '생기는', '공식이', '우리를', '산업혁명으로', '이끌었습니다.', '우리가', '보는', '모든것과', '우리가', '즐기는', '모든', '과정은', '우리가', '그를', '해냈다는', '사실로부터', '비롯됩니다.', '우리는', '인공지능의', '경우', '에도', '이를', '적용해볼수', '있습니다.', '배전망을', '통해', '인공지능을', '분배하여', '여러분은', '인공적인', '힘이', '더해진', '자동펌프에', '인공적인', '지능을', '더할', '수', '있습니다.', '그렇다면', '여러분은', '스마트', '펌프를', '가질수', '있죠.', '그리고', '다시', '이를', '수', '없이', '반복하여', '제', '2차', '산업혁명으로', '나아갈', '것입니다.', '그에', '따라서,', '이제', '고속도로를', '달리는', '차는', '250', '마력에다가', '250개의', '생각까지', '갖춘', '바로', '자동주행', '자동차가', '되겠지요.', '이건', '거의', '새로운', '상품입니다.', '새로운', '용도이니까요.', '인공지능은', '이제', '상공이라는', '새로운', '길을', '따라', '전기가', '그랬듯', '퍼져나갈', '것입니다.', '그럼으로써', '전기로', '작동하던', '모든', '것을', '인공지능화(cognify)할', '것입니다.', '그리고', '예언하건데,', '미래에', '많은', '스타트업', '사업의', '시작을', '열', '공식은', '매우', '간결합니다.', '변수', 'x에', '인공지능을', '더하는', '것이죠.', '이게', '공식이고', '바로', '우리가', '할', '일입니다.', '이를', '통해', '우리는', '2차', '산업혁명을', '일으킬', '수', '있습니다.', '그나저나,', '여러분은', '지금', '당장,', '바로', '여기서', '구글에', '로그인', '해서', '인공지능을', '6센트에', '100번', '쓸', '수', '있습니다.', '이게', '지금', '당장', '가능', '한', '거란', '말이죠.', '이에', '대한', '세', '번째', '측면은', '우리가', '인공지능을', '구체화시키고', '로봇을', '만들었을', '때입니다.', '로봇은', '수족이', '될', '것이고', '그들은', '우리가', '했던', '일들을', '하게', '되죠.', '직업은', '일의', '뭉텅이이기', '때문에', '로봇은', '우리의', '직업에', '대한', '개념을', '재정립할겁니다.', '그들이', '바로', '그', '일을', '맡게', '될', '것이기', '때문이죠.', '한편,', '로봇은', '우리가', '전에는', '원했는지조차', '몰랐던', '일의', '완전히', '새로운', '종류,', '또', '완전히', '새로운', '업무를', '만들어', '낼', '것입니다.', '즉,', '로봇의', '탄생은', '새로운', '직업군과', '인간이', '달성하고', '싶어할', '과제를', '새롭게', '만들어낼', '것입니다.', '마치', '자동화된', '기기가', '과거에는', '필요했는지', '조차도', '몰랐던', '것들을', '만들어', '냈고', '이제는', '우리가', '그들', '없이는', '살', '수', '없는', '것처럼요.', '그래서', '로봇들은', '그들이', '차지한', '직업보다', '더', '많은', '직업을', '양상해', '낼', '것입니다.', '그러나', '중요한', '점은', '우리가', '그들에게', '할당하는', '업무들의', '대부분이', '효율성과', '생산성이라는', '가치로', '정의될수', '있다는', '것입니다.', '만약', '당신이', '일을', '구체적으로', '설명할수', '있다면', '육체적', '노동이든', '정신적', '노동이든', '그', '일은', '효율성과', '생산성의', '관점에서', '로봇이', '대신', '할', '수', '있는', '것으로', '분류', '될', '수', '있습니다.', '생산성은', '로봇의', '몫이라는', '겁니다.', '우리가', '로봇보다', '훨씬', '잘하는', '건', '소위', '시간을', '낭비하는', '것일테니까요.', '실제로', '우리는', '비효율적인', '걸', '잘합니다.', '과학은', '본질적으로', '비효율적이죠.', '과학은', '여러', '번', '실패했다는', '점에', '기반합니다.', '여러분이', '성공하지', '못한', '실험과', '시험을', '했다는', '사실에', '근거합니다.', '그렇지', '않다면,', '새로운', '걸', '배울', '수', '없습니다.', '과학은', '이처럼', '효율성이', '많이', '부족하다는', '점에', '기반을', '둡니다.', '혁신을', '정의하자면', '바로', '비효율일', '겁니다.', '왜냐하면', '여러분은', '시제품을', '만들', '것이고', '실패하거나', '작동하지', '않을', '무언가를', '시도해보겠죠.', '모험도', '근본적', '비효율성을', '가집니다.', '예술도', '효율적이지', '않아요.', '인간관계', '또한', '효율적이지', '못합니다.', '이런', '것들은', '우리가', '자연스럽게', '끌리는', '일들입니다.', '바로', '그들이', '비효율적이기', '때문입니다.', '효율성은', '인간이', '아니라', '로봇들에게', '중요한', '것이죠.', '우리는', '앞으로', '인공지능들과', '함께', '일해야', '하는', '것에', '대해', '배워야합니다.', '그들은', '우리보다', '다르게', '생각하니까요.', '딥', '블루가', '세계', '제일의', '체스', '챔피언에게', '이겼을', '때', '사람들은', '그것이', '체스의', '끝이라고', '생각했습니다.', '하지만', '실제로는,', '요즘', '세계제일의', '체스', '챔피언은', '인공지능이', '아닙니다.', '인간도', '아닙니다.', '바로', '인공지능과', '인간의', '팀이죠.', '제일의', '의료분석가는', '의사도', '아니고', '인공지능도', '아닌', '바로', '의사와', '인공지능의', '팀입니다.', '우리는', '앞으로', '이런', '인공지능들과', '일하게', '될', '겁니다.', '그리고', '여러분이', '미래에', '얼마나', '로봇과', '일을', '잘', '할수', '있는지에', '따라', '연봉이', '결정될거라고', '생각합니다.', '저의', '세번째', '포인트는', '바로', '이겁니다.', '그들이', '다르다는', '것.', '그들은', '도구예요.', '그래서', '그들은', '우리가', '적대심을', '가지는', '게', '아니라', '함께', '할', '존재입니다.', '우리는', '그들을', '거부하지', '않고', '함께', '일하려고', '해야합니다.', '그래서', '미래에는', '미래에', '우리는', '어떻게', '될까요?', '저는', '25년', '후에', '지금을', '돌아봤을', '때', '인공지능에', '대한', '우리의', '이해를', '보곤', '이런', '말을', '할', '거라고', '생각합니다.', '\"너희는', 'AI를', '가지고', '있지', '않아.', '솔직히', '말하자면', '너희가', '가진', '건', '앞으로', '25년', '간', '있을', '것에', '비하면', '인터넷', '정도도', '안돼.\"', '지금', '당장은', '인공지능', '전문가가', '단', '하나도', '없습니다.', '현재', '많은', '돈이', '인공지능에', '쓰이고', '있어요.', '수십억', '달러쯤은', '투자되고', '있는', '매우', '큰', '사업이죠.', '하지만,', '20년', '후와', '비교하면', '전문가라고', '할만한게', '없죠.', '그래서', '우리는', '지금', '정말', '아주', '초기', '단계에', '있습니다.', '모든것의', '시작점에', '있는', '것이죠.', '우리는', '인터넷의', '시작점에', '있고.', '앞으로', '닥쳐올', '것의', '시작점에', '있습니다.', '20년', '후', '모두가', '사용하고', '있을', '가장', '영향력있는', '인공지능은', '아직은', '발명되지', '않았습니다.', '그건', '여러분이', '늦지', '않았단', '걸', '뜻합니다.', '감사합니다.']\n"
          ]
        }
      ]
    },
    {
      "cell_type": "code",
      "source": [
        "get_tfidf([doc1, doc2, doc3])"
      ],
      "metadata": {
        "colab": {
          "base_uri": "https://localhost:8080/",
          "height": 653
        },
        "id": "hnL99tdcojxO",
        "outputId": "9579fe21-4fd4-4a7f-dc00-becbc5555546"
      },
      "execution_count": null,
      "outputs": [
        {
          "output_type": "execute_result",
          "data": {
            "text/plain": [
              "    word  frequency      doc1  doc2  doc3       max\n",
              "0      이        532  0.000000   0.0   0.0  0.000000\n",
              "1      하        374  0.000000   0.0   0.0  0.000000\n",
              "2      는        255  0.000000   0.0   0.0  0.000000\n",
              "3    ㅂ니다        235  0.000000   0.0   0.0  0.000000\n",
              "4      을        231  0.000000   0.0   0.0  0.000000\n",
              "..   ...        ...       ...   ...   ...       ...\n",
              "698   투자          1  1.098612   0.0   0.0  1.098612\n",
              "697   비교          1  1.098612   0.0   0.0  1.098612\n",
              "696  솔직히          1  1.098612   0.0   0.0  1.098612\n",
              "695   정말          1  1.098612   0.0   0.0  1.098612\n",
              "727   감사          1  1.098612   0.0   0.0  1.098612\n",
              "\n",
              "[728 rows x 6 columns]"
            ],
            "text/html": [
              "\n",
              "  <div id=\"df-de0b9801-40b8-4fe1-a080-e06233533af5\">\n",
              "    <div class=\"colab-df-container\">\n",
              "      <div>\n",
              "<style scoped>\n",
              "    .dataframe tbody tr th:only-of-type {\n",
              "        vertical-align: middle;\n",
              "    }\n",
              "\n",
              "    .dataframe tbody tr th {\n",
              "        vertical-align: top;\n",
              "    }\n",
              "\n",
              "    .dataframe thead th {\n",
              "        text-align: right;\n",
              "    }\n",
              "</style>\n",
              "<table border=\"1\" class=\"dataframe\">\n",
              "  <thead>\n",
              "    <tr style=\"text-align: right;\">\n",
              "      <th></th>\n",
              "      <th>word</th>\n",
              "      <th>frequency</th>\n",
              "      <th>doc1</th>\n",
              "      <th>doc2</th>\n",
              "      <th>doc3</th>\n",
              "      <th>max</th>\n",
              "    </tr>\n",
              "  </thead>\n",
              "  <tbody>\n",
              "    <tr>\n",
              "      <th>0</th>\n",
              "      <td>이</td>\n",
              "      <td>532</td>\n",
              "      <td>0.000000</td>\n",
              "      <td>0.0</td>\n",
              "      <td>0.0</td>\n",
              "      <td>0.000000</td>\n",
              "    </tr>\n",
              "    <tr>\n",
              "      <th>1</th>\n",
              "      <td>하</td>\n",
              "      <td>374</td>\n",
              "      <td>0.000000</td>\n",
              "      <td>0.0</td>\n",
              "      <td>0.0</td>\n",
              "      <td>0.000000</td>\n",
              "    </tr>\n",
              "    <tr>\n",
              "      <th>2</th>\n",
              "      <td>는</td>\n",
              "      <td>255</td>\n",
              "      <td>0.000000</td>\n",
              "      <td>0.0</td>\n",
              "      <td>0.0</td>\n",
              "      <td>0.000000</td>\n",
              "    </tr>\n",
              "    <tr>\n",
              "      <th>3</th>\n",
              "      <td>ㅂ니다</td>\n",
              "      <td>235</td>\n",
              "      <td>0.000000</td>\n",
              "      <td>0.0</td>\n",
              "      <td>0.0</td>\n",
              "      <td>0.000000</td>\n",
              "    </tr>\n",
              "    <tr>\n",
              "      <th>4</th>\n",
              "      <td>을</td>\n",
              "      <td>231</td>\n",
              "      <td>0.000000</td>\n",
              "      <td>0.0</td>\n",
              "      <td>0.0</td>\n",
              "      <td>0.000000</td>\n",
              "    </tr>\n",
              "    <tr>\n",
              "      <th>...</th>\n",
              "      <td>...</td>\n",
              "      <td>...</td>\n",
              "      <td>...</td>\n",
              "      <td>...</td>\n",
              "      <td>...</td>\n",
              "      <td>...</td>\n",
              "    </tr>\n",
              "    <tr>\n",
              "      <th>698</th>\n",
              "      <td>투자</td>\n",
              "      <td>1</td>\n",
              "      <td>1.098612</td>\n",
              "      <td>0.0</td>\n",
              "      <td>0.0</td>\n",
              "      <td>1.098612</td>\n",
              "    </tr>\n",
              "    <tr>\n",
              "      <th>697</th>\n",
              "      <td>비교</td>\n",
              "      <td>1</td>\n",
              "      <td>1.098612</td>\n",
              "      <td>0.0</td>\n",
              "      <td>0.0</td>\n",
              "      <td>1.098612</td>\n",
              "    </tr>\n",
              "    <tr>\n",
              "      <th>696</th>\n",
              "      <td>솔직히</td>\n",
              "      <td>1</td>\n",
              "      <td>1.098612</td>\n",
              "      <td>0.0</td>\n",
              "      <td>0.0</td>\n",
              "      <td>1.098612</td>\n",
              "    </tr>\n",
              "    <tr>\n",
              "      <th>695</th>\n",
              "      <td>정말</td>\n",
              "      <td>1</td>\n",
              "      <td>1.098612</td>\n",
              "      <td>0.0</td>\n",
              "      <td>0.0</td>\n",
              "      <td>1.098612</td>\n",
              "    </tr>\n",
              "    <tr>\n",
              "      <th>727</th>\n",
              "      <td>감사</td>\n",
              "      <td>1</td>\n",
              "      <td>1.098612</td>\n",
              "      <td>0.0</td>\n",
              "      <td>0.0</td>\n",
              "      <td>1.098612</td>\n",
              "    </tr>\n",
              "  </tbody>\n",
              "</table>\n",
              "<p>728 rows × 6 columns</p>\n",
              "</div>\n",
              "      <button class=\"colab-df-convert\" onclick=\"convertToInteractive('df-de0b9801-40b8-4fe1-a080-e06233533af5')\"\n",
              "              title=\"Convert this dataframe to an interactive table.\"\n",
              "              style=\"display:none;\">\n",
              "        \n",
              "  <svg xmlns=\"http://www.w3.org/2000/svg\" height=\"24px\"viewBox=\"0 0 24 24\"\n",
              "       width=\"24px\">\n",
              "    <path d=\"M0 0h24v24H0V0z\" fill=\"none\"/>\n",
              "    <path d=\"M18.56 5.44l.94 2.06.94-2.06 2.06-.94-2.06-.94-.94-2.06-.94 2.06-2.06.94zm-11 1L8.5 8.5l.94-2.06 2.06-.94-2.06-.94L8.5 2.5l-.94 2.06-2.06.94zm10 10l.94 2.06.94-2.06 2.06-.94-2.06-.94-.94-2.06-.94 2.06-2.06.94z\"/><path d=\"M17.41 7.96l-1.37-1.37c-.4-.4-.92-.59-1.43-.59-.52 0-1.04.2-1.43.59L10.3 9.45l-7.72 7.72c-.78.78-.78 2.05 0 2.83L4 21.41c.39.39.9.59 1.41.59.51 0 1.02-.2 1.41-.59l7.78-7.78 2.81-2.81c.8-.78.8-2.07 0-2.86zM5.41 20L4 18.59l7.72-7.72 1.47 1.35L5.41 20z\"/>\n",
              "  </svg>\n",
              "      </button>\n",
              "      \n",
              "  <style>\n",
              "    .colab-df-container {\n",
              "      display:flex;\n",
              "      flex-wrap:wrap;\n",
              "      gap: 12px;\n",
              "    }\n",
              "\n",
              "    .colab-df-convert {\n",
              "      background-color: #E8F0FE;\n",
              "      border: none;\n",
              "      border-radius: 50%;\n",
              "      cursor: pointer;\n",
              "      display: none;\n",
              "      fill: #1967D2;\n",
              "      height: 32px;\n",
              "      padding: 0 0 0 0;\n",
              "      width: 32px;\n",
              "    }\n",
              "\n",
              "    .colab-df-convert:hover {\n",
              "      background-color: #E2EBFA;\n",
              "      box-shadow: 0px 1px 2px rgba(60, 64, 67, 0.3), 0px 1px 3px 1px rgba(60, 64, 67, 0.15);\n",
              "      fill: #174EA6;\n",
              "    }\n",
              "\n",
              "    [theme=dark] .colab-df-convert {\n",
              "      background-color: #3B4455;\n",
              "      fill: #D2E3FC;\n",
              "    }\n",
              "\n",
              "    [theme=dark] .colab-df-convert:hover {\n",
              "      background-color: #434B5C;\n",
              "      box-shadow: 0px 1px 3px 1px rgba(0, 0, 0, 0.15);\n",
              "      filter: drop-shadow(0px 1px 2px rgba(0, 0, 0, 0.3));\n",
              "      fill: #FFFFFF;\n",
              "    }\n",
              "  </style>\n",
              "\n",
              "      <script>\n",
              "        const buttonEl =\n",
              "          document.querySelector('#df-de0b9801-40b8-4fe1-a080-e06233533af5 button.colab-df-convert');\n",
              "        buttonEl.style.display =\n",
              "          google.colab.kernel.accessAllowed ? 'block' : 'none';\n",
              "\n",
              "        async function convertToInteractive(key) {\n",
              "          const element = document.querySelector('#df-de0b9801-40b8-4fe1-a080-e06233533af5');\n",
              "          const dataTable =\n",
              "            await google.colab.kernel.invokeFunction('convertToInteractive',\n",
              "                                                     [key], {});\n",
              "          if (!dataTable) return;\n",
              "\n",
              "          const docLinkHtml = 'Like what you see? Visit the ' +\n",
              "            '<a target=\"_blank\" href=https://colab.research.google.com/notebooks/data_table.ipynb>data table notebook</a>'\n",
              "            + ' to learn more about interactive tables.';\n",
              "          element.innerHTML = '';\n",
              "          dataTable['output_type'] = 'display_data';\n",
              "          await google.colab.output.renderOutput(dataTable, element);\n",
              "          const docLink = document.createElement('div');\n",
              "          docLink.innerHTML = docLinkHtml;\n",
              "          element.appendChild(docLink);\n",
              "        }\n",
              "      </script>\n",
              "    </div>\n",
              "  </div>\n",
              "  "
            ]
          },
          "metadata": {},
          "execution_count": 19
        }
      ]
    },
    {
      "cell_type": "code",
      "source": [
        "def get_tf(docs):\n",
        "  vocab = {}\n",
        "  tfs = []\n",
        "  for d in docs:\n",
        "    vocab = get_term_frequency(d, vocab)\n",
        "    tfs += [get_term_frequency(d)]\n",
        "\n",
        "  from operator import itemgetter\n",
        "  import numpy as np\n",
        "\n",
        "  stats = []\n",
        "  for word, freq, in vocab.items():\n",
        "    tf_v = []\n",
        "    for idx in range(len(docs)):\n",
        "      if tfs[idx].get(word) is not None:\n",
        "        tf_v += [tfs[idx][word]]\n",
        "      else:\n",
        "        tf_v += [0]\n",
        "\n",
        "    stats.append((word, freq, *tf_v))\n",
        "\n",
        "  return pd.DataFrame(stats, columns=('word', 'frequency', 'doc1', 'doc2', 'doc3')).sort_values('frequency', ascending=False)"
      ],
      "metadata": {
        "id": "2G-inFvRnci2"
      },
      "execution_count": null,
      "outputs": []
    },
    {
      "cell_type": "code",
      "source": [
        "get_tf([doc1,doc2,doc3])"
      ],
      "metadata": {
        "colab": {
          "base_uri": "https://localhost:8080/",
          "height": 1197
        },
        "id": "mz9V5BLroMx2",
        "outputId": "62d87295-5951-432e-88e1-19ba1b56e40d"
      },
      "execution_count": null,
      "outputs": [
        {
          "output_type": "stream",
          "name": "stdout",
          "text": [
            "{'오늘': 1, '저는': 5, '기술이': 2, '어떤': 1, '방향으로': 1, '가고': 1, '있는지에': 2, '대해': 6, '얘기해볼까': 1, '합니다': 8, '흔히,': 1, '기술을': 1, '처음': 1, '접할': 1, '때': 5, '우리는': 19, '가져다': 1, '주는': 1, '것에': 6, '놀라곤': 1, '하지만': 6, '사실': 4, '기술의': 1, '대부분은': 1, '예측이': 1, '가능합니다': 1, '이는': 6, '모든': 7, '종류의': 6, '기술': 2, '시스템이': 1, '각각의': 1, '성향을': 2, '가지기': 1, '때문입니다': 3, '기술마다': 1, '긴급한': 1, '부분이': 2, '있고': 5, '일정한': 1, '경향성을': 1, '띄기': 1, '마련입니다': 1, '그리고': 12, '그런': 2, '경향들은': 1, '물리학의': 1, '본질이나': 1, '선과': 1, '스위치': 1, '간의': 1, '화학': 1, ',그리고': 1, '전자등으로부터': 1, '유래되고': 1, '반복되는': 1, '패턴을': 1, '끊임없이': 2, '만들어냅니다': 1, '그래서': 11, '그': 9, '패턴들은': 1, '경향성과': 2, '만듭니다': 1, '여러분은': 6, '이를': 5, '중력과': 1, '비슷하다고': 1, '생각할': 1, '수': 20, '있습니다': 18, '계곡에': 1, '빗방울': 1, '떨어지는': 1, '모습을': 1, '상상해보세요': 1, '계곡을': 1, '내려가는': 1, '빗방울의': 1, '실제': 2, '경로는': 1, '예측할': 1, '없습니다': 4, '그들이': 5, '어디로': 1, '가는지': 1, '알': 1, '없지만': 1, '대략적인': 1, '방향은': 1, '필연적입니다': 1, '바로': 13, '아래': 1, '쪽이지요': 1, '이처럼': 3, '시스템에': 1, '내장된': 1, '촉발성은': 1, '우리에게': 1, '사건이': 1, '대략적으로': 1, '어떻게': 2, '진행되는지에': 1, '알려줍니다': 1, '크게': 1, '봤을': 1, '전화기의': 1, '발명은': 1, '필연적이었다고': 1, '봅니다': 1, '그러나': 3, '아이폰은': 1, '아니었죠': 1, '인터넷의': 2, '발명도': 1, '필연적이었지만': 1, '트위터는': 1, '아니었습니다': 1, '현재': 2, '여러': 2, '흐름이': 1, '존재하는데': 1, '중에': 1, '가장': 3, '중요한': 3, '것이': 2, '더욱': 1, '더': 13, '지능적': 1, '으로': 1, '고도화되는': 1, '경향성입니다': 1, '그것을': 1, \"'cognification'\": 1, '이라': 1, '제가': 1, '붙인': 1, '겁니다': 8, '이': 11, '것은': 4, '인공지능': 3, '혹은': 3, 'AI라고도': 1, '불립니다': 1, '이것이': 1, '앞으로': 5, '20년': 3, '동안': 2, '우리': 3, '사회': 1, '영향력있는': 2, '발전이자': 1, '유행,': 1, '방향과': 1, '추동력이라고': 1, '생각합니다': 5, '물론,': 1, '이미': 3, '큰': 4, '영향을': 1, '미치고': 1, '인공지능을': 9, '갖고': 2, '있어요': 3, '이들은': 1, '주로': 1, '보이지': 1, '않는': 1, '곳에서': 1, '일하지요': 1, '병원': 1, '사무실': 1, '뒷편에서': 1, 'X선을': 1, '의사보다': 1, '잘': 5, '진단합니다': 1, '또한': 2, '법률사무소에서': 1, '법적': 1, '증거': 1, '검토를': 1, '인간': 1, '준법률가보다': 1, '훨씬': 6, '수행하죠': 1, 'AI는': 1, '여러분이': 5, '타고': 1, '온': 1, '비행기': 1, '를': 2, '띄우기': 1, '위해서도': 1, '사용됩니다': 1, '조종사는': 1, '7분에서': 1, '8분': 1, '정도': 1, '밖에': 1, '운전하지': 2, '않고': 3, '외는': 1, '모두': 3, 'AI가': 1, '운행합니다': 1, '주지하듯': 1, '넷플릭스나': 1, '아마존에선': 1, '뒤에서': 1, '활동하며': 1, '추천을': 1, '많이': 2, '그게': 1, '오늘날의': 1, 'AI입니다': 1, '너무나': 1, '대표적이고': 1, '당연한': 1, '예시로는': 1, '세계': 2, '최고의': 1, '바둑': 1, '선수를': 1, '이긴': 1, '알파고가': 1, '그것이': 3, '다가': 1, '아닙니다': 4, '만약': 2, '비디오': 4, '게임을': 1, '한다면,': 1, '상대로': 1, '게임': 4, '하는': 5, '최근에': 1, '구글에서': 1, '인공지능에게': 1, '법을': 2, '배우도록': 1, '가르쳤습니다': 1, '다시': 3, '말하자면': 2, '자체': 1, '가르치는': 1, '건': 3, '기성취되었지만': 1, '배우는': 1, '한걸음': 1, '나아간': 1, '것': 3, '입니다': 2, '인공적인': 9, '총명입니다': 1, '우리가': 23, '지금': 5, '하고있는것은': 1, '총명을': 1, '가지고': 2, '똑똑하게': 1, '만드는': 4, '요즘의': 1, '트렌드에서': 1, '세': 2, '가지': 1, '과소평과': 1, '되고있다고': 1, '세가지를': 1, '이해한다면': 1, '인공지능에': 4, '대하여': 1, '이해하게': 1, '될것입니다': 1, '또한,': 1, '이것들은': 1, '을': 1, '수용하는데': 1, '도움을': 1, '줄것입니다': 1, '왜냐하면': 3, '받아들여야만': 1, '그를': 2, '진정으로': 1, '조종할': 2, '있으니까요': 2, '추세를': 1, '받아들임으로써': 1, '세부적인': 1, '측면까지': 1, '있을': 4, '것입니다': 12, '때문에': 2, '세가지': 1, '측면에': 1, '설명을': 1, '해보겠습니다': 1, '첫': 1, '번째,': 1, '우리의': 3, '지능은': 3, '지능이': 5, '무엇인지에': 1, '제대로': 1, '이해하고': 1, '있지': 2, '못하다는': 1, '점입니다': 1, '지능이라는': 1, '것을': 3, '1차원으로': 1, '생각하기': 1, '쉽상이어서': 1, '마치': 3, '음표소리가': 1, '점점': 2, '커져': 1, '가는': 1, '것과': 2, '비슷하게': 1, '대표적인': 1, '예시로': 1, 'IQ': 1, '검사가': 1, '쥐의': 1, '아마': 3, '간단하고': 1, '낮은': 1, '아이큐부터': 1, '시작해서': 1, '침팬지는': 1, '높을것이고': 1, '바보는': 1, '그것': 1, '보다': 1, '높을': 1, '것으로': 3, '추측합니다': 1, '저와': 1, '같은': 3, '평균적인': 1, '사람이': 1, '다음': 1, '다음은': 1, '천재일': 1, '단수의': 1, '복수의': 1, 'IQ로': 1, '증가한다는': 1, '완전히': 3, '틀린': 1, '관념입니다': 1, '그건': 2, '물론': 1, '인간이': 4, '지닌': 1, '아니죠': 1, '단일음계가': 1, '아니라': 3, '다양한': 5, '인지의': 1, '악기가': 1, '연주하는': 1, '많은': 4, '음표의': 1, '교향곡과': 1, '유사합니다': 1, '안에는': 2, '유형의': 2, '존재합니다': 1, '연역': 1, '추리능력': 1, '정서': 1, '지능': 1, '공간': 1, '감각': 1, '등이': 1, '있죠': 2, '대략': 1, '100가지도': 1, '넘는': 1, '함께': 5, '묶여': 1, '다양하게': 1, '나타나': 1, '사람마다': 1, '다른': 8, '장점을': 1, '가집니다': 4, '동물들의': 1, '경우도': 1, '마찬가지로': 1, '그릇의': 1, '지능내용이': 1, '다르고': 1, '지능을': 3, '가진': 2, '교향곡을': 1, '것이고': 3, '몇몇': 2, '악기는': 1, '우리와': 1, '것이겠죠': 1, '방식으로': 2, '생각을': 4, '배열할': 1, '수도': 4, '어쩌면': 1, '특정': 1, '부분에서는': 2, '사람보다': 2, '똑똑할': 1, '예를들어': 1, '다람쥐의': 1, '장기기억력은': 1, '천재에': 1, '가까워서': 1, '어디': 1, '먹이를': 1, '파묻었나': 1, '기억하는데': 1, '쓰입니다': 1, '낮을': 1, '기계를': 2, '만들': 2, '이런': 10, '방법으로': 1, '제작하려': 1, '우리보다': 4, '높은': 1, '차원의': 1, '가지도록': 1, '지능의': 1, '수준은': 1, '대부분': 1, '인간보다': 1, '못합니다': 2, '그것들이': 1, '필요하지': 1, '않기': 1, '때문이죠': 2, '따라서': 1, '염두에': 1, '두고': 1, '즉,': 4, '인공적': 1, '클러스터를': 1, '고려해서': 1, '인지력을': 1, '추가해야합니다': 1, '아주': 2, '구체적으로': 2, '만들어야': 1, '여러분의': 2, '계산기는': 1, '산수능력보다': 1, '똑똑하죠': 1, 'GPS는': 1, '길을': 2, '찾고': 1, '구글과': 1, '빙은': 1, '긴': 1, '장기기억을': 1, '또': 2, '유형에도': 1, '적용할수': 1, '예를': 1, '들어': 1, '자동차가': 2, '차': 1, '안에': 1, '넣어': 1, '차가': 2, '스스로': 1, '운전하게': 1, '하고자': 1, '이유는': 1, '인간처럼': 1, '않는다는': 2, '점': 1, '차는': 2, '우리처럼': 1, '하지': 2, '않습니다': 2, '이게': 3, '차의': 1, '특징입니다': 1, '정신이': 2, '분산': 1, '되지': 1, '가스레인지를': 1, '켜고': 1, '나왔는지': 1, '금융': 1, '전공을': 1, '할지': 1, '말지': 1, '등에': 1, '고민하지': 1, '그냥': 2, '운전만': 1, '운전만이요': 1, '알겠나요': 1, '특징을': 1, '광고할수도': 1, '\"생각이': 1, '없다\"는': 1, '식으로요': 1, '그들은': 5, '자각이': 1, '없고': 1, '걱정을': 1, '않으며': 1, '팔리지': 1, '대부분의': 1, '경우에서': 1, '하려는': 1, '할': 5, '있는': 5, '생각의': 1, '형태를': 1, '가능한': 1, '형태,': 1, '생각들의': 1, '영역을': 1, '데이터화': 1, '해야': 1, '문제들은': 1, '과학적으로': 1, '힘들거나': 1, '시장현실에': 1, '맞지': 1, '않아': 2, '인간의': 2, '사고력만으로는': 1, '풀': 1, '없을': 1, '2단계의': 1, '프로그램이': 1, '필요할': 1, '먼저': 1, '새로운': 9, '창조해내': 1, '문제를': 1, '풀어가는': 1, '예를들어,': 1, '암흑물질과': 1, '양자중력처럼요': 1, '작업은': 1, '외계지성체를': 1, '다를바가': 1, '여러분께': 1, '일을': 4, '외계인처럼': 1, '낯설게': 1, '느낄수도': 1, '다르게': 2, '사고할': 1, '있도록': 1, '도와줄것입니다': 1, '색다른': 1, '생각은': 1, '창조의': 1, '엔진이자': 1, '부와': 1, '경제의': 1, '시작을': 2, '열게': 1, '하니까요': 1, '이어서': 1, '두': 1, '번째': 2, '측면은': 2, '2차': 3, '산업혁명을': 2, '발생시키기': 1, '위해': 1, '사용하는': 1, '제1차': 1, '산업혁명은': 1, '소위': 2, '힘이라는걸': 1, '만들었다는': 2, '사실에': 2, '기반을': 2, '뒀습니다': 1, '이전에는': 1, '농업': 1, '혁명동안은': 1, '사람의': 1, '노동력으로': 1, '만들어졌야': 1, '했습니다': 1, '아니면': 1, '동물의': 2, '힘으로요': 1, '어떠한': 1, '목적이든지': 1, '인간과': 1, '육체적': 2, '노동은': 1, '불가피했습니다': 1, '산업혁명': 1, '일어난': 1, '혁신적인': 1, '변화는': 1, '증기기관과': 1, '화석연료를': 1, '사용해': 1, '원했던': 1, '쓸': 3, '힘을': 2, '오늘날': 1, '고속도로': 1, '주행시': 1, '단순히': 1, '스위치를': 1, '만지는': 1, '250마리의': 1, '말의': 1, '지휘효과를': 1, '250': 2, '마력은': 1, '고층': 1, '건물을': 1, '짓고': 1, '도시를': 1, '세우며': 1, '도로를': 1, '닦는데': 1, '의자나': 1, '냉장고를': 1, '공장들이': 1, '돌아가게': 1, '만드는,': 1, '인간을': 1, '한참': 1, '넘어서는': 1, '힘입니다': 1, '힘은': 1, '집과,': 1, '공장,': 1, '농가': 1, '등으로': 1, '그리드상에서': 1, '분배됩니다': 1, '누구나': 1, '플러그를': 1, '꼽기만': 1, '하면': 1, '살': 2, '혁신의': 1, '근원이었습니다': 1, '농부가': 1, '수동식': 1, '펌프에': 1, '힘,': 1, '전기를': 1, '적용하여': 1, '자동식': 1, '펌프를': 2, '가질': 1, '경우가': 1, '몇': 2, '천,': 1, '만번': 1, '반복되고': 1, '그렇게': 1, '생기는': 1, '공식이': 1, '우리를': 1, '산업혁명으로': 2, '이끌었습니다': 1, '보는': 1, '모든것과': 1, '즐기는': 1, '과정은': 1, '해냈다는': 1, '사실로부터': 1, '비롯됩니다': 1, '인공지능의': 2, '경우': 1, '에도': 1, '적용해볼수': 1, '배전망을': 1, '통해': 2, '분배하여': 1, '힘이': 1, '더해진': 1, '자동펌프에': 1, '더할': 1, '그렇다면': 1, '스마트': 1, '가질수': 1, '없이': 1, '반복하여': 1, '제': 1, '나아갈': 1, '그에': 1, '따라서,': 1, '이제': 2, '고속도로를': 1, '달리는': 1, '마력에다가': 1, '250개의': 1, '생각까지': 1, '갖춘': 1, '자동주행': 1, '되겠지요': 1, '이건': 1, '거의': 1, '상품입니다': 1, '용도이니까요': 1, '인공지능은': 2, '상공이라는': 1, '따라': 2, '전기가': 1, '그랬듯': 1, '퍼져나갈': 1, '그럼으로써': 1, '전기로': 1, '작동하던': 1, '인공지능화(cognify)할': 1, '예언하건데,': 1, '미래에': 3, '스타트업': 1, '사업의': 1, '열': 1, '공식은': 1, '매우': 2, '간결합니다': 1, '변수': 1, 'x에': 1, '더하는': 1, '것이죠': 3, '공식이고': 1, '일입니다': 1, '일으킬': 1, '그나저나,': 1, '당장,': 1, '여기서': 1, '구글에': 1, '로그인': 1, '해서': 1, '6센트에': 1, '100번': 1, '당장': 1, '가능': 1, '한': 1, '거란': 1, '말이죠': 1, '이에': 1, '대한': 3, '구체화시키고': 1, '로봇을': 1, '만들었을': 1, '때입니다': 1, '로봇은': 3, '수족이': 1, '될': 4, '했던': 1, '일들을': 1, '하게': 1, '되죠': 1, '직업은': 1, '일의': 2, '뭉텅이이기': 1, '직업에': 1, '개념을': 1, '재정립할겁니다': 1, '맡게': 1, '것이기': 1, '한편,': 1, '전에는': 1, '원했는지조차': 1, '몰랐던': 2, '종류,': 1, '업무를': 1, '만들어': 2, '낼': 2, '로봇의': 2, '탄생은': 1, '직업군과': 1, '달성하고': 1, '싶어할': 1, '과제를': 1, '새롭게': 1, '만들어낼': 1, '자동화된': 1, '기기가': 1, '과거에는': 1, '필요했는지': 1, '조차도': 1, '것들을': 1, '냈고': 1, '이제는': 1, '그들': 1, '없이는': 1, '없는': 1, '것처럼요': 1, '로봇들은': 1, '차지한': 1, '직업보다': 1, '직업을': 1, '양상해': 1, '점은': 1, '그들에게': 1, '할당하는': 1, '업무들의': 1, '대부분이': 1, '효율성과': 2, '생산성이라는': 1, '가치로': 1, '정의될수': 1, '있다는': 1, '당신이': 1, '설명할수': 1, '있다면': 1, '노동이든': 2, '정신적': 1, '일은': 1, '생산성의': 1, '관점에서': 1, '로봇이': 1, '대신': 1, '분류': 1, '생산성은': 1, '몫이라는': 1, '로봇보다': 1, '잘하는': 1, '시간을': 1, '낭비하는': 1, '것일테니까요': 1, '실제로': 1, '비효율적인': 1, '걸': 3, '잘합니다': 1, '과학은': 3, '본질적으로': 1, '비효율적이죠': 1, '번': 1, '실패했다는': 1, '점에': 2, '기반합니다': 1, '성공하지': 1, '못한': 1, '실험과': 1, '시험을': 1, '했다는': 1, '근거합니다': 1, '그렇지': 1, '않다면,': 1, '배울': 1, '효율성이': 1, '부족하다는': 1, '둡니다': 1, '혁신을': 1, '정의하자면': 1, '비효율일': 1, '시제품을': 1, '실패하거나': 1, '작동하지': 1, '않을': 1, '무언가를': 1, '시도해보겠죠': 1, '모험도': 1, '근본적': 1, '비효율성을': 1, '예술도': 1, '효율적이지': 2, '않아요': 1, '인간관계': 1, '것들은': 1, '자연스럽게': 1, '끌리는': 1, '일들입니다': 1, '비효율적이기': 1, '효율성은': 1, '로봇들에게': 1, '인공지능들과': 2, '일해야': 1, '배워야합니다': 1, '생각하니까요': 1, '딥': 1, '블루가': 1, '제일의': 2, '체스': 2, '챔피언에게': 1, '이겼을': 1, '사람들은': 1, '체스의': 1, '끝이라고': 1, '생각했습니다': 1, '실제로는,': 1, '요즘': 1, '세계제일의': 1, '챔피언은': 1, '인공지능이': 1, '인간도': 1, '인공지능과': 1, '팀이죠': 1, '의료분석가는': 1, '의사도': 1, '아니고': 1, '인공지능도': 1, '아닌': 1, '의사와': 1, '팀입니다': 1, '일하게': 1, '얼마나': 1, '로봇과': 1, '할수': 1, '연봉이': 1, '결정될거라고': 1, '저의': 1, '세번째': 1, '포인트는': 1, '이겁니다': 1, '다르다는': 1, '도구예요': 1, '적대심을': 1, '가지는': 1, '게': 1, '존재입니다': 1, '그들을': 1, '거부하지': 1, '일하려고': 1, '해야합니다': 1, '미래에는': 1, '될까요': 1, '25년': 2, '후에': 1, '지금을': 1, '돌아봤을': 1, '이해를': 1, '보곤': 1, '말을': 1, '거라고': 1, '\"너희는': 1, 'AI를': 1, '솔직히': 1, '너희가': 1, '간': 1, '비하면': 1, '인터넷': 1, '정도도': 1, '안돼.\"': 1, '당장은': 1, '전문가가': 1, '단': 1, '하나도': 1, '돈이': 1, '쓰이고': 1, '수십억': 1, '달러쯤은': 1, '투자되고': 1, '사업이죠': 1, '하지만,': 1, '후와': 1, '비교하면': 1, '전문가라고': 1, '할만한게': 1, '없죠': 1, '정말': 1, '초기': 1, '단계에': 1, '모든것의': 1, '시작점에': 3, '닥쳐올': 1, '것의': 1, '후': 1, '모두가': 1, '사용하고': 1, '아직은': 1, '발명되지': 1, '않았습니다': 1, '늦지': 1, '않았단': 1, '뜻합니다': 1, '감사합니다.': 1}\n",
            "{'오늘': 1, '저는': 5, '기술이': 2, '어떤': 1, '방향으로': 1, '가고': 1, '있는지에': 2, '대해': 6, '얘기해볼까': 1, '합니다': 8, '흔히,': 1, '기술을': 1, '처음': 1, '접할': 1, '때': 5, '우리는': 19, '가져다': 1, '주는': 1, '것에': 6, '놀라곤': 1, '하지만': 6, '사실': 4, '기술의': 1, '대부분은': 1, '예측이': 1, '가능합니다': 1, '이는': 6, '모든': 7, '종류의': 6, '기술': 2, '시스템이': 1, '각각의': 1, '성향을': 2, '가지기': 1, '때문입니다': 3, '기술마다': 1, '긴급한': 1, '부분이': 2, '있고': 5, '일정한': 1, '경향성을': 1, '띄기': 1, '마련입니다': 1, '그리고': 12, '그런': 2, '경향들은': 1, '물리학의': 1, '본질이나': 1, '선과': 1, '스위치': 1, '간의': 1, '화학': 1, ',그리고': 1, '전자등으로부터': 1, '유래되고': 1, '반복되는': 1, '패턴을': 1, '끊임없이': 2, '만들어냅니다': 1, '그래서': 11, '그': 9, '패턴들은': 1, '경향성과': 2, '만듭니다': 1, '여러분은': 6, '이를': 5, '중력과': 1, '비슷하다고': 1, '생각할': 1, '수': 20, '있습니다': 18, '계곡에': 1, '빗방울': 1, '떨어지는': 1, '모습을': 1, '상상해보세요': 1, '계곡을': 1, '내려가는': 1, '빗방울의': 1, '실제': 2, '경로는': 1, '예측할': 1, '없습니다': 4, '그들이': 5, '어디로': 1, '가는지': 1, '알': 1, '없지만': 1, '대략적인': 1, '방향은': 1, '필연적입니다': 1, '바로': 13, '아래': 1, '쪽이지요': 1, '이처럼': 3, '시스템에': 1, '내장된': 1, '촉발성은': 1, '우리에게': 1, '사건이': 1, '대략적으로': 1, '어떻게': 2, '진행되는지에': 1, '알려줍니다': 1, '크게': 1, '봤을': 1, '전화기의': 1, '발명은': 1, '필연적이었다고': 1, '봅니다': 1, '그러나': 3, '아이폰은': 1, '아니었죠': 1, '인터넷의': 2, '발명도': 1, '필연적이었지만': 1, '트위터는': 1, '아니었습니다': 1, '현재': 2, '여러': 2, '흐름이': 1, '존재하는데': 1, '중에': 1, '가장': 3, '중요한': 3, '것이': 2, '더욱': 1, '더': 13, '지능적': 1, '으로': 1, '고도화되는': 1, '경향성입니다': 1, '그것을': 1, \"'cognification'\": 1, '이라': 1, '제가': 1, '붙인': 1, '겁니다': 8, '이': 11, '것은': 4, '인공지능': 3, '혹은': 3, 'AI라고도': 1, '불립니다': 1, '이것이': 1, '앞으로': 5, '20년': 3, '동안': 2, '우리': 3, '사회': 1, '영향력있는': 2, '발전이자': 1, '유행,': 1, '방향과': 1, '추동력이라고': 1, '생각합니다': 5, '물론,': 1, '이미': 3, '큰': 4, '영향을': 1, '미치고': 1, '인공지능을': 9, '갖고': 2, '있어요': 3, '이들은': 1, '주로': 1, '보이지': 1, '않는': 1, '곳에서': 1, '일하지요': 1, '병원': 1, '사무실': 1, '뒷편에서': 1, 'X선을': 1, '의사보다': 1, '잘': 5, '진단합니다': 1, '또한': 2, '법률사무소에서': 1, '법적': 1, '증거': 1, '검토를': 1, '인간': 1, '준법률가보다': 1, '훨씬': 6, '수행하죠': 1, 'AI는': 1, '여러분이': 5, '타고': 1, '온': 1, '비행기': 1, '를': 2, '띄우기': 1, '위해서도': 1, '사용됩니다': 1, '조종사는': 1, '7분에서': 1, '8분': 1, '정도': 1, '밖에': 1, '운전하지': 2, '않고': 3, '외는': 1, '모두': 3, 'AI가': 1, '운행합니다': 1, '주지하듯': 1, '넷플릭스나': 1, '아마존에선': 1, '뒤에서': 1, '활동하며': 1, '추천을': 1, '많이': 2, '그게': 1, '오늘날의': 1, 'AI입니다': 1, '너무나': 1, '대표적이고': 1, '당연한': 1, '예시로는': 1, '세계': 2, '최고의': 1, '바둑': 1, '선수를': 1, '이긴': 1, '알파고가': 1, '그것이': 3, '다가': 1, '아닙니다': 4, '만약': 2, '비디오': 4, '게임을': 1, '한다면,': 1, '상대로': 1, '게임': 4, '하는': 5, '최근에': 1, '구글에서': 1, '인공지능에게': 1, '법을': 2, '배우도록': 1, '가르쳤습니다': 1, '다시': 3, '말하자면': 2, '자체': 1, '가르치는': 1, '건': 3, '기성취되었지만': 1, '배우는': 1, '한걸음': 1, '나아간': 1, '것': 3, '입니다': 2, '인공적인': 9, '총명입니다': 1, '우리가': 23, '지금': 5, '하고있는것은': 1, '총명을': 1, '가지고': 2, '똑똑하게': 1, '만드는': 4, '요즘의': 1, '트렌드에서': 1, '세': 2, '가지': 1, '과소평과': 1, '되고있다고': 1, '세가지를': 1, '이해한다면': 1, '인공지능에': 4, '대하여': 1, '이해하게': 1, '될것입니다': 1, '또한,': 1, '이것들은': 1, '을': 1, '수용하는데': 1, '도움을': 1, '줄것입니다': 1, '왜냐하면': 3, '받아들여야만': 1, '그를': 2, '진정으로': 1, '조종할': 2, '있으니까요': 2, '추세를': 1, '받아들임으로써': 1, '세부적인': 1, '측면까지': 1, '있을': 4, '것입니다': 12, '때문에': 2, '세가지': 1, '측면에': 1, '설명을': 1, '해보겠습니다': 1, '첫': 1, '번째,': 1, '우리의': 3, '지능은': 3, '지능이': 5, '무엇인지에': 1, '제대로': 1, '이해하고': 1, '있지': 2, '못하다는': 1, '점입니다': 1, '지능이라는': 1, '것을': 3, '1차원으로': 1, '생각하기': 1, '쉽상이어서': 1, '마치': 3, '음표소리가': 1, '점점': 2, '커져': 1, '가는': 1, '것과': 2, '비슷하게': 1, '대표적인': 1, '예시로': 1, 'IQ': 1, '검사가': 1, '쥐의': 1, '아마': 3, '간단하고': 1, '낮은': 1, '아이큐부터': 1, '시작해서': 1, '침팬지는': 1, '높을것이고': 1, '바보는': 1, '그것': 1, '보다': 1, '높을': 1, '것으로': 3, '추측합니다': 1, '저와': 1, '같은': 3, '평균적인': 1, '사람이': 1, '다음': 1, '다음은': 1, '천재일': 1, '단수의': 1, '복수의': 1, 'IQ로': 1, '증가한다는': 1, '완전히': 3, '틀린': 1, '관념입니다': 1, '그건': 2, '물론': 1, '인간이': 4, '지닌': 1, '아니죠': 1, '단일음계가': 1, '아니라': 3, '다양한': 5, '인지의': 1, '악기가': 1, '연주하는': 1, '많은': 4, '음표의': 1, '교향곡과': 1, '유사합니다': 1, '안에는': 2, '유형의': 2, '존재합니다': 1, '연역': 1, '추리능력': 1, '정서': 1, '지능': 1, '공간': 1, '감각': 1, '등이': 1, '있죠': 2, '대략': 1, '100가지도': 1, '넘는': 1, '함께': 5, '묶여': 1, '다양하게': 1, '나타나': 1, '사람마다': 1, '다른': 8, '장점을': 1, '가집니다': 4, '동물들의': 1, '경우도': 1, '마찬가지로': 1, '그릇의': 1, '지능내용이': 1, '다르고': 1, '지능을': 3, '가진': 2, '교향곡을': 1, '것이고': 3, '몇몇': 2, '악기는': 1, '우리와': 1, '것이겠죠': 1, '방식으로': 2, '생각을': 4, '배열할': 1, '수도': 4, '어쩌면': 1, '특정': 1, '부분에서는': 2, '사람보다': 2, '똑똑할': 1, '예를들어': 1, '다람쥐의': 1, '장기기억력은': 1, '천재에': 1, '가까워서': 1, '어디': 1, '먹이를': 1, '파묻었나': 1, '기억하는데': 1, '쓰입니다': 1, '낮을': 1, '기계를': 2, '만들': 2, '이런': 10, '방법으로': 1, '제작하려': 1, '우리보다': 4, '높은': 1, '차원의': 1, '가지도록': 1, '지능의': 1, '수준은': 1, '대부분': 1, '인간보다': 1, '못합니다': 2, '그것들이': 1, '필요하지': 1, '않기': 1, '때문이죠': 2, '따라서': 1, '염두에': 1, '두고': 1, '즉,': 4, '인공적': 1, '클러스터를': 1, '고려해서': 1, '인지력을': 1, '추가해야합니다': 1, '아주': 2, '구체적으로': 2, '만들어야': 1, '여러분의': 2, '계산기는': 1, '산수능력보다': 1, '똑똑하죠': 1, 'GPS는': 1, '길을': 2, '찾고': 1, '구글과': 1, '빙은': 1, '긴': 1, '장기기억을': 1, '또': 2, '유형에도': 1, '적용할수': 1, '예를': 1, '들어': 1, '자동차가': 2, '차': 1, '안에': 1, '넣어': 1, '차가': 2, '스스로': 1, '운전하게': 1, '하고자': 1, '이유는': 1, '인간처럼': 1, '않는다는': 2, '점': 1, '차는': 2, '우리처럼': 1, '하지': 2, '않습니다': 2, '이게': 3, '차의': 1, '특징입니다': 1, '정신이': 2, '분산': 1, '되지': 1, '가스레인지를': 1, '켜고': 1, '나왔는지': 1, '금융': 1, '전공을': 1, '할지': 1, '말지': 1, '등에': 1, '고민하지': 1, '그냥': 2, '운전만': 1, '운전만이요': 1, '알겠나요': 1, '특징을': 1, '광고할수도': 1, '\"생각이': 1, '없다\"는': 1, '식으로요': 1, '그들은': 5, '자각이': 1, '없고': 1, '걱정을': 1, '않으며': 1, '팔리지': 1, '대부분의': 1, '경우에서': 1, '하려는': 1, '할': 5, '있는': 5, '생각의': 1, '형태를': 1, '가능한': 1, '형태,': 1, '생각들의': 1, '영역을': 1, '데이터화': 1, '해야': 1, '문제들은': 1, '과학적으로': 1, '힘들거나': 1, '시장현실에': 1, '맞지': 1, '않아': 2, '인간의': 2, '사고력만으로는': 1, '풀': 1, '없을': 1, '2단계의': 1, '프로그램이': 1, '필요할': 1, '먼저': 1, '새로운': 9, '창조해내': 1, '문제를': 1, '풀어가는': 1, '예를들어,': 1, '암흑물질과': 1, '양자중력처럼요': 1, '작업은': 1, '외계지성체를': 1, '다를바가': 1, '여러분께': 1, '일을': 4, '외계인처럼': 1, '낯설게': 1, '느낄수도': 1, '다르게': 2, '사고할': 1, '있도록': 1, '도와줄것입니다': 1, '색다른': 1, '생각은': 1, '창조의': 1, '엔진이자': 1, '부와': 1, '경제의': 1, '시작을': 2, '열게': 1, '하니까요': 1, '이어서': 1, '두': 1, '번째': 2, '측면은': 2, '2차': 3, '산업혁명을': 2, '발생시키기': 1, '위해': 1, '사용하는': 1, '제1차': 1, '산업혁명은': 1, '소위': 2, '힘이라는걸': 1, '만들었다는': 2, '사실에': 2, '기반을': 2, '뒀습니다': 1, '이전에는': 1, '농업': 1, '혁명동안은': 1, '사람의': 1, '노동력으로': 1, '만들어졌야': 1, '했습니다': 1, '아니면': 1, '동물의': 2, '힘으로요': 1, '어떠한': 1, '목적이든지': 1, '인간과': 1, '육체적': 2, '노동은': 1, '불가피했습니다': 1, '산업혁명': 1, '일어난': 1, '혁신적인': 1, '변화는': 1, '증기기관과': 1, '화석연료를': 1, '사용해': 1, '원했던': 1, '쓸': 3, '힘을': 2, '오늘날': 1, '고속도로': 1, '주행시': 1, '단순히': 1, '스위치를': 1, '만지는': 1, '250마리의': 1, '말의': 1, '지휘효과를': 1, '250': 2, '마력은': 1, '고층': 1, '건물을': 1, '짓고': 1, '도시를': 1, '세우며': 1, '도로를': 1, '닦는데': 1, '의자나': 1, '냉장고를': 1, '공장들이': 1, '돌아가게': 1, '만드는,': 1, '인간을': 1, '한참': 1, '넘어서는': 1, '힘입니다': 1, '힘은': 1, '집과,': 1, '공장,': 1, '농가': 1, '등으로': 1, '그리드상에서': 1, '분배됩니다': 1, '누구나': 1, '플러그를': 1, '꼽기만': 1, '하면': 1, '살': 2, '혁신의': 1, '근원이었습니다': 1, '농부가': 1, '수동식': 1, '펌프에': 1, '힘,': 1, '전기를': 1, '적용하여': 1, '자동식': 1, '펌프를': 2, '가질': 1, '경우가': 1, '몇': 2, '천,': 1, '만번': 1, '반복되고': 1, '그렇게': 1, '생기는': 1, '공식이': 1, '우리를': 1, '산업혁명으로': 2, '이끌었습니다': 1, '보는': 1, '모든것과': 1, '즐기는': 1, '과정은': 1, '해냈다는': 1, '사실로부터': 1, '비롯됩니다': 1, '인공지능의': 2, '경우': 1, '에도': 1, '적용해볼수': 1, '배전망을': 1, '통해': 2, '분배하여': 1, '힘이': 1, '더해진': 1, '자동펌프에': 1, '더할': 1, '그렇다면': 1, '스마트': 1, '가질수': 1, '없이': 1, '반복하여': 1, '제': 1, '나아갈': 1, '그에': 1, '따라서,': 1, '이제': 2, '고속도로를': 1, '달리는': 1, '마력에다가': 1, '250개의': 1, '생각까지': 1, '갖춘': 1, '자동주행': 1, '되겠지요': 1, '이건': 1, '거의': 1, '상품입니다': 1, '용도이니까요': 1, '인공지능은': 2, '상공이라는': 1, '따라': 2, '전기가': 1, '그랬듯': 1, '퍼져나갈': 1, '그럼으로써': 1, '전기로': 1, '작동하던': 1, '인공지능화(cognify)할': 1, '예언하건데,': 1, '미래에': 3, '스타트업': 1, '사업의': 1, '열': 1, '공식은': 1, '매우': 2, '간결합니다': 1, '변수': 1, 'x에': 1, '더하는': 1, '것이죠': 3, '공식이고': 1, '일입니다': 1, '일으킬': 1, '그나저나,': 1, '당장,': 1, '여기서': 1, '구글에': 1, '로그인': 1, '해서': 1, '6센트에': 1, '100번': 1, '당장': 1, '가능': 1, '한': 1, '거란': 1, '말이죠': 1, '이에': 1, '대한': 3, '구체화시키고': 1, '로봇을': 1, '만들었을': 1, '때입니다': 1, '로봇은': 3, '수족이': 1, '될': 4, '했던': 1, '일들을': 1, '하게': 1, '되죠': 1, '직업은': 1, '일의': 2, '뭉텅이이기': 1, '직업에': 1, '개념을': 1, '재정립할겁니다': 1, '맡게': 1, '것이기': 1, '한편,': 1, '전에는': 1, '원했는지조차': 1, '몰랐던': 2, '종류,': 1, '업무를': 1, '만들어': 2, '낼': 2, '로봇의': 2, '탄생은': 1, '직업군과': 1, '달성하고': 1, '싶어할': 1, '과제를': 1, '새롭게': 1, '만들어낼': 1, '자동화된': 1, '기기가': 1, '과거에는': 1, '필요했는지': 1, '조차도': 1, '것들을': 1, '냈고': 1, '이제는': 1, '그들': 1, '없이는': 1, '없는': 1, '것처럼요': 1, '로봇들은': 1, '차지한': 1, '직업보다': 1, '직업을': 1, '양상해': 1, '점은': 1, '그들에게': 1, '할당하는': 1, '업무들의': 1, '대부분이': 1, '효율성과': 2, '생산성이라는': 1, '가치로': 1, '정의될수': 1, '있다는': 1, '당신이': 1, '설명할수': 1, '있다면': 1, '노동이든': 2, '정신적': 1, '일은': 1, '생산성의': 1, '관점에서': 1, '로봇이': 1, '대신': 1, '분류': 1, '생산성은': 1, '몫이라는': 1, '로봇보다': 1, '잘하는': 1, '시간을': 1, '낭비하는': 1, '것일테니까요': 1, '실제로': 1, '비효율적인': 1, '걸': 3, '잘합니다': 1, '과학은': 3, '본질적으로': 1, '비효율적이죠': 1, '번': 1, '실패했다는': 1, '점에': 2, '기반합니다': 1, '성공하지': 1, '못한': 1, '실험과': 1, '시험을': 1, '했다는': 1, '근거합니다': 1, '그렇지': 1, '않다면,': 1, '배울': 1, '효율성이': 1, '부족하다는': 1, '둡니다': 1, '혁신을': 1, '정의하자면': 1, '비효율일': 1, '시제품을': 1, '실패하거나': 1, '작동하지': 1, '않을': 1, '무언가를': 1, '시도해보겠죠': 1, '모험도': 1, '근본적': 1, '비효율성을': 1, '예술도': 1, '효율적이지': 2, '않아요': 1, '인간관계': 1, '것들은': 1, '자연스럽게': 1, '끌리는': 1, '일들입니다': 1, '비효율적이기': 1, '효율성은': 1, '로봇들에게': 1, '인공지능들과': 2, '일해야': 1, '배워야합니다': 1, '생각하니까요': 1, '딥': 1, '블루가': 1, '제일의': 2, '체스': 2, '챔피언에게': 1, '이겼을': 1, '사람들은': 1, '체스의': 1, '끝이라고': 1, '생각했습니다': 1, '실제로는,': 1, '요즘': 1, '세계제일의': 1, '챔피언은': 1, '인공지능이': 1, '인간도': 1, '인공지능과': 1, '팀이죠': 1, '의료분석가는': 1, '의사도': 1, '아니고': 1, '인공지능도': 1, '아닌': 1, '의사와': 1, '팀입니다': 1, '일하게': 1, '얼마나': 1, '로봇과': 1, '할수': 1, '연봉이': 1, '결정될거라고': 1, '저의': 1, '세번째': 1, '포인트는': 1, '이겁니다': 1, '다르다는': 1, '도구예요': 1, '적대심을': 1, '가지는': 1, '게': 1, '존재입니다': 1, '그들을': 1, '거부하지': 1, '일하려고': 1, '해야합니다': 1, '미래에는': 1, '될까요': 1, '25년': 2, '후에': 1, '지금을': 1, '돌아봤을': 1, '이해를': 1, '보곤': 1, '말을': 1, '거라고': 1, '\"너희는': 1, 'AI를': 1, '솔직히': 1, '너희가': 1, '간': 1, '비하면': 1, '인터넷': 1, '정도도': 1, '안돼.\"': 1, '당장은': 1, '전문가가': 1, '단': 1, '하나도': 1, '돈이': 1, '쓰이고': 1, '수십억': 1, '달러쯤은': 1, '투자되고': 1, '사업이죠': 1, '하지만,': 1, '후와': 1, '비교하면': 1, '전문가라고': 1, '할만한게': 1, '없죠': 1, '정말': 1, '초기': 1, '단계에': 1, '모든것의': 1, '시작점에': 3, '닥쳐올': 1, '것의': 1, '후': 1, '모두가': 1, '사용하고': 1, '아직은': 1, '발명되지': 1, '않았습니다': 1, '늦지': 1, '않았단': 1, '뜻합니다': 1, '감사합니다.': 1}\n",
            "우리가       29\n",
            "수         35\n",
            "우리는       31\n",
            "있습니다      35\n",
            "더         21\n",
            "          ..\n",
            "저에겐        1\n",
            "기대할        1\n",
            "만한         1\n",
            "가치가        1\n",
            "미래입니다.     1\n",
            "Length: 1836, dtype: int64\n",
            "{'이': 5, '자리에': 1, '크리에이터나': 1, '디자이너,': 1, '엔지니어,기업가,': 1, '예술가': 1, '풍부한': 1, '상상력을': 1, '가진': 3, '분이': 2, '있다면': 3, '손을': 1, '들어': 3, '보세요': 1, '거의': 2, '다군요': 1, '그러한': 1, '여러분에게': 1, '전해드릴': 1, '소식이': 1, '있습니다': 17, '지금으로부터': 1, '20년': 1, '동안': 2, '지난': 4, '2000년간': 1, '인간이': 11, '일했던': 1, '방식의': 1, '변화보다': 1, '더': 8, '많은': 3, '변화가': 1, '있을': 2, '것입니다': 22, '저는': 2, '인류사에': 1, '새로운': 8, '시대의': 3, '새벽이': 1, '왔다고': 1, '봅니다': 1, '일하는': 1, '방식으로': 2, '크게': 1, '네': 1, '시대로': 1, '나눌': 1, '수': 15, '수렵과': 1, '채집의': 1, '시대는': 3, '수백만': 1, '년간': 3, '지속됐죠': 1, '그': 9, '다음엔': 1, '농경': 1, '시대가': 2, '수천': 2, '지속됐으며': 1, '산업': 1, '세기간': 1, '이어졌습니다': 1, '그리고': 11, '정보': 1, '몇십': 1, '지속되고': 1, '오늘날': 1, '우리는': 12, '한': 5, '종으로서': 1, '다음': 1, '위대한': 1, '시작에': 1, '있어요': 1, '증강의': 1, '시대에': 1, '오신': 1, '것을': 19, '환영합니다': 1, '시대에서는': 1, '인간의': 9, '사고를': 1, '돕는': 1, '컴퓨터': 3, '시스템을': 1, '통해': 1, '자연': 1, '능력이': 2, '증강될': 2, '겁니다': 7, '로봇': 5, '시스템은': 2, '제작을': 1, '도우며': 1, '디지털': 3, '신경계는': 2, '타고난': 1, '자연적인': 1, '감각너머의': 1, '세계와': 1, '여러분을': 1, '연결할': 1, '인식의': 1, '증강부터': 1, '시작하죠': 1, '여러분': 2, '중': 3, '몇': 3, '증강된': 2, '사이보그일까요': 1, '전': 2, '이미': 1, '증강됐다고': 1, '주장할': 1, '테니까요': 1, '파티에': 1, '갔다고': 1, '상상하면': 1, '누군가': 1, '당신이': 2, '답을': 2, '알지': 2, '못하는': 1, '질문을': 1, '했을때': 1, '이것만': 1, '초': 1, '만에': 1, '알': 1, '하지만': 9, '이는': 2, '겨우': 1, '시작일': 1, '뿐입니다': 1, '심지어': 2, \"'Siri'조차도\": 1, '수동적인': 1, '도구에': 1, '지나지': 1, '않습니다': 2, '사실': 4, '350만': 1, '년': 1, '인류가': 1, '사용했던': 1, '도구는': 3, '완벽하게': 2, '수동적': 1, '이었습니다': 1, '그것은': 1, '명확한': 1, '지시': 2, '없이는': 2, '아무것도': 2, '하지': 3, '못했습니다': 1, '최초의': 1, '정한': 1, '지점만': 1, '잘라냈죠': 1, '예술가의': 1, '의도': 1, '없이': 2, '끌은': 1, '조각도': 1, '못': 5, '하죠': 1, '가장': 1, '진보한': 2, '도구조차도': 1, '합니다': 4, '오늘날까지': 1, '문자': 1, '그대로': 1, '항상': 2, '손으로': 1, '컴퓨터도': 1, '의도를': 1, '가지고': 3, '일일히': 1, '누르거나': 1, '해야': 4, '한다는': 1, '한계를': 1, '가진다는': 1, '것은': 6, '저에게': 1, '실망감을': 1, '줍니다': 1, '스타': 1, '트렉의': 1, 'Scotty처럼': 1, '컴퓨터와': 2, '대화하고': 1, '싶습니다': 1, '\"자동차를': 1, '디자인해': 1, '보자\"라고': 1, '컴퓨터에': 1, '말하면': 2, '컴퓨터가': 7, '자동차를': 1, '보여': 1, '주고': 2, '\"더': 1, '빠르게': 2, '좀': 1, '덜': 1, '독일제처럼\"이라고': 1, '하면': 1, '제게': 1, '선택지를': 1, '제시하는': 1, '것처럼요': 1, '위에서': 1, '언급한': 1, '대화는': 1, '분들의': 1, '생각과는': 1, '거리가': 1, '있지만': 1, '지금': 3, '이런': 3, '연구하고': 1, '시키는': 1, '것만': 1, '가능했던': 1, '도구에서': 1, '생산적인': 2, '것으로': 4, '변화': 2, '중입니다': 1, '디자인': 3, '기하학적': 1, '구조를': 1, '다루는': 1, '알고리즘을': 2, '사용하여': 1, '스스로': 3, '디자인을': 5, '만듭니다': 1, '여러분이': 3, '목표와': 1, '제약만': 1, '알려주면': 1, '됩니다': 2, '예들': 1, '들어보면': 1, \"'무인\": 1, '항공기': 2, \"차대'를\": 1, '원하는': 2, '경우': 1, '이렇게': 4, '4개의': 1, '프로펠러를': 1, '가지면서': 1, '가능한': 2, '가볍고': 1, '공기역학적으로': 1, '효율적인': 1, '원한다': 1, '컴퓨터는': 3, '모든': 8, '해결': 1, '방법들을': 1, '탐색하고': 1, '수백만개의': 1, '해법들이': 1, '여러분의': 1, '기준에': 1, '맞는지': 1, '맞춰': 1, '볼': 2, '이러한': 3, '작업을': 4, '커다란': 1, '담당합니다': 1, '우리에게': 1, '돌아오는': 1, '결과는': 1, '상상도': 1, '했던': 1, '디자인이죠': 1, '제안한': 1, '아무도': 1, '그려본': 1, '적': 1, '없고': 1, '완전히': 2, '무에서부터': 1, '시작된': 1, '무인': 1, '몸체가': 1, '날다람쥐의': 1, '골반처럼': 1, '생긴': 1, '우연이': 1, '아닙니다': 1, '진화와': 1, '동일한': 2, '작동하도록': 1, '설계했기': 1, '때문이죠': 1, '현실에서': 2, '기술의': 1, '시작을': 1, '보는': 1, '매우': 4, '설레는': 1, '일입니다': 1, '몇년간': 1, '저희는': 2, \"'Airbus`와\": 1, '협력하여': 1, '미래': 1, '지향적인': 1, '비행기를': 1, '연구중이지만': 1, '여전히': 1, '제자리걸음입니다': 1, '최근': 1, '인공지능을': 2, '이용하여': 3, '다음과': 1, '같은': 3, '결과를': 1, '얻었습니다': 2, '이것은': 1, '디자인한': 5, '3D': 2, '프린터로': 1, '출력한': 1, '칸막이입니다': 1, '기존의': 1, '것보다': 1, '튼튼하나': 1, '무게는': 1, '절반입니다': 1, '올해': 1, '말쯤': 1, 'Airbus': 1, 'A320에': 1, '탑재될': 1, '예정입니다': 1, '이제': 4, '잘': 1, '정의된': 1, '문제에': 1, '해법을': 1, '찾아낼': 1, '직관적이지는': 1, '컴퓨터들은': 1, '학습한': 1, '적이': 1, '없기에': 1, '매번': 1, '무로부터': 1, '작업합니다': 1, 'Maggie는': 4, '다릅니다': 1, '현재': 2, '제일': 2, '도구들보다': 1, '똑똑합니다': 1, '무슨': 3, '의미일까요': 1, '주인이': 1, '목줄을': 2, '들면': 1, '산책을': 1, '할': 3, '시간이라는': 1, '정확하게': 1, '알거든요': 1, '어떻게': 3, '아는': 1, '것일까요': 1, '아마': 1, '들었을': 1, '때마다': 1, '함께': 5, '산책했기': 1, '때문일': 1, '세': 1, '가지를': 1, '했습니다': 2, '그녀는': 1, '집중했고': 1, '무슨일이': 1, '일어났는지': 2, '기억했고': 1, '기억을': 1, '유지하면서': 1, '머릿속에': 1, '패턴을': 1, '만들었죠': 1, '흥미롭게도': 1, '과정은': 1, '과학자들이': 1, '60년': 1, '혹은': 2, '그보다': 1, '오랫동안': 1, '인공': 4, '지능에': 1, '적용하려': 1, '것과': 1, '정확히': 1, '일치합니다': 1, '1952년에': 1, '과학자들은': 1, \"'틱택토'\": 1, '게임을': 1, '있는': 5, '컴퓨터를': 1, '설계했는데요': 1, '대단하네요': 1, '후': 2, '45년이': 1, '1997년엔': 1, 'Deep': 1, 'Blue는': 1, '체스에서': 1, 'Kasparov를': 1, '이겼죠': 1, '2011년': 1, 'Watson은': 1, '컴퓨터로선': 1, '체스보다': 1, '많이': 1, '어려운': 2, 'Jeopardy에서': 1, '두': 1, '사람을': 2, '이겼습니다': 2, '미리': 1, '설정된': 1, '방안을': 1, '사용하기보다는': 1, 'Watson이': 1, '인간을': 3, '뛰어넘으려면': 1, '추론을': 1, '했죠': 1, '주': 1, '전에': 1, 'DeepMind의': 1, 'AlphaGo는': 1, '세계에서': 1, '게임중': 1, '하나인': 2, '바둑에서': 1, '세계': 2, '최고수를': 1, '바둑은': 1, '우주에': 1, '원자들보다': 1, '경우의': 1, '수를': 1, '그래서': 2, '이기기': 1, '위해서는': 1, 'AlphaGo가': 2, '직관을': 1, '가지도록': 1, '개발해야': 1, '사실은': 1, '일부': 1, '수는': 1, 'AlphaGo의': 1, '프로그래머들조차도': 1, '왜': 2, '그렇게': 2, '했는지': 1, '이해': 1, '했다고': 1, '모든것이': 1, '변하고': 1, '사람의': 1, '생애와': 1, '시간안에': 1, '아이들의': 1, '게임기에서': 1, '전략적': 1, '사고의': 1, '정점으로': 1, '인식되는': 1, '상황까지': 1, '왔습니다': 1, '일이': 2, '일어난': 2, '것이냐면': 1, 'Spock': 1, '상태의': 1, '점점': 1, 'Kirk처럼': 1, '되어가는': 1, '상황이라고': 1, '순수한': 1, '논리로부터': 1, '직관으로': 1, '이어지는': 1, '다리를': 2, '건너시겠습니까': 1, '대부분이': 1, '\"싫어요\"라고': 1, '하시겠죠': 1, '결정을': 1, '내리는': 1, '순간이었을': 1, '여러분은': 1, '다리가': 2, '위험한': 1, '아니까요': 1, '그것이': 1, '바로': 1, '우리가': 6, '개발을': 1, '시작한': 1, '딥러닝': 1, '시스템이': 2, '직관의': 1, '일종입니다': 1, '가까운': 1, '시일내에': 1, '만들거나': 1, '컴퓨터에게': 1, '보여주면': 1, '말할': 1, \"'미안한데\": 1, '작동을': 1, '않아': 1, '다시': 1, '해': 1, \"봐'\": 1, '내가': 1, '만든': 6, '노래를': 1, '사람들이': 3, '좋아할지를': 1, '묻거나': 1, '아이스크림의': 1, '향도': 1, '요청할': 1, '또는': 1, '중요한': 1, '일로': 1, '이전에': 2, '만나지': 1, '못했던': 2, '문제를': 2, '해결하기': 1, '위해': 2, '컴퓨터로': 1, '작업할': 1, '예를': 2, '기후': 1, '문제는': 1, '힘만으론': 1, '풀지': 1, '못하니까': 1, '도움받을': 1, '총동원할': 1, '있죠': 2, '제가': 1, '말하고자': 1, '하는': 5, '기술은': 1, '우리의': 5, '인지력을': 1, '증폭시킬': 1, '있고': 2, '그런': 2, '기술이': 2, '없던': 1, '상상하고': 2, '디자인할': 2, '있도록': 1, '그럼': 1, '고안하고': 1, '것들을': 2, '모조리': 1, '만들면': 1, '어떨까요': 3, '인간': 3, '증강': 2, '가상적이고': 1, '지적인': 1, '영역만큼이나': 1, '현실': 3, '세계와도': 1, '관련이': 1, '깊다고': 1, '생각합니다': 1, '증강시킬까요': 1, '세계에서는': 1, '로봇들이': 1, '일자리를': 1, '뺏을': 1, '두려워': 1, '하고': 3, '있는데': 2, '몇몇': 1, '분야에서는': 1, '그럴': 1, '흥미로운': 2, '점도': 1, '인간과': 5, '로봇이': 4, '작업하는': 1, '것이': 2, '서로를': 2, '증강시키며': 1, '세상에서': 1, '살기': 1, '시작할': 2, '이곳은': 1, '샌프란시스코에': 1, '응용': 1, '연구소로서': 1, '그곳에서': 1, '우리': 2, '관심분야': 1, '중의': 1, '하나는': 1, '차세대': 1, '로봇인데': 1, '특별히': 1, '로봇의': 2, '협업입니다': 1, '이건': 1, \"'Bishop'이죠\": 1, '실험적으로': 1, '공사장에서': 1, '벽에': 1, '콘센트나': 1, '전등': 1, '스위치의': 1, '구멍을': 1, '내는': 1, '것': 2, '같이': 1, '반복적인': 1, '일을': 2, '돕기': 1, 'Bishop을': 1, '만들었습니다': 1, 'Bishop의': 1, '파트너가': 1, '개한테': 1, '것처럼': 1, '간단한': 1, '영어나': 1, '몸짓으로': 1, '무엇을': 2, '할지': 2, '지시하면': 1, 'Bishop은': 1, '지시를': 1, '수행하죠': 1, '장점인': 2, '인식과': 1, '지각': 1, '의사결정을': 1, '로봇을': 1, '정밀도와': 1, '반복은': 1, '수행합니다': 1, '여기': 1, '또': 2, '다른': 2, '멋진': 1, '프로젝트가': 1, 'HIVE라는': 1, '프로젝트의': 1, '목표는': 1, '복잡한': 1, '풀기': 1, '위한': 2, '시범': 1, '경험을': 1, '만드는': 5, '인간은': 1, '노동자의': 1, '역할입니다': 1, '그들은': 3, '공사': 1, '현장을': 1, '돌아다니면서': 1, '대나무를': 1, '다뤘습니다': 1, '대나무는': 1, '형태가': 1, '아니어서': 1, '다루기에는': 1, '어렵습니다': 1, '로봇들은': 1, '섬유를': 1, '감는': 1, '했는데': 1, '인간에게': 1, '불가능한': 1, '일이죠': 1, '통제하기': 1, '위하여': 1, '사용했습니다': 1, '인공지능은': 1, '알려': 1, '계속하여': 1, '개의': 2, '개별': 1, '구성': 1, '요소를': 1, '추적했죠': 1, '점은': 1, '임시': 1, '구조물을': 1, '세우는': 1, '일은': 2, '인공지능이': 1, '증강시키지': 1, '않고서는': 1, '불가능하다는': 1, '약간': 1, '미친': 1, '짓': 2, '같지만': 2, '프로젝트도': 1, 'Amsterdam에서': 2, '활동하는': 1, '예술가인': 1, 'Joris': 1, 'Laarman': 1, '및': 2, '그의': 2, '팀과': 2, 'MX3D에서': 1, '만들고': 3, '로봇으로': 1, '출력하여': 1, '최초로': 1, '말씀드린': 1, '대로': 1, 'Joris와': 1, '지능이': 1, '디자인하고': 3, '그들이': 3, '완료해서': 1, 'Go버튼을': 1, '누르면': 1, '로봇은': 2, '스테인리스': 1, '스틸로': 1, '프린팅을': 1, '개입': 1, '완성될': 1, '때까지': 1, '출력을': 1, '계속할': 1, '하도록': 1, '능력을': 1, '증강시킬': 1, '것이고': 3, '전에는': 1, '만들': 1, '없었던': 1, '짓도록': 1, '도울': 1, '텐데요': 1, '판단하고': 1, '제어하는': 1, '능력은': 1, '어떤가요': 1, '신경계은': 3, '신경계,': 1, '주변에서': 1, '파악합니다': 1, '것들의': 1, '시작입니다': 1, '자동차가': 1, '도시의': 1, '공공': 1, '사업국에다': 1, '어디의': 1, '길모퉁이': 1, '도로에': 1, '움푹': 1, '팬': 1, '곳이': 1, '있단': 1, '말을': 1, '건물은': 1, '디자이너에게': 1, '안에': 1, '좋아하는지': 1, '아닌지': 1, '말하진': 1, '않거든요': 1, '장난감': 1, '제조': 1, '업체는': 1, '장난감을': 1, '실제로': 2, '갖고': 1, '노는': 1, '대상이': 1, '언제': 1, '어디서': 1, '즐겁게': 1, '재미없게': 1, '노는지': 1, '못합니다': 1, '보세요,': 1, '분명히': 1, '디자이너는': 1, '바비': 2, '인형을': 1, '때': 1, '삶을': 1, '상상했겠죠': 1, '인형이': 1, '현실에선': 1, '외롭게': 1, '있다면서요': 1, '디자이너들이': 1, '도로와': 1, '건물과': 1, '바비에게': 1, '알면': 1, '정보를': 2, '사용자에게': 1, '나은': 1, '만들기': 1, '위해서': 1, '사용할': 1, '수도': 2, '있겠죠': 1, '부족한': 1, '부분은': 1, '신경계로서': 1, '사용하는': 1, '모두': 1, '연결하는': 1, '신경계입니다': 1, '만일': 3, '모두가': 1, '것에': 2, '대한': 1, '충분한': 2, '것들에서': 1, '수많은': 1, '시간과': 1, '에너지가': 1, '사용됩니다': 1, '작년에': 1, '약': 1, '2조': 1, '달러가': 1, '제품을': 2, '사도록': 1, '소비자를': 1, '설득하는데': 1, '사용되었습니다': 1, '세계에': 1, '출시된': 1, '후라도': 1, '신경': 1, '시스템과': 1, '연결된다면': 1, '그것들이': 1, '팔린': 1, '후나': 1, '출시하는': 1, '시점이나': 1, '언제라도': 1, '그것을': 1, '바꿀': 1, '소비자가': 2, '원하도록': 1, '것에서': 5, '처음부터': 1, '만들게': 1, '될': 1, '희소식은': 1, '개발': 1, '중인': 1, '신경계가': 1, '우리를': 1, '것들과': 1, '연결해': 1, '준다는': 1, 'LA에서': 1, 'Bandito형제': 1, '프로젝트를': 1, '하나': 1, '진행중입니다': 1, '하나로': 1, '광란의': 1, '질주를': 1, '차가': 1, '제정신이': 1, '아니에요': 1, '미쳤죠': 1, '그게': 1, '최선이겠지만요': 1, '저희가': 1, '진행한': 1, '전통적인': 1, '경주차의': 1, '차대에': 1, '신경계를': 2, '제공한': 1, '수십': 1, '센서를': 1, '달고': 1, '세계적인': 1, '수준의': 1, '운전자를': 1, '태워': 1, '사막으로': 1, '가서': 1, '일주일간': 1, '사정없이': 1, '달렸습니다': 1, '자동차의': 1, '자동차에서': 1, '일어나는': 1, '저장했습니다': 1, '차에': 1, '가해진': 1, '힘들을': 1, '포함한': 1, '40억개의': 1, '데이터를': 2, '정신': 1, '나간': 1, '모아서': 1, '지능인': 1, \"'Dreamcatcher'에\": 1, '넣었습니다': 1, '도구에게': 1, '주었고': 1, '최고로': 1, '좋은': 1, '차대를': 1, '만들라고': 1, '요청했다면': 1, '될까요': 1, '이것을': 1, '얻을': 1, '번도': 1, '디자인하지': 1, '않았던': 1, '제외하고': 1, '지능으로': 1, '신경계와': 1, '제작할': 1, '이것이': 1, '미래이고,': 1, '시대라면,': 1, '인지적,': 1, '육체적,': 1, '지각적으로': 1, '그러면': 1, '무엇처럼': 1, '보일까요': 1, '세상은': 3, '이렇지': 1, '않을까요': 1, '제': 1, '생각에는': 1, '물건을': 2, '제작하는': 1, '키우는': 1, '옮겨가는': 1, '세상을': 1, '건설하는': 1, '성장하는': 1, '옮겨갈': 1, '고립된': 1, '연결되는': 1, '이동할': 1, '또한': 2, '추출하는': 1, '축적하는': 1, '방향으로': 1, '나아갈': 1, '주변의': 1, '사물에': 1, '지시하기보다는': 1, '자율성에': 1, '가치를': 1, '두는': 1, '쪽으로': 1, '변할': 1, '증강하는': 1, '감사하고': 1, '극적인': 1, '변화를': 1, '맞이할': 1, '더욱': 5, '다양해지고': 1, '연결되며': 1, '역동적이면서': 1, '복잡해질': 1, '수용적일': 1, '것이면서': 1, '당연스럽게': 1, '아름다울': 1, '앞으로': 1, '다가올': 1, '모습은': 2, '이전의': 1, '어떤': 1, '것과도': 1, '다를': 1, '그럴까요': 1, '세상의': 1, '기술과': 1, '자연와': 1, '사이의': 1, '협력': 1, '관계': 1, '덕분입니다': 1, '저에겐': 1, '기대할': 1, '만한': 1, '가치가': 1, '미래입니다.': 1}\n",
            "있습니다     41\n",
            "수        44\n",
            "것입니다     40\n",
            "우리는      39\n",
            "우리가      32\n",
            "         ..\n",
            "있으니       1\n",
            "인력들이      1\n",
            "자유롭게      1\n",
            "자신이       1\n",
            "해주세요.     1\n",
            "Length: 2349, dtype: int64\n",
            "{'바에': 3, '가보신': 1, '적': 1, '있으시죠': 1, '하지만': 5, '간': 1, '덕분에': 1, '2억': 2, '달러짜리': 1, '계약을': 1, '따게': 1, '된': 1, '적은': 1, '없을': 1, '거예요': 1, '10년': 1, '전에': 1, '우리에게': 4, '그런': 3, '일이': 2, '있었습니다': 2, '끔찍한': 1, '하루였던': 1, '어느': 1, '날이었어요': 1, '큰': 1, '고객사가': 1, '우리를': 1, '거의': 2, '죽이려': 1, '들었거든요': 1, '우리는': 8, '소프트웨어': 2, '컨설팅': 2, '회사였는데': 1, '특정': 1, '프로그래밍': 3, '스킬이': 1, '없어서': 1, '고객이': 2, '원하는': 2, '최첨단': 1, '클라우드': 1, '시스템을': 1, '구축할': 1, '수': 9, '없었습니다': 3, '엔지니어는': 1, '많았지만': 1, '아무도': 1, '그': 6, '고객을': 1, '만족시킬': 1, '잘릴': 2, '지경이었죠': 1, '그래서': 3, '갔습니다': 1, '거기서': 1, '바텐더': 1, '제프와': 2, '이런저런': 1, '얘기를': 1, '나눴죠': 1, '그는': 3, '좋은': 1, '바텐더가': 1, '할': 3, '일을': 2, '다': 2, '해주었습니다': 1, '우리': 7, '얘기에': 1, '공감해주고,': 1, '기분을': 1, '풀어주고': 1, '고충을': 1, '달래기도': 1, '했죠': 2, '\"그': 1, '고객들이': 1, '너무': 2, '했네요': 1, '신경쓰지': 1, '마세요.\"': 1, '그러다': 1, '진지하게': 1, '이렇게': 2, '말했습니다': 3, '\"저를': 1, '고객사로': 1, '보내': 1, '주세요': 1, '제가': 3, '방법을': 4, '찾아': 1, '볼게요.\"': 1, '다음날': 1, '아침,': 1, '팀': 1, '회의를': 1, '했습니다': 1, '물론': 1, '다들': 3, '술이': 1, '덜': 4, '깬': 1, '상태였죠..': 1, '저는': 3, '반농담조로': 1, '뭐': 1, '어차피': 1, '판이었으니까요': 1, '말했죠': 1, '\"바텐더': 1, '제프를': 1, '보내면': 1, '어떨까요?\"': 1, '잠시': 1, '침묵이': 1, '흐르고': 1, '놀라는': 1, '듯': 1, '하더니': 1, '마침내': 1, '팀장이': 1, '\"좋은': 1, '아이디어군요.\"': 1, '\"제프는': 1, '매우': 1, '똑똑하고': 1, '뛰어난': 1, '사람이죠': 1, '뭔가': 1, '찾을': 1, '겁니다': 1, '그를': 3, '고객에게': 1, '보냅시다.\"': 1, '제프는': 3, '프로그래머가': 1, '아닙니다': 3, '사실,': 1, '펜실베니아': 1, '대학에서': 1, '철학을': 1, '공부하다': 1, '중퇴했죠': 1, '똑똑했습니다': 1, '문제를': 1, '깊이': 1, '볼': 1, '능력이': 2, '있었죠': 1, '우리도': 1, '잘리기': 1, '직전이라': 1, '보냈습니다': 1, '긴장의': 1, '몇': 2, '지난': 1, '후': 1, '계속': 2, '고객사에': 1, '고객은': 1, '돌려': 1, '보내지': 1, '않았어요': 1, '전': 2, '믿을': 1, '뭘': 1, '어떻게': 2, '했을까요': 1, '내막은': 1, '이러했습니다': 1, '고객의': 1, '스킬에': 1, '대한': 2, '집착을': 1, '완전히': 2, '버리게': 1, '만들었습니다': 1, '그리고': 4, '논의': 2, '주제를': 1, '바꾸었죠': 1, '심지어': 1, '우리가': 3, '만들려던': 1, '대상까지': 1, '바꾸어버렸습니다': 1, '무얼': 1, '만들지와': 1, '만드는': 1, '목적이': 1, '주제가': 1, '되었습니다': 3, '물론,': 2, '해결책을': 1, '프로그래밍하는': 1, '찾아냈고': 1, '고객사는': 1, '주요': 1, '참고': 1, '사례': 1, '중': 4, '하나가': 1, '당시': 1, '200명의': 1, '직원이': 2, '있었고': 2, '절반은': 1, '컴퓨터': 5, '과학이나': 3, '공학': 3, '전공자였습니다': 1, '제프의': 2, '사례로': 1, '한가지': 1, '의문점이': 1, '남았죠': 1, '업무에': 1, '다시': 1, '적용할': 1, '있을까': 1, '채용과': 1, '교육방식을': 1, '바꾸었습니다': 1, '전공자를': 2, '찾으면서도': 1, '예술가,': 1, '음악가,': 1, '작가를': 1, '간간이': 1, '포함시켰습니다': 1, '그리고,': 1, '같은': 1, '경우가': 1, '반복해서': 1, '나타나기': 1, '시작했습니다': 1, '최고': 1, '기술': 5, '책임자(CTO)는': 1, '영어': 1, '전공자입니다': 1, '맨해튼에서': 1, '자전거': 1, '택배를': 1, '하기도': 1, '현재는': 1, '1,000명이': 1, '되었고': 1, '여전히': 2, '100명': 1, '이하의': 1, '전공자가': 1, '있고': 1, '회사입니다': 2, '시장에서': 1, '일등': 1, '기업이고': 1, '급': 1, '성장하는': 1, '패키지를': 1, '만들고': 1, '연매출이': 1, '100억': 1, '달러에': 1, '가깝습니다': 1, '효과가': 1, '있었던': 2, '거죠': 1, '반면': 3, '우리나라에서': 1, 'STEM': 4, '기반': 1, '교육에': 2, '강요는': 1, '--': 1, '과학,': 1, '기술,': 1, '공학,': 1, '수학--': 1, '극심합니다': 1, '이는': 2, '모두의': 1, '모습입니다': 1, '엄청난': 2, '실수입니다': 1, '2009년': 1, '이후,': 1, '미국의': 1, '전공자는': 1, '43%': 1, '증가했습니다': 1, '인문학': 2, '전공자': 1, '수는': 1, '동일합니다': 1, '우리의': 3, '대통령은': 2, '10억': 1, '달러': 1, '이상을': 1, '투자했습니다': 2, '다른': 2, '과목의': 1, '예산을': 1, '줄이면서': 1, '말이죠': 2, '현': 1, '최근': 1, '교육부': 1, '예산': 1, '달러를': 1, '과학': 1, '쪽에': 1, '기업': 2, 'CEO들은': 2, '늘': 1, '공학전공': 1, '인력이': 1, '부족하다고': 1, '불평합니다': 1, '이런': 4, '움직임은': 1, '경제의': 1, '명백한': 1, '성공과': 1, '맞물리게': 1, '그러니까,': 1, '솔직히': 1, '말해서': 1, '시가총액으로': 1, '따져서': 1, '세계': 1, '10대': 1, '7개는': 1, '관련': 1, '이로부터': 1, '예측되는': 1, '것은': 4, '미래': 3, '인력의': 1, '경력은': 1, 'STEM으로': 1, '채워질': 1, '거라는': 1, '것입니다': 6, '좋아요': 1, '이론적으로': 1, '맞습니다': 1, '매력적이기도': 1, '하죠': 1, '과대평가되었습니다': 1, '축구팀': 1, '선수': 1, '모두가': 1, '공을': 1, '따라': 1, '한곳': 1, '구석으로': 1, '모이는': 1, '모양새입니다': 1, '공이': 1, '거기': 1, '있으니까요': 1, 'STEM에': 1, '가치를': 2, '부여해서는': 1, '안됩니다': 3, '더': 3, '이상': 1, '이상으로': 1, '과학에': 1, '부여하면': 1, '여기에는': 1, '가지': 1, '이유가': 1, '있습니다': 6, '첫째,': 1, '오늘날': 1, '기술은': 1, '너무나도': 1, '직관적입니다': 1, '다양한': 1, '채용할': 1, '전문': 1, '분야에': 1, '눈을': 1, '돌릴': 1, '이유는': 1, '최신': 1, '시스템은': 1, '기술이': 2, '없어도': 1, '다룰': 1, '있기': 1, '때문입니다': 1, '레고처럼': 1, '쉽게': 1, '조립하고,': 1, '배우기': 1, '쉽고,': 1, '프로그래밍도': 1, '쉽습니다': 1, '학습에': 1, '필요한': 3, '광범위한': 1, '정보가': 1, '주어지기': 1, '때문이죠': 1, '인력은': 1, '전문적인': 1, '필요합니다': 1, '능력은': 2, '휠씬': 1, '엄격하고': 1, '정형화된': 1, '교육만': 1, '있으면': 1, '됩니다': 1, '과거에': 1, '비해서': 1, '둘째,': 1, '반드시': 1, '필요하고': 1, '차별화되는': 1, '직관적인': 1, '기술의': 1, '세계에서': 1, '인간으로서': 2, '함께': 1, '일하는': 1, '데에': 1, '도움을': 1, '주는': 1, '능력입니다': 1, '열심히': 1, '일한다는': 1, '최종': 2, '산출물을': 1, '구상하는': 1, '것이죠': 1, '효용성도': 1, '포함해서요': 1, '실제': 1, '세계의': 1, '경험과': 1, '판단,': 1, '역사적': 1, '맥락이': 1, '요구됩니다': 1, '사례에서': 1, '배운': 1, '잘못된': 1, '곳에': 1, '집중했다는': 1, '전형적인': 1, '형태는': 1, '이렇습니다': 1, '기술자는': 1, '기업이나': 1, '사용자와': 1, '소통하기': 1, '위해': 1, '애쓰고': 1, '기업은': 1, '자신의': 1, '요구': 1, '사항을': 1, '분명하게': 1, '설명하지': 1, '못합니다': 1, '경우를': 1, '매일': 1, '봅니다': 1, '표면만': 1, '겉돌고': 1, '서로': 1, '소통하고': 1, '개발하는': 1, '능력에': 1, '있어서': 1, '말입니다': 1, '과학이': 1, '무언가를': 1, '만들지에': 1, '대해': 1, '가르쳐주는': 1, '반면에': 1, '인문학은': 5, '무엇을': 1, '만들어야': 2, '하고': 1, '왜': 1, '하는지를': 1, '알려줍니다': 2, '이': 1, '둘': 2, '모두': 1, '똑같이': 1, '중요하고': 2, '어렵습니다': 1, '불편함을': 1, '느끼는': 1, '때는': 1, '사람들이': 1, '인문학을': 1, '쉬운': 1, '경력으로': 1, '취급할': 1, '때입니다': 1, '여러분': 1, '세상의': 1, '맥락을': 1, '제공합니다': 2, '비판적으로': 1, '사고하는': 1, '의도적으로': 2, '구조화되지': 1, '않았습니다': 1, '과학은': 1, '구조화되었습니다': 1, '설득을': 1, '가르치고': 1, '언어를': 1, '이를': 1, '통해': 1, '감성을': 1, '사고와': 1, '행동으로': 1, '전환합니다': 1, '과학과': 1, '동등하게': 1, '취급되어야': 1, '합니다': 1, '여러분도': 1, '많은': 1, '예술가를': 1, '채용하여': 1, '회사를': 1, '설립할': 1, '그러면': 1, '결과를': 1, '얻을': 1, '오늘': 1, '여기에': 1, 'STEM이': 2, '나쁘다고': 1, '말하려고': 1, '온': 1, '여성': 1, '프로그래머를': 1, '반대하려는': 1, '것도': 1, '아니에요': 1, '제발': 1, '운전해': 1, '갈': 1, '다음': 2, '다리': 1, '혹은': 2, '탈': 1, '엘리베이터..': 1, '이면에는': 1, '공학이': 1, '있음을': 1, '분명히': 1, '합시다': 1, '그러나': 1, '편집증에': 1, '잘못': 1, '빠지면': 1, '직업을': 1, '지배할': 1, '그건': 1, '어리석은': 1, '여러분이': 1, '친구,': 1, '자녀,': 1, '친척,': 1, '손주': 1, '여자': 1, '조카,': 1, '남자': 1, '조카가': 1, '있다면': 1, '그들이': 2, '대로': 1, '있도록': 1, '격려해': 1, '주십시오': 1, '그곳에': 1, '일자리가': 1, '있을': 1, '졸업장을': 1, '요구합니다': 1, '누구를': 1, '채용하는지': 1, '아세요': 1, '구글,': 1, '애플,': 1, '페이스북': 1, '이들': 1, '회사의': 1, '일자리': 1, '65%는': 1, '기술직이': 1, '판매직,': 1, '디자이너,': 1, '프로젝트': 1, '매니저,': 2, '프로그램': 1, '매니저': 1, '제품': 1, '변호사,': 1, '인사': 1, '관리': 1, '전문가': 1, '강사,': 1, '코치,': 1, '영업,': 1, '구매담당자': 1, '등입니다': 1, '사람들을': 1, '찾고': 1, '인력에게': 1, '한가지가': 1, '동의하실': 1, '거라': 1, '생각해요': 1, '바로': 1, '다양성입니다': 2, '다양성이': 1, '성별이나': 1, '인종으로': 1, '끝나선': 1, '건': 1, '배경의': 1, '능력의': 1, '다양성이죠': 1, '내성적인': 1, '사람과': 2, '외향적인': 1, '사람': 1, '앞서는': 1, '뒤따르는': 1, '사람이': 1, '그것이': 1, '미래의': 1, '인력입니다': 1, '점점': 1, '쉽고': 1, '간편해지고': 1, '있으니': 1, '인력들이': 1, '자유롭게': 1, '자신이': 1, '잘하는': 1, '것을': 1, '배우도록': 1, '해주세요.': 1}\n"
          ]
        },
        {
          "output_type": "execute_result",
          "data": {
            "text/plain": [
              "       word  frequency  doc1  doc2  doc3\n",
              "0         수         44    20    15     9\n",
              "1      있습니다         41    18    17     6\n",
              "2      것입니다         40    12    22     6\n",
              "3       우리는         39    19    12     8\n",
              "4       우리가         32    23     6     3\n",
              "...     ...        ...   ...   ...   ...\n",
              "1100   동등하게          1     0     0     1\n",
              "1099  취급되어야          1     0     0     1\n",
              "1098   여러분도          1     0     0     1\n",
              "1097   예술가를          1     0     0     1\n",
              "2348  해주세요.          1     0     0     1\n",
              "\n",
              "[2349 rows x 5 columns]"
            ],
            "text/html": [
              "\n",
              "  <div id=\"df-3a5fd3e7-b34c-4bbf-ae94-0898216646b9\">\n",
              "    <div class=\"colab-df-container\">\n",
              "      <div>\n",
              "<style scoped>\n",
              "    .dataframe tbody tr th:only-of-type {\n",
              "        vertical-align: middle;\n",
              "    }\n",
              "\n",
              "    .dataframe tbody tr th {\n",
              "        vertical-align: top;\n",
              "    }\n",
              "\n",
              "    .dataframe thead th {\n",
              "        text-align: right;\n",
              "    }\n",
              "</style>\n",
              "<table border=\"1\" class=\"dataframe\">\n",
              "  <thead>\n",
              "    <tr style=\"text-align: right;\">\n",
              "      <th></th>\n",
              "      <th>word</th>\n",
              "      <th>frequency</th>\n",
              "      <th>doc1</th>\n",
              "      <th>doc2</th>\n",
              "      <th>doc3</th>\n",
              "    </tr>\n",
              "  </thead>\n",
              "  <tbody>\n",
              "    <tr>\n",
              "      <th>0</th>\n",
              "      <td>수</td>\n",
              "      <td>44</td>\n",
              "      <td>20</td>\n",
              "      <td>15</td>\n",
              "      <td>9</td>\n",
              "    </tr>\n",
              "    <tr>\n",
              "      <th>1</th>\n",
              "      <td>있습니다</td>\n",
              "      <td>41</td>\n",
              "      <td>18</td>\n",
              "      <td>17</td>\n",
              "      <td>6</td>\n",
              "    </tr>\n",
              "    <tr>\n",
              "      <th>2</th>\n",
              "      <td>것입니다</td>\n",
              "      <td>40</td>\n",
              "      <td>12</td>\n",
              "      <td>22</td>\n",
              "      <td>6</td>\n",
              "    </tr>\n",
              "    <tr>\n",
              "      <th>3</th>\n",
              "      <td>우리는</td>\n",
              "      <td>39</td>\n",
              "      <td>19</td>\n",
              "      <td>12</td>\n",
              "      <td>8</td>\n",
              "    </tr>\n",
              "    <tr>\n",
              "      <th>4</th>\n",
              "      <td>우리가</td>\n",
              "      <td>32</td>\n",
              "      <td>23</td>\n",
              "      <td>6</td>\n",
              "      <td>3</td>\n",
              "    </tr>\n",
              "    <tr>\n",
              "      <th>...</th>\n",
              "      <td>...</td>\n",
              "      <td>...</td>\n",
              "      <td>...</td>\n",
              "      <td>...</td>\n",
              "      <td>...</td>\n",
              "    </tr>\n",
              "    <tr>\n",
              "      <th>1100</th>\n",
              "      <td>동등하게</td>\n",
              "      <td>1</td>\n",
              "      <td>0</td>\n",
              "      <td>0</td>\n",
              "      <td>1</td>\n",
              "    </tr>\n",
              "    <tr>\n",
              "      <th>1099</th>\n",
              "      <td>취급되어야</td>\n",
              "      <td>1</td>\n",
              "      <td>0</td>\n",
              "      <td>0</td>\n",
              "      <td>1</td>\n",
              "    </tr>\n",
              "    <tr>\n",
              "      <th>1098</th>\n",
              "      <td>여러분도</td>\n",
              "      <td>1</td>\n",
              "      <td>0</td>\n",
              "      <td>0</td>\n",
              "      <td>1</td>\n",
              "    </tr>\n",
              "    <tr>\n",
              "      <th>1097</th>\n",
              "      <td>예술가를</td>\n",
              "      <td>1</td>\n",
              "      <td>0</td>\n",
              "      <td>0</td>\n",
              "      <td>1</td>\n",
              "    </tr>\n",
              "    <tr>\n",
              "      <th>2348</th>\n",
              "      <td>해주세요.</td>\n",
              "      <td>1</td>\n",
              "      <td>0</td>\n",
              "      <td>0</td>\n",
              "      <td>1</td>\n",
              "    </tr>\n",
              "  </tbody>\n",
              "</table>\n",
              "<p>2349 rows × 5 columns</p>\n",
              "</div>\n",
              "      <button class=\"colab-df-convert\" onclick=\"convertToInteractive('df-3a5fd3e7-b34c-4bbf-ae94-0898216646b9')\"\n",
              "              title=\"Convert this dataframe to an interactive table.\"\n",
              "              style=\"display:none;\">\n",
              "        \n",
              "  <svg xmlns=\"http://www.w3.org/2000/svg\" height=\"24px\"viewBox=\"0 0 24 24\"\n",
              "       width=\"24px\">\n",
              "    <path d=\"M0 0h24v24H0V0z\" fill=\"none\"/>\n",
              "    <path d=\"M18.56 5.44l.94 2.06.94-2.06 2.06-.94-2.06-.94-.94-2.06-.94 2.06-2.06.94zm-11 1L8.5 8.5l.94-2.06 2.06-.94-2.06-.94L8.5 2.5l-.94 2.06-2.06.94zm10 10l.94 2.06.94-2.06 2.06-.94-2.06-.94-.94-2.06-.94 2.06-2.06.94z\"/><path d=\"M17.41 7.96l-1.37-1.37c-.4-.4-.92-.59-1.43-.59-.52 0-1.04.2-1.43.59L10.3 9.45l-7.72 7.72c-.78.78-.78 2.05 0 2.83L4 21.41c.39.39.9.59 1.41.59.51 0 1.02-.2 1.41-.59l7.78-7.78 2.81-2.81c.8-.78.8-2.07 0-2.86zM5.41 20L4 18.59l7.72-7.72 1.47 1.35L5.41 20z\"/>\n",
              "  </svg>\n",
              "      </button>\n",
              "      \n",
              "  <style>\n",
              "    .colab-df-container {\n",
              "      display:flex;\n",
              "      flex-wrap:wrap;\n",
              "      gap: 12px;\n",
              "    }\n",
              "\n",
              "    .colab-df-convert {\n",
              "      background-color: #E8F0FE;\n",
              "      border: none;\n",
              "      border-radius: 50%;\n",
              "      cursor: pointer;\n",
              "      display: none;\n",
              "      fill: #1967D2;\n",
              "      height: 32px;\n",
              "      padding: 0 0 0 0;\n",
              "      width: 32px;\n",
              "    }\n",
              "\n",
              "    .colab-df-convert:hover {\n",
              "      background-color: #E2EBFA;\n",
              "      box-shadow: 0px 1px 2px rgba(60, 64, 67, 0.3), 0px 1px 3px 1px rgba(60, 64, 67, 0.15);\n",
              "      fill: #174EA6;\n",
              "    }\n",
              "\n",
              "    [theme=dark] .colab-df-convert {\n",
              "      background-color: #3B4455;\n",
              "      fill: #D2E3FC;\n",
              "    }\n",
              "\n",
              "    [theme=dark] .colab-df-convert:hover {\n",
              "      background-color: #434B5C;\n",
              "      box-shadow: 0px 1px 3px 1px rgba(0, 0, 0, 0.15);\n",
              "      filter: drop-shadow(0px 1px 2px rgba(0, 0, 0, 0.3));\n",
              "      fill: #FFFFFF;\n",
              "    }\n",
              "  </style>\n",
              "\n",
              "      <script>\n",
              "        const buttonEl =\n",
              "          document.querySelector('#df-3a5fd3e7-b34c-4bbf-ae94-0898216646b9 button.colab-df-convert');\n",
              "        buttonEl.style.display =\n",
              "          google.colab.kernel.accessAllowed ? 'block' : 'none';\n",
              "\n",
              "        async function convertToInteractive(key) {\n",
              "          const element = document.querySelector('#df-3a5fd3e7-b34c-4bbf-ae94-0898216646b9');\n",
              "          const dataTable =\n",
              "            await google.colab.kernel.invokeFunction('convertToInteractive',\n",
              "                                                     [key], {});\n",
              "          if (!dataTable) return;\n",
              "\n",
              "          const docLinkHtml = 'Like what you see? Visit the ' +\n",
              "            '<a target=\"_blank\" href=https://colab.research.google.com/notebooks/data_table.ipynb>data table notebook</a>'\n",
              "            + ' to learn more about interactive tables.';\n",
              "          element.innerHTML = '';\n",
              "          dataTable['output_type'] = 'display_data';\n",
              "          await google.colab.output.renderOutput(dataTable, element);\n",
              "          const docLink = document.createElement('div');\n",
              "          docLink.innerHTML = docLinkHtml;\n",
              "          element.appendChild(docLink);\n",
              "        }\n",
              "      </script>\n",
              "    </div>\n",
              "  </div>\n",
              "  "
            ]
          },
          "metadata": {},
          "execution_count": 61
        }
      ]
    },
    {
      "cell_type": "code",
      "source": [
        "import torch\n",
        "\n",
        "def get_l1_distance(x1, x2):\n",
        "  return ((x1-x2).abs()).sum()\n",
        "\n",
        "def get_l2_distance(x1, x2):\n",
        "  return ((x1-x2)**2).sum()**.5\n",
        "\n",
        "def get_infinity_distance(x1, x2):\n",
        "  return ((x1-x2).abs()).max()\n",
        "\n",
        "def get_cosine_similarity(x1, x2):\n",
        "  return (x1*x2).sum() / ((x1**2).sum()**.5 * (x2**2).sum()**.5)\n",
        "\n",
        "def get_jaccard_similarity(x1, x2):\n",
        "  return torch.stack([x1,x2]).min(dim=0)[0].sum() / torch.stack([x1,x2]).max(dim=0)[0].sum()\n"
      ],
      "metadata": {
        "id": "bvMW0ML51H45"
      },
      "execution_count": null,
      "outputs": []
    },
    {
      "cell_type": "code",
      "source": [
        "# konlpy\n",
        "import konlpy\n",
        "from konlpy.tag import Hannanum\n",
        "\n",
        "hannanum = Hannanum()\n",
        "\n",
        "doc1 = list()\n",
        "with open('doc1.txt', encoding='UTF8') as file:\n",
        "    for line in file:\n",
        "        for l in re.split(r\"\\.\\s|\\?\\s|\\!\\s|\\n\", line):\n",
        "            if l: doc1.append(l)\n",
        "\n",
        "sentence = []\n",
        "for i in range(len(doc1)):\n",
        "  words = hannanum.morphs(doc1[i])\n",
        "  sentence.append(' '.join(words))\n",
        "\n",
        "print(sentence)"
      ],
      "metadata": {
        "colab": {
          "base_uri": "https://localhost:8080/"
        },
        "id": "tk6iJ3TK6jmF",
        "outputId": "a2ac601d-561c-4ca9-ae60-9cefc98880ff"
      },
      "execution_count": null,
      "outputs": [
        {
          "output_type": "stream",
          "name": "stdout",
          "text": [
            "['오늘 저 는 기술 이 어떤 방향 으로 가 고 있 는 지 에 대 어 하 어 얘기 하 어 보 ㄹ까 하 ㅂ니다', '흔히, 기술 을 처음 접하 ㄹ 때 우리 는 기술 이 가 아 지 어다 주 는 것 에 대 어 하 어 놀라 곤 하 ㅂ니다', '하 지만 사 시ㄹ 기술 의 대부분 은 예측 이 가능 하 ㅂ니다', '이 는 모든 종류 의 기술 시스템 이 각각 의 성향 을 가 아 지 기 때문 이 ㅂ니다', '기술 마다 긴급 하 ㄴ 부분 이 있 고 일정한 경향성 을 띄 기 마련 이 ㅂ니다', '그리고 그러 ㄴ 경향들 은 물리학 의 본질 이나 선 과 스위치 간 의 화학 , 그 이 리 고 전자등 으로부터 유래 되 고 이 는 반복 되 는 패턴 을 끊임없이 만들 어 내 ㅂ니다', '그래서 그 패턴들 은 경향성 과 성향 을 만들 ㅂ니다', '여러분 은 이 를 중력 과 비슷 하 다 고 생각 하 ㄹ 수 있 습니다', '계곡 에 빗방울 떨 어 지 는 모습 을 상상 하 어 보 세요', '계곡 을 내리 어 가 는 빗방울 의 실제 경로 는 예측 하 ㄹ 수 없 습니다', '우리 는 그 들 이 어디 로 가 는지 알 ㄹ 수 없 지 말 ㄴ 대략적 이 ㄴ 방향 은 필연적 이 ㅂ니다', '바로 아래 쪽 이 지요', '이 처럼 기술 시스템 에 내장 되 ㄴ 경향성 과 촉발성 은 우리 에게 사건 이 대략적 으로 어떻 게 진행 되 는 지 에 대 어 하 어 알 려 줄 ㅂ니다', '그래서 크 게 보 아ㄹ 때 전화기 의 발명 은 필연적 이 었다 고 보 ㅂ니다', '그러나 아이폰 은 아니 었죠', '인터넷 의 발명 도 필연적 이 었지만 트위터 는 아니 었습니다', '그래서 현재 여러 흐르 ㅁ 이 존재 하 ㄴ데 저 는 그 중 에 가장 중요 하 ㄴ 것 이 끊임없이 더욱 더 지능적 으 로 고도화 되 는 경향성 이 ㅂ니다', \"그것 을 ' cognification ' 이르 어 하 ㅂ니다\", '저 가 붙이 ㄴ 거 ㅂ니다', '이 것 은 인공지능 혹은 AI 라고도 불 리ㅂ니다', '그리고 저 는 이것 이 앞 으로 20년 동안 우리 사회 가장 영향력 있 는 발전 이 자 유행 , 그리고 방향 과 추동력 이 라 고 생각 하 ㅂ니다', '물론 , 이미 크 ㄴ 영향 을 미치 고 있 습니다', '우리 는 이미 인공지능 을 갖 고 있 어요', '이 들 은 주로 보이 지 않 는 곳 에서 일 하 지요', '병원 사무 이 시ㄹ 뒷편 에서 X 선 을 의사 보다 더 잘 진단 하 ㅂ니다', '또한 법률사무소 에서 법 적 증거 검토 를 인간 준법률 가보다 훨씬 잘 수행 하 죠', 'AI 는 여러분 이 타 고 오 ㄴ 비행기 를 띄우 기 위하 어서 도 사용 되 ㅂ니다', '실제 조종사 는 사실 7분 에서 8분 정도 밖 에 운전 하 지 않 고 그 외 는 모두 AI 가 운행 하 ㅂ니다', '그리고 주 지 하 듯 넷플릭스 나 아마존에선 뒤 에서 활동 하 며 추천 을 많 이 하 ㅂ니다', '그 이 게 바로 오늘날 의 AI 이 ㅂ니다', '너무나 대표적 이 고 당연 하 ㄴ 예시 로는 세계 최고 의 바둑 서 ㄴ 수 를 이기 ㄴ 알파 이 고 가 아 있 습니다', '하 지만 그것 이 다 가 아니 ㅂ니다 .', '만약 비디오 게임 을 하 ㄴ다면 , 여러분 은 인공지능 을 상대 로 게임 하 는 거 ㅂ니다', '하 지만 최근 에 구글에서 인공지능 에게 비디오 게임 하 는 법 을 배우 도록 가르치 었습니다', '다시 말하자면 비디오 게임 자체 를 가르치 는 거 은 기성취 되 었지만 비디오 게임 하 는 법 을 배우 는 것 은 한걸음 더 나 아 가 ㄴ 것 입 니다', '그것 이 바로 인공적 이 ㄴ 총명 이 ㅂ니다', '우리 가 지금 하 고 있 는 것 은 이 인공적 이 ㄴ 총명 을 가 아 지 고 더 똑똑하 게 만들 는 것 입 니다', '저 는 요즘 의 트렌드 에서 세 가지 부분 이 과소평 과 되 고 있 다 고 생각 하 ㅂ니다', '우리 가 이 세가지 를 이해 하 ㄴ다면 인공지능 에 대 어 하 어 더 잘 이해 하 게 되 ㄹ 것 이 ㅂ니다', '뜨 어 하 ㄴ , 이것들 은 우리 가 인공지능 을 수용 하 ㄴ데 도움 을 줄 ㄹ 것 이 ㅂ니다', '왜냐하면 인공지능 을 받 아 들이 어야 만 그 를 진정 으로 조종 하 ㄹ 수 있 으니까요', '더 크 ㄴ 추세 를 받 아 들이 ㅁ 으로써 세부적 이 ㄴ 측면 까지 조종 하 ㄹ 수 있 을 것 이 ㅂ니다', '그 때문 에 이 세가지 측면 에 대 어 하 어 설명 을 해보 겠습니다', '첫 번 째 , 우리 의 지능 은 지능 이 무엇 이 ㄴ 지 에 대 어 하 어 제대로 이해 하고 있 지 못하 다는 점 이 ㅂ니다', '우리 는 지능 이 라는 것 을 1차원 으로 생각 하 기 쉽상 이 어서 마치 음표소리 가 점점 크 어 지 어 가 는 것 과 비슷 하 게 생각 하 ㅂ니다', '대표적 이 ㄴ 예시 로 IQ 검사 가 있 습니다', '쥐 의 아마 간단 하고 낮 은 아이큐 부터 시작해서 침팬지 는 더 높 을 것 이 고 그리고 바보 는 아마 그것 보다 높 을 것 으로 추측 하 ㅂ니다', '저 와 같 은 평균적 이 ㄴ 사람 이 그 다음 그리고 다음 은 천재 이 ㄹ 거 ㅂ니다', '달 ㄴ 수 의 지능 이 점점 복수 의 IQ 로 증가 하 ㄴ다는 것 은 사실 완전히 틀리 ㄴ 관념 이 ㅂ니다', '그것 은 지능 이 아니 ㅂ니다 .', '물론 인간 이 지니 ㄴ 지능 은 아니 죠', '지능 은 단일음계 가 아니 라 다양 하 ㄴ 일 ㄴ 지 의 악기 가 연주 하 는 많 은 음표 의 교향곡 과 더 유사 하 ㅂ니다', '우리 안 에는 다양한 유형 의 지능 이 존재 하 ㅂ니다', '연역 추리능력 정 서 지능 공간 감각 등 이 있 죠', '우리 안 에는 대략 100가지 도 넘 는 유형 의 지능 이 함께 묶이 어 있 고 이 는 다양 하 게 나타나 아 사람 마다 다르 ㄴ 장점 을 가 아 지 ㅂ니다', '동물들 의 경우 도 마찬가지 로 그 그릇 의 지능내용 이 다르 고 다른 종류 의 지능 을 가지 ㄴ 다른 교향곡 을 갖 고 있 을 것 이 고 몇몇 악기 는 우리 와 같 은 것 이 겠죠', '같 은 방식 으로 생각 을 하 지만 다르 ㄴ 방식 으로 배열 하 ㄹ 수 도 있 고 어쩌면 특정 부분 에서는 사람 보다 더 똑똑하 ㄹ 수 도 있 습니다', '예를들어 마치 다람쥐 의 장기기억력 은 천재 에 가깝 어서 어디 먹이 를 파묻 었나 기억 하 ㄴ데 쓰이 ㅂ니다', '그러나 다르 ㄴ 부분 에서는 사람 보다 낮 을 수 도 있 습니다', '우리 는 기계 를 만들 ㄹ 때 기계 를 이런 방법 으로 제작 하 려 하 ㅂ니다', '우리 보다 훨씬 더 높 은 차원 의 지능 을 가 아 지 도록 하 지만 그 지능 의 수준 은 대부분 인간 보다 훨씬 못하 ㅂ니다', '이 는 그것들 이 필요 하 지 않 기 때문 이 죠', '따라서 우리 는 이런 것 을 염두 에 두 고 즉, 이 인공적 클러스터 를 고 려 하 어서 인공지능 에 더 다양 하 ㄴ 종류 의 인지력 을 추가 하 어야 하 ㅂ니다', '우리 는 이 를 아주 구체적 으로 만들 어야 하 ㅂ니다', '그래서 여러분 의 계산기 는 여러분 의 산수능력 보다 이미 더 똑똑하 죠', 'GPS 는 우리 보다 훨씬 길 을 잘 찾 고 구글 과 빙 은 우리 보다 훨씬 길 ㄴ 장기기억 을 가 아 지 ㅂ니다', '우리 는 이런 생각 을 또 다시 다르 ㄴ 유형 에도 적용 하 ㄹ 수 있 습니다', '예 를 들 어 자동차 가 있 습니다', '우리 가 인공지능 을 차 아 안 에 넣 어 차 가 스스로 운전 하 게 하 고자 하 는 이유 는 차 가 인간 처럼 운전 하 지 않 는다는 점 때문 이 ㅂ니다', '차 는 우리 처럼 생각 을 하 지 않 습니다', '이 이 게 차 의 특징 이 ㅂ니다', '즉, 다른 것 에 정신 이 분산 되 지 않 는다는 것 이 ㅂ니다', '가스레인지 를 크 어 고 나 아 오 아는지 혹은 금융 전공 을 하 ㄹ지 말 지 등 에 고민 하 지 않 고 그냥 울 ㄴ 전 만 하 ㅂ니다', '그냥 운전만이요', '알 겠나요', '그리고 우리 는 이런 특징 을 광고 하 ㄹ 수 도 있 습니다', '\" 생각 이 없 다 \" 는 식 으로요', '그 들 은 자각 이 없 고 그러 ㄴ 종류 의 걱정 을 하 지 않 으며 다르 ㄴ 것 에 정신 이 팔리 지 않 습니다', '이 처럼 대부분 의 경우 에서 우리 가 하 려는 것 은 우리 가 하 ㄹ 수 있 는 생각 의 다양한 형태 를 모두 만들 는 거 ㅂ니다', '우리 는 가능한 모든 형태 , 종류 의 다양한 생각 들 의 영역 을 모두 데이터화 하 어야 하 ㅂ니다', '사 시ㄹ 몇몇 문제들 은 과학적 으로 힘들 거나 혹은 시장현실 에 맞 지 않 아 인간 의 사고력만 으로는 풀 ㄹ 수 없 을 수 도 있 습니다', '그래서 2단계 의 프로그램 이 필요 하 ㄹ 것 이 ㅂ니다', '먼저 새롭 은 종류 의 생각 을 창조 하 어 내 어 우리 가 함께 이 크 ㄴ 문제 를 풀 어 가 는 것 이 ㅂ니다', '예를들어, 암흑물질 과 양자중력처럼요', '이런 작업 은 외계지성체 를 만들 는 것 과 다르 ㄹ 바 가 없 습니다', '아마 여러분 께 이 일 을 외계인 처럼 낯설 게 느끼 ㄹ 수 도 있 어요', '그리고 이 는 우리 가 다르 게 사 고 하 ㄹ 수 있 도록 돕 어 줄 ㄹ 것 이 ㅂ니다', '색다르 ㄴ 생각 은 창조 의 엔진 이 자 부 와 경제 의 새롭 은 시작 을 열 게 하 니까요', '이 이 어서 두 번 째 측면 은 우리 가 2차 산업혁명 을 발생 시키 기 위하 어 인공지능 을 사용 하 는 것 이 ㅂ니다', '제1차 산업혁명 은 우리 가 소위 인공적 이 ㄴ 힘이라는걸 만들 었다는 사실 에 기반 을 두 었습니다', '이전 에는 즉, 농업 혁명동안 은 모든 것 이 사람 의 노동력 으로 만들 어 지 었야 하 었습니다', '아니 면 동물 의 힘 으로요', '어떠하 ㄴ 목적 이 든지 인간 과 동물 의 육체적 노동 은 불가피 하 었습니다', '산업혁명 동안 일어나 ㄴ 혁신적 이 ㄴ 변화 는 우리 가 증기기관 과 화석연료 를 사용 하 어 인간 이 원하 었던 모든 것 에 쓰 ㄹ 수 있 는 인공적 이 ㄴ 힘 을 만들 었다는 거 ㅂ니다', '그래서 오늘날 여러분 이 고속도로 주행시 단순히 스위치 를 만지 는 것 으로 250마리 의 말 의 지휘효과 를 가 아 지 ㅂ니다', '250 마력 은 고층 건물 을 짓 고 도시 를 세우 며 도로 를 닦 는데 쓰 ㄹ 수 있 고 의자 나 냉장고 를 만들 는 공장들 이 돌 아 가 게 만들 는 , 인간 을 한참 넘 어서 는 힘입 니다', '그리고 이런 인공적 이 ㄴ 힘 은 모든 집 과 , 공장 , 농 가 등 으로 그리드상 에서 분배 되 ㅂ니다', '누구 나 인공적 이 ㄴ 힘 을 플러그 를 꼽 기 만 하 면 사 ㄹ 수 있 습니다', '그래서 이 는 혁신 의 근원 이 었습니다', '왜냐하면 농부 가 수동식 펌프 에 이 인공적 이 ㄴ 힘 , 바로 전기 를 적용 하 어 자동식 펌프 를 가 아 지 ㄹ 수 있 으니까요', '이런 경우 가 몇 천 , 몇 만번 반복 되 고 그렇 게 생기 는 공식 이 우리 를 산업혁명 으로 이끌 었습니다', '우리 가 보 는 모든것 과 우리 가 즐기 는 모든 과정 은 우리 가 그 를 하 어 내 었다는 사실 로부터 비롯 되 ㅂ니다', '우리 는 인공지능 의 경우 에 어도 이 를 적용 하 어 보 ㄹ 수 있 습니다', '배전망 을 통하 어 인공지능 을 분배 하 어 여러분 은 인공적 이 ㄴ 힘 이 더하 어 지 ㄴ 자동펌프 에 인공적 이 ㄴ 지능 을 더하 ㄹ 수 있 습니다', '그렇다면 여러분 은 스마트 펌프 를 가 아 지 ㄹ 수 있 죠', '그리고 다시 이 를 수 없이 반복 하 어 저 의 2차 산업혁명 으로 나 아 가 ㄹ 것 이 ㅂ니다', '그 에 따르 아 , 이제 고속도로 를 달리 는 차 는 250 마력 에이 다가 250개 의 생각 까지 갖추 ㄴ 바 로 자동주행 자동차 가 되 이 겠지요', '이 이 건 거의 새롭 은 상품 이 ㅂ니다', '새롭 은 용도 이 니까요', '인공지능 은 이제 상공 이 라는 새롭 은 길 을 따르 아 전기 가 그렇 었듯 퍼지 어 나 아 가 ㄹ 것 이 ㅂ니다', '그러 ㅁ 으로써 전기 로 작동 하 던 모든 것 을 인공지능 화 ( cognify ) 할 것 이 ㅂ니다', '그리고 예언 하 건데 , 미래 에 많 은 스타트업 사업 의 시작 을 열 ㄹ 공식 은 매우 간결 하 ㅂ니다', '변수 x 에 인공지능 을 더하 는 것 이 죠', '이 이 게 공식 이 고 바로 우리 가 하 ㄹ 일 이 ㅂ니다', '이 를 통하 어 우리 는 2차 산업혁명 을 일으키 ㄹ 수 있 습니다', '그나저나, 여러분 은 지금 당장 , 바로 여기 서 구글 에 로그 이 ㄴ 하 어서 인공지능 을 6센트 에 100번 쓰 ㄹ 수 있 습니다', '이 이 게 지금 당장 가능 하 ㄴ 거란 말 이 죠', '이 에 대하 ㄴ 세 번 째 측면 은 우리 가 인공지능 을 구체화시키 이 고 로봇 을 만들 었을 때 이 ㅂ니다', '로봇 은 수족 이 되 ㄹ 것 이 고 그 들 은 우리 가 하 었던 일 ㄹ 들 을 하 게 되 이 죠', '직업 은 일 의 뭉텅이 이 기 때문 에 로봇 은 우리 의 직업 에 대하 ㄴ 개념 을 재정립 하 ㄹ 것 이 ㅂ니다', '그 들 이 바로 그 일 을 맡 게 되 ㄹ 것 이 기 때문 이 죠', '한편 , 로봇 은 우리 가 전 에는 원하 었는지 조차 모르 아ㄴ 일 의 완전히 새롭 은 종류 , 또 완전히 새롭 은 업무 를 만들 어 내 ㄹ 것 이 ㅂ니다', '즉, 로봇 의 탄생 은 새롭 은 직업군 과 인간 이 달성 하고 싶 어 하 ㄹ 과제 를 새롭 게 만들 어 내 ㄹ 것 이 ㅂ니다', '마치 자동화 되 ㄴ 기 이 기 가 과거 에는 필요 하 었는지 조차 도 모르 아ㄴ 것들 을 만들 어 내 었고 이제 는 우리 가 그들 없이 는 사 ㄹ 수 없 는 것처럼요', '그래서 로봇들 은 그 들 이 차 지 하 ㄴ 직업 보다 더 많 은 직업 을 양상해 내 ㄹ 것 이 ㅂ니다', '그러나 중요 하 ㄴ 점 은 우리 가 그들 에게 할당 하 는 업무들 의 대부분 이 효율성 과 생산성 이 라는 가치 로 정의 되 ㄹ 수 있 다는 것 이 ㅂ니다', '만약 당신 이 일 을 구체적 으로 설명 하 ㄹ 수 있 다면 육체적 노동 이 든 정신적 노동 이 든 그 일 은 효율성 과 생산성 의 관점 에서 로봇 이 대 이 시ㄴ 하 ㄹ 수 있 는 것 으로 분류 되 ㄹ 수 있 습니다', '생산성 은 로봇 의 몫 이 라는 거 ㅂ니다', '우리 가 로봇 보다 훨씬 잘하 는 거 은 소위 시간 을 낭비 하 는 것일테 이 니까요', '실제로 우리 는 비효율적 이 ㄴ 거 ㄹ 잘하 ㅂ니다', '과학 은 본질적 으로 비효율적 이 죠', '과학 은 여러 번 실패 하 었다는 점 에 기반 하 ㅂ니다', '여러분 이 성공 하 지 못하 ㄴ 실험 과 시험 을 하 었다는 사실 에 근거 하 ㅂ니다', '그렇 지 않 다면 , 새롭 은 거 ㄹ 배우 ㄹ 수 없 습니다', '과학 은 이 처럼 효율성 이 많 이 부족 하 다는 점 에 기반 을 두 ㅂ니다', '혁신 을 정의하자 이 면 바로 비효율 이 ㄹ 거 ㅂ니다', '왜냐하면 여러분 은 시제품 을 만들 ㄹ 것 이 고 실패 하 거나 작동 하 지 않 을 무언가 를 시도 하 어 보 겠죠', '모험 도 근본적 비효율성 을 가 아 지 ㅂ니다', '예술 도 효율적 이 지 않 아요', '인간관계 또한 효율적 이 지 못하 ㅂ니다', '이런 것들은 우리 가 자연 스럽 게 끌리 는 일 들 이 ㅂ니다', '바로 그 들 이 비효율적 이 기 때문 이 ㅂ니다', '효율성 은 인간 이 아니 라 로봇들 에게 중요 하 ㄴ 것 이 죠', '우리 는 앞 으로 이 인공지능들 과 함께 일해 이 야 하 는 것 에 대 어 하 어 배우 어야 하 ㅂ니다', '그 들 은 우리 보다 다르 게 생각 하 니까요', '딥 블루 가 세계 제일 의 체스 챔피언 에게 이기 었을 때 사람 들 은 그것 이 체스 의 끝 이 라 고 생각 하 었습니다', '하 지만 실제로 는 , 요즘 세계제일 의 체스 챔피언 은 인공지능 이 아니 ㅂ니다 .', '인간 도 아니 ㅂ니다 .', '바로 인공지능 과 인간 의 팀 이 죠', '제일 의 의료분석가 는 의사 도 아니 고 인공지능 도 아니 ㄴ 바 로 의사 와 인공지능 의 팀 이 ㅂ니다', '우리 는 앞 으로 이런 인공지능들 과 일 하 게 되 ㄹ 거 ㅂ니다', '그리고 여러분 이 미래 에 얼마나 로봇 과 일 을 잘 하 ㄹ 수 있 는 지 에 따르 아 연봉 이 결정 되 ㄹ 것 이 라 고 생각 하 ㅂ니다', '저 의 세번 째 포인트 는 바로 이것 이 ㅂ니다', '그 들 이 다르 다는 것', '그 들 은 도구 이 예요', '그래서 그 들 은 우리 가 적대심 을 가 아 지 는 것 이 아니 라 함께 하 ㄹ 존재 이 ㅂ니다', '우리 는 그 들 을 거부 하 지 않 고 함께 일 하 려고 하 어야 하 ㅂ니다', '그래서 미래 에는 이 미래 에 우리 는 어떻 게 되 ㄹ까요', '저 는 25년 후 에 지금 을 돌 아 보 아ㄹ 때 인공지능 에 대하 ㄴ 우리 의 이해 를 보 곤 이런 말 을 하 ㄹ 것 이 라 고 생각 하 ㅂ니다', '\" 너희 는 AI 를 가 아 지 고 있 지 않 아', '솔직히 말하자면 너희 가 가지 ㄴ 거 은 앞 으로 25년 가 ㄴ 있 을 것 에 비하 면 인터넷 정도 도 안되 어 .\" 지금 당장 은 인공지능 전문가 가 달 ㄴ 하나 도 없 습니다', '현재 많 은 돈 이 인공지능 에 쓰이 고 있 어요', '수십억 달러 쯤 은 투자 되 고 있 는 매우 크 ㄴ 사업 이 죠', '하 지 말 ㄴ , 20년 후 와 비교 하 면 전문가 이 라 고 하 ㄹ 만 하 ㄴ게 없 죠', '그래서 우리 는 지금 정말 아주 초 이 기 단계 에 있 습니다', '이 모든것 의 시작점 에 있 는 것 이 죠', '우리 는 인터넷 의 시작점 에 있 고', '앞 으로 닥치 어 오 ㄹ 것 의 시작점 에 있 습니다', '20년 후 모두 가 사용 하고 있 을 가장 영향력 있 는 인공지능 은 아직 은 발명 되 지 않 아ㅂ니다', '그것 은 여러분 이 늦 지 않 아단 거 ㄹ 뜻 하 ㅂ니다', '감사 하 ㅂ니다 .']\n"
          ]
        }
      ]
    },
    {
      "cell_type": "code",
      "source": [
        "from collections import defaultdict\n",
        "import pandas as pd\n",
        "\n",
        "def get_context_counts(lines, w_size=2):\n",
        "  co_dict = defaultdict(int)\n",
        "\n",
        "  for line in lines:\n",
        "    words = line.split()\n",
        "\n",
        "    for i, w in enumerate(words):\n",
        "      for c in words[i - w_size:i + w_size]:\n",
        "        if w != c:\n",
        "          co_dict[(w,c)] += 1\n",
        "\n",
        "  return pd.Series(co_dict)"
      ],
      "metadata": {
        "id": "yBSTlvmq9B72"
      },
      "execution_count": null,
      "outputs": []
    },
    {
      "cell_type": "code",
      "source": [
        "def co_occurrence(co_dict, vocab):\n",
        "  data = []\n",
        "  for word1 in vocab:\n",
        "    row = []\n",
        "\n",
        "    for word2 in vocab:\n",
        "      try:\n",
        "        count = co_dict[(word1, word2)]\n",
        "      except KeyError:\n",
        "        count = 0\n",
        "      row.append(count)\n",
        "\n",
        "    data.append(row)\n",
        "\n",
        "  return pd.DataFrame(data, index=vocab, columns=vocab)"
      ],
      "metadata": {
        "id": "RBWeeFuG9Eyt"
      },
      "execution_count": null,
      "outputs": []
    },
    {
      "cell_type": "code",
      "source": [
        "get_context_counts(sentence)"
      ],
      "metadata": {
        "colab": {
          "base_uri": "https://localhost:8080/"
        },
        "id": "CdH1lcti9JCr",
        "outputId": "ec81ef8a-ebde-43aa-9dca-83a16a7edefe"
      },
      "execution_count": null,
      "outputs": [
        {
          "output_type": "execute_result",
          "data": {
            "text/plain": [
              "는    오늘    1\n",
              "     저     3\n",
              "     기술    2\n",
              "기술   저     1\n",
              "     는     2\n",
              "          ..\n",
              "뜻    하     1\n",
              "하    뜻     1\n",
              "ㅂ니다  뜻     1\n",
              "     감사    1\n",
              ".    하     1\n",
              "Length: 5255, dtype: int64"
            ]
          },
          "metadata": {},
          "execution_count": 114
        }
      ]
    },
    {
      "cell_type": "code",
      "source": [
        "tfs = get_term_frequency(' '.join(sentence))"
      ],
      "metadata": {
        "colab": {
          "base_uri": "https://localhost:8080/",
          "height": 307
        },
        "id": "bZmX7dTb9Ta-",
        "outputId": "74d1f79b-a4a0-4732-edfb-fca74595be8d"
      },
      "execution_count": null,
      "outputs": [
        {
          "output_type": "error",
          "ename": "IndexError",
          "evalue": "ignored",
          "traceback": [
            "\u001b[0;31m---------------------------------------------------------------------------\u001b[0m",
            "\u001b[0;31mIndexError\u001b[0m                                Traceback (most recent call last)",
            "\u001b[0;32m<ipython-input-132-559d2e34e375>\u001b[0m in \u001b[0;36m<module>\u001b[0;34m()\u001b[0m\n\u001b[0;32m----> 1\u001b[0;31m \u001b[0mtfs\u001b[0m \u001b[0;34m=\u001b[0m \u001b[0mget_term_frequency\u001b[0m\u001b[0;34m(\u001b[0m\u001b[0;34m' '\u001b[0m\u001b[0;34m.\u001b[0m\u001b[0mjoin\u001b[0m\u001b[0;34m(\u001b[0m\u001b[0msentence\u001b[0m\u001b[0;34m)\u001b[0m\u001b[0;34m)\u001b[0m\u001b[0;34m\u001b[0m\u001b[0;34m\u001b[0m\u001b[0m\n\u001b[0m",
            "\u001b[0;32m<ipython-input-126-ca9b9f86658e>\u001b[0m in \u001b[0;36mget_term_frequency\u001b[0;34m(document, word_dict)\u001b[0m\n\u001b[1;32m      9\u001b[0m   \u001b[0mwords\u001b[0m \u001b[0;34m=\u001b[0m \u001b[0;34m[\u001b[0m\u001b[0;34m]\u001b[0m\u001b[0;34m\u001b[0m\u001b[0;34m\u001b[0m\u001b[0m\n\u001b[1;32m     10\u001b[0m   \u001b[0;32mfor\u001b[0m \u001b[0mw\u001b[0m \u001b[0;32min\u001b[0m \u001b[0mrange\u001b[0m\u001b[0;34m(\u001b[0m\u001b[0mlen\u001b[0m\u001b[0;34m(\u001b[0m\u001b[0mdocument\u001b[0m\u001b[0;34m)\u001b[0m\u001b[0;34m)\u001b[0m\u001b[0;34m:\u001b[0m\u001b[0;34m\u001b[0m\u001b[0;34m\u001b[0m\u001b[0m\n\u001b[0;32m---> 11\u001b[0;31m     \u001b[0msub\u001b[0m \u001b[0;34m=\u001b[0m \u001b[0mhannanum\u001b[0m\u001b[0;34m.\u001b[0m\u001b[0mnouns\u001b[0m\u001b[0;34m(\u001b[0m\u001b[0mdoc1\u001b[0m\u001b[0;34m[\u001b[0m\u001b[0mw\u001b[0m\u001b[0;34m]\u001b[0m\u001b[0;34m)\u001b[0m\u001b[0;34m\u001b[0m\u001b[0;34m\u001b[0m\u001b[0m\n\u001b[0m\u001b[1;32m     12\u001b[0m     \u001b[0;32mfor\u001b[0m \u001b[0mi\u001b[0m \u001b[0;32min\u001b[0m \u001b[0mrange\u001b[0m\u001b[0;34m(\u001b[0m\u001b[0mlen\u001b[0m\u001b[0;34m(\u001b[0m\u001b[0msub\u001b[0m\u001b[0;34m)\u001b[0m\u001b[0;34m)\u001b[0m\u001b[0;34m:\u001b[0m\u001b[0;34m\u001b[0m\u001b[0;34m\u001b[0m\u001b[0m\n\u001b[1;32m     13\u001b[0m       \u001b[0mwords\u001b[0m\u001b[0;34m.\u001b[0m\u001b[0mappend\u001b[0m\u001b[0;34m(\u001b[0m\u001b[0msub\u001b[0m\u001b[0;34m[\u001b[0m\u001b[0mi\u001b[0m\u001b[0;34m]\u001b[0m\u001b[0;34m)\u001b[0m\u001b[0;34m\u001b[0m\u001b[0;34m\u001b[0m\u001b[0m\n",
            "\u001b[0;31mIndexError\u001b[0m: list index out of range"
          ]
        }
      ]
    },
    {
      "cell_type": "code",
      "source": [
        "! pip install fasttext"
      ],
      "metadata": {
        "colab": {
          "base_uri": "https://localhost:8080/"
        },
        "id": "eHNNkRte5678",
        "outputId": "cc68190f-4851-4b2c-ce44-0e392b89430e"
      },
      "execution_count": null,
      "outputs": [
        {
          "output_type": "stream",
          "name": "stdout",
          "text": [
            "Collecting fasttext\n",
            "  Downloading fasttext-0.9.2.tar.gz (68 kB)\n",
            "\u001b[?25l\r\u001b[K     |████▊                           | 10 kB 19.7 MB/s eta 0:00:01\r\u001b[K     |█████████▌                      | 20 kB 11.1 MB/s eta 0:00:01\r\u001b[K     |██████████████▎                 | 30 kB 9.1 MB/s eta 0:00:01\r\u001b[K     |███████████████████             | 40 kB 8.4 MB/s eta 0:00:01\r\u001b[K     |███████████████████████▉        | 51 kB 4.7 MB/s eta 0:00:01\r\u001b[K     |████████████████████████████▋   | 61 kB 5.5 MB/s eta 0:00:01\r\u001b[K     |████████████████████████████████| 68 kB 3.3 MB/s \n",
            "\u001b[?25hCollecting pybind11>=2.2\n",
            "  Using cached pybind11-2.9.2-py2.py3-none-any.whl (213 kB)\n",
            "Requirement already satisfied: setuptools>=0.7.0 in /usr/local/lib/python3.7/dist-packages (from fasttext) (57.4.0)\n",
            "Requirement already satisfied: numpy in /usr/local/lib/python3.7/dist-packages (from fasttext) (1.21.5)\n",
            "Building wheels for collected packages: fasttext\n",
            "  Building wheel for fasttext (setup.py) ... \u001b[?25l\u001b[?25hdone\n",
            "  Created wheel for fasttext: filename=fasttext-0.9.2-cp37-cp37m-linux_x86_64.whl size=3148173 sha256=2558ac176096c443f05d163367697d9e636f99a5dbc0cf035562643d6fae483a\n",
            "  Stored in directory: /root/.cache/pip/wheels/4e/ca/bf/b020d2be95f7641801a6597a29c8f4f19e38f9c02a345bab9b\n",
            "Successfully built fasttext\n",
            "Installing collected packages: pybind11, fasttext\n",
            "Successfully installed fasttext-0.9.2 pybind11-2.9.2\n"
          ]
        }
      ]
    },
    {
      "cell_type": "code",
      "source": [
        "! fasttext skipgram -input ko.tok.txt -output do.tok -dim 256 -epoch 100 -minCount 5"
      ],
      "metadata": {
        "colab": {
          "base_uri": "https://localhost:8080/"
        },
        "id": "tmIIb6L_6Kmk",
        "outputId": "280d9ad6-b53c-4bb3-9003-1b1ef3b5bc10"
      },
      "execution_count": null,
      "outputs": [
        {
          "output_type": "stream",
          "name": "stdout",
          "text": [
            "/bin/bash: fasttext: command not found\n"
          ]
        }
      ]
    },
    {
      "cell_type": "code",
      "source": [
        "data = [['오늘', '기술', '방향', '얘기', '기술', '처음', '때', '기술', '것', '사실', '기술', '대부분', '예측', '종류', '기술', '시스템', '각각', '성향', '때문', '기술', '긴급', '부분', '경향', '마련', '경향', '물리학', '본질', '선', '스위치', '간', '화학', '전자', '등', '유래', '반복', '패턴', '패턴', '경향', '성향', '중력', '생각', '수', '계곡', '빗방울', '모습', '상상', '계곡', '빗방울', '실제', '경로', '예측', '수', '수', '대략', '방향', '필연', '아래', '쪽', '기술', '시스템', '내장', '경향', '촉발', '사건', '대략', '진행', '때', '전화기', '발명', '필연', '아이폰', '인터넷', '발명', '필연', '트위터', '흐름', '존재', '중', '것', '지능', '고도', '경향', '제가', '겁', '니다', '것', '인공지능', '라고', '앞', '년', '동안', '사회', '영향력', '발전', '유행', '방향', '추', '동력', '생각', '영향', '인공지능', '곳', '일', '병원', '사무실', '뒷편', '선', '의사', '진단', '법률', '사무소', '법', '증거', '검토', '인간', '법률가', '수행', '비행기', '사용', '실제', '조종사', '사실', '분', '분', '정도', '밖', '운전', '외', '운행', '주지', '넷플릭스', '아마존', '에선', '뒤', '활동', '추천', '오늘날', '대표', '예시', '세계', '최고', '바둑', '선수', '알파고', '다', '비디오 게임', '인공지능', '상대로', '게임', '겁', '니다', '최근', '구글', '인공지능', '비디오 게임', '법', '말하자면', '비디오 게임', '자체', '건', '기', '성취', '비디오 게임', '법', '것', '한걸음', '것', '인공', '총명', '것', '인공', '총명', '것', '요즘', '트렌드', '가지', '부분', '소평', '생각', '가지', '이해', '인공지능', '이해', '것', '인공지능', '을', '수용', '도움', '줄', '것', '인공지능', '진정', '조종', '수', '추세', '세부', '측면', '조종', '수', '것', '때문', '가지', '측면', '설명', '번', '지능', '지능', '인지', '이해', '점', '지능', '것', '1차원', '생각', '음표', '소리', '것', '생각', '대표', '예시', '검사', '쥐', '아이큐', '시작', '침팬지', '것', '바보', '것', '추측', '평균', '사람', '다음', '다음', '천재', '겁', '니다', '단수', '지능', '복수', '증가', '것', '사실', '관념', '지능', '인간', '지능', '지능', '단일', '음계', '인지', '악기', '연주', '음표', '교향곡', '안', '유형', '지능', '존재', '연역', '추리', '능력', '정서', '지능', '공간', '감각', '등', '안', '가지', '유형', '지능', '사람', '장점', '동물', '경우', '마찬가지', '그릇', '지능', '내용', '종류', '지능', '교향곡', '것', '악기', '것', '방식', '생각', '방식', '배열', '수', '특정', '부분', '사람', '수', '예', '다람쥐', '장기', '기억력', '천재', '먹이', '기억', '부분', '사람', '낮', '수', '기계', '때', '기계', '방법', '제작', '차원', '지능', '지능', '수준', '대부분', '인간', '필요', '때문', '것', '염두', '인공', '클러스터', '고려', '인공지능', '종류', '인', '지력', '추가', '구체', '계산기', '산수', '능력', '길', '구글', '장기', '기억', '생각', '유형', '적용', '수', '예', '자동차', '인공지능', '차', '안', '차', '운전', '이유', '차', '인간', '운전', '점', '때문', '생각', '차', '특징', '것', '정신', '분산', '것', '가스레인지', '금융', '전공', '등', '고민', '운전', '운전', '만', '특징', '광고', '수도', '생각', '식', '자각', '종류', '걱정', '것', '정신', '대부분', '경우', '것', '수', '생각', '형태', '겁', '니다', '형태', '종류', '생각', '영역', '데이터', '사실', '문제', '과학', '시장', '현실', '인간', '사고력', '수', '수', '단계', '프로그램', '필요', '것', '종류', '생각', '창조', '문제', '것', '예', '암흑물질', '양자중력', '작업', '외계', '지', '성체', '것', '바가', '일', '외계인', '수도', '사고', '수', '것', '생각', '창조', '엔진', '이자', '부', '경제', '시작', '번', '측면', '차', '산업', '혁명', '발생', '인공지능', '사용', '것', '제1차 산업', '혁명', '인공', '힘', '거', '사실', '기반', '이전', '농업 혁명', '동안', '것', '사람', '노동력', '동물', '힘', '목적', '인간', '동물', '육체', '노동', '산업', '혁명', '동안', '혁신', '변화', '증기', '기관', '화석', '연료', '사용', '인간', '것', '수', '인공', '힘', '겁', '니다', '오늘날', '고속도로', '주행', '스위치', '것', '마리', '말', '지휘', '효과', '마력', '고층 건물', '도시', '도로', '수', '의자', '냉장고', '공장', '인간', '한참', '힘', '인공', '힘', '집', '공장', '농가', '등', '그리드', '분배', '인공', '힘', '플러그', '수', '혁신', '근원', '농부', '수동', '식', '펌프', '인공', '힘', '전기', '적용', '자동', '식', '펌프', '수', '경우', '번', '반복', '공식', '산업', '혁명', '것', '과정', '사실', '인공지능', '경우', '에도', '적용', '수', '배', '전망', '인공지능', '분배', '인공', '힘', '자동', '펌프', '인공', '지능', '수', '스마트', '펌프', '수', '수', '반복', '차', '산업', '혁명', '것', '고속도로', '마력', '개', '생각', '자동', '주행', '자동차', '이건', '상품', '용도', '인공지능', '상공', '길', '전기', '것', '전기', '작동', '것', '인공지능', '것', '예언', '미래', '스타트', '업', '사업', '시작', '공식', '변수', '인공지능', '것', '공식', '일', '차', '산업', '혁명', '수', '당장', '구글', '로그인', '인공지능', '센트', '번', '수', '당장', '거란', '말', '번', '측면', '인공지능', '구체', '로봇', '때', '로봇', '수족', '것', '일', '직업', '일', '뭉텅이', '때문', '로봇', '직업', '개념', '정립', '겁', '니다', '일', '것', '때문', '한편', '로봇', '전', '일', '종류', '업무', '것', '로봇', '탄생', '직업', '군', '인간', '달성', '과제', '것', '자동화', '기기', '과거', '필요', '조차', '것', '이제', '수', '것', '로봇', '차지', '직업', '직업', '양상', '것', '점', '할당', '업무', '대부분', '효율', '생산성', '가치', '정의', '수', '것', '일', '구체', '설명', '수', '육체', '노동', '이든', '정신', '노동', '이든', '일', '효율', '생산성', '관점', '로봇', '대신', '수', '것', '분류', '수', '생산성', '로봇', '몫', '겁', '니다', '로봇', '건', '시간', '낭비', '것', '효율', '과학', '본질', '효율', '과학', '번', '실패', '점', '기반', '성공', '실험', '시험', '사실', '근거', '수', '과학', '효율', '부족', '점', '기반', '혁신', '정의', '효율', '겁', '니다', '시제품', '것', '실패', '작동', '언가', '시도', '모험', '근본', '효율', '예술', '효율', '인간관계', '효율', '것', '자연', '일', '효율', '때문', '효율', '인간', '로봇', '것', '앞', '인공지능', '일', '것', '생각', '블루', '세계', '제일', '체스', '챔피언', '때', '사람', '체스', '끝', '생각', '요즘', '세계', '제일', '체스', '챔피언', '인공지능', '인간도', '인공지능', '인간', '팀', '제일', '의료', '분석가', '의사', '인공지능', '의사', '인공지능', '팀', '앞', '인공지능', '일', '겁', '니다', '미래', '로봇', '일', '수', '연봉', '결정', '것', '라고', '생각', '세번', '포인트', '것', '도구', '예', '심', '게', '존재', '거부', '일', '미래', '미래', '년', '후', '지금', '때', '인공지능', '이해', '말', '생각', '말하자면', '건', '앞', '년', '간', '것', '인터넷', '정도', '안', '당장', '인공지능', '전문가', '돈', '인공지능', '달러', '쯤', '투자', '사업', '년', '후', '비교', '전문가', '만', '초기', '단계', '것', '시작', '점', '것', '인터넷', '시작', '점', '앞', '것', '시작', '점', '년', '후', '모두', '사용', '영향력', '인공지능', '발명', '뜻', '감사']\n",
        ",['자리', '크리에이터', '디자이너', '엔지니어', '기업가', '예술가', '상상력', '분이', '손', '전해', '드릴', '소식', '지금', '년', '동안', '2000년', '간', '인간', '일', '방식', '변화', '변화', '것', '인류사', '시대', '새벽', '인간', '일', '방식', '시대', '수', '수렵', '채집', '시대', '년', '간', '지속', '다음', '농경', '시대', '년', '간', '지속', '산업', '시대', '수', '기간', '정보', '시대', '년', '간', '지속', '오늘날', '종', '다음', '시대', '시작', '증강', '시대', '오신', '것', '환영', '시대', '인간', '사고', '컴퓨터', '시스템', '인간', '자연', '능력', '증강', '겁', '니다', '로봇', '시스템', '제작', '디지털', '경계', '자연', '감각', '너머', '세계', '연결', '것', '인식', '증강', '시작', '여러분', '중', '분이', '증강', '사이보그', '인간', '증강', '주장', '테', '파티', '상상', '누', '군가', '답', '질문', '때', '초', '만', '답', '수', '시작', '뿐', '조차', '수동', '도구', '사실', '년', '동안', '인류', '사용', '도구', '완벽', '수', '동적', '인간', '지시', '아무것', '최초', '도구', '인간', '지점', '예술가', '의도', '조각', '진보', '도구', '조차', '인간', '지시', '아무것', '사실', '오늘날', '문자', '인간', '손', '컴퓨터', '의도', '한계', '것', '실망감', '스타 트렉', '컴퓨터', '대화', '자동차', '디자인', '컴퓨터', '말', '컴퓨터', '자동차', '독일제', '컴퓨터', '게', '선택', '지', '제시', '것', '위', '언급', '대화', '분', '생각', '거리', '것', '연구', '것', '도구', '생산', '것', '변화', '중', '생산', '디자인', '도구', '기하학', '구조', '컴퓨터', '알고리즘', '사용', '디자인', '목표', '제약', '예', '무인 항공기', '차', '대', '경우', '말', '개', '프로펠러', '공기역학', '효율', '것', '컴퓨터', '해결', '방법', '탐색', '개', '해법', '기준', '것', '작업', '컴퓨터', '담당', '결과', '상상', '디자인', '컴퓨터', '제안', '것', '아무도', '적', '무', '시작', '것', '무인 항공기', '몸체', '날', '다람쥐', '골반', '것', '우연이', '진화', '방식', '작동', '알고리즘', '설계', '때문', '현실', '기술', '시작', '것', '일', '년', '간', '협력', '미래', '지향', '비행기', '연구', '중', '제자리걸음', '최근', '인공지능', '이용', '다음', '결과', '컴퓨터', '디자인', '것', '3D', '프린터', '출력', '한', '칸막이', '기존', '것', '무게', '절반', '올해', '말', '쯤', '320', '탑재', '예정', '컴퓨터', '정의', '문제', '해법', '수', '직관', '컴퓨터', '학습', '적', '무', '작업', '제일', '진보', '도구', '의미', '주인', '목줄', '산책', '시간', '것', '것', '목줄', '때', '산책', '때문', '것', '가지', '집중', '일', '기억', '기억', '유지', '머릿속', '패턴', '흥미', '과정', '컴퓨터 과학자', '년', '오랫동안', '인공', '지능', '적용', '것', '일치', '년', '과학자', '틱택토', '게임', '수', '컴퓨터', '설계', '그 후', '년', '년', '체스', '년', '컴퓨터', '체스', '사람', '사실', '설정', '방안', '사용', '이', '인간', '추론', '전', '세계', '제일', '게임', '중', '바둑', '세계', '최고', '수', '사실', '바둑', '우주', '원자', '경우의 수', '직관', '개발', '사실', '일부', '수', '프로그래머', '이해', '것', '사람', '생애', '시간', '안', '컴퓨터', '아이들', '게임', '전략', '사고', '정점', '인식', '상황', '일', '것', '상태', '컴퓨터', '상황', '수', '순수', '논리', '직관', '것', '다리', '대부분', '결정', '것', '순간', '것', '다리', '위험', '것', '개발', '시작', '시스템', '직관', '일종', '시일', '내', '디자인', '것', '컴퓨터', '말', '것', '작동', '노래', '사람', '아이스크림', '향도', '요청', '수', '겁', '니다', '일', '이전', '문제', '해결', '컴퓨터', '작업', '수', '예', '기후 변화', '문제', '인간', '힘', '도움', '수', '것', '총동원', '수', '제가', '말', '것', '기술', '인', '지력', '증폭', '수', '기술', '시대', '사람', '것', '상상', '디자인', '수', '인간', '고안', '디자인', '것', '인간', '증강', '시대', '가상', '지적', '영역', '현실', '세계', '관련', '생각', '기술', '인간', '증강', '현실', '세계', '로봇', '시스템', '로봇', '일자리', '것', '분야', '것', '흥미', '점', '인간', '로봇', '작업', '것', '서로', '증강', '세상', '시작', '것', '샌프란시스코', '응용', '연구소', '관심', '분야', '중', '차세대', '로봇', '인간', '로봇', '협업', '이건', '로봇', '중', '실험', '공사장', '벽', '콘센트', '전등', '스위치', '구멍', '것', '반복', '일', '사람', '인간', '파트너', '개', '것', '영어', '몸짓', '지시', '지시', '완벽', '수행', '인간', '이용', '인간', '장점', '인식', '지각', '의사', '결정', '로봇', '이용', '로봇', '장점', '정밀도', '반복', '수행', '프로젝트', '프로젝트', '목표', '인간', '컴퓨터', '로봇', '문제', '시범', '경험', '것', '인간', '노동자', '역할', '공사', '현장', '대나무', '대나무', '형태', '로봇', '로봇', '섬유', '작업', '인간', '일', '것', '통제', '인공지능', '사용', '인공지능', '인간', '로봇', '계속', '개', '개별', '구성 요소', '추적', '흥미', '점', '임시', '구조물', '일', '인간', '로봇', '인공지능', '서로', '증강', '것', '짓', '프로젝트', '활동', '예술가', '팀', '3D', '디자인', '로봇', '출력', '세계', '최초', '다리', '작업', '말씀', '대로', '인공', '지능', '디자인', '작업', '완료', '버튼', '로봇', '스테이', '리스', '스틸', '3D', '시작', '것', '인간', '개입', '다리', '완성', '때', '출력', '계속', '겁', '니다', '컴퓨터', '것', '상상', '디자인', '능력', '증강', '것', '로봇', '시스템', '전', '인간', '수', '것', '텐', '데', '인간', '것', '판단', '제어', '능력', '가요', '것', '경계', '경계', '인간', '경계', '주변', '것', '파악', '것', '경계', '시작', '예', '자동차', '도시', '공공', '사업', '국', '길', '모퉁이', '도로', '팬', '곳', '말', '건물', '디자이너', '안', '사람', '말', '하진', '장난감', '제조', '업체', '장난감', '대상', '디자이너', '바비', '인형', '디자인', '때', '삶', '상상', '바비', '인형', '현실', '디자이너', '현실', '디자인', '도로', '건물', '바비', '일', '정보', '사용자', '것', '사용', '수', '부족', '부분', '신경', '디자인', '사용', '것', '연결', '신경', '만일', '여러분', '모두', '것', '정보', '것', '시간', '에너지', '사용', '작년', '달러', '제품', '소비자', '설득', '사용', '만일', '디자인', '것', '현실', '세계', '출시', '후', '신경', '시스템', '연결', '후', '출시', '시점', '수', '제품', '소비자', '것', '처음', '소비자', '것', '것', '희소식', '개발', '중', '디지털', '신경', '계가', '디자인', '것', '연결', '겁', '니다', '형제', '팀', '프로젝트', '진행', '중', '것', '중', '하나로', '광란', '질주', '차', '제정신', '최선', '진행', '일', '전통', '경주', '차', '차', '신경', '제공', '것', '개', '센서', '세계', '수준', '운전자', '사막', '일주일', '간', '자동차', '경계', '자동차', '일', '저장', '차', '해진', '포함', '개', '데이터', '그 후', '정신', '짓', '데이터', '디자인', '인공', '지능', '우리는 신', '경계', '디자인', '도구', '최고', '차', '요청', '수', '이전', '인간', '번', '디자인', '것', '인간', '디자인', '제외', '디자인', '인공', '지능', '증강', '인간', '겁', '니다', '디지털', '경계', '로봇', '것', '제작', '수', '만일', '미래', '증강', '시대', '인지', '육체', '지각', '증강', '것', '세상', '생각', '물건', '제작', '것', '물건', '것', '세상', '것', '건설', '것', '성장', '것', '것', '고립', '것', '연결', '것', '이동', '것', '추출', '것', '축적', '방향', '겁', '니다', '주변', '사물', '지시', '자율', '가치', '쪽', '것', '인간', '능력', '증강', '것', '감사', '세상', '극', '변화', '겁', '니다', '세상', '연결', '역동', '것', '수용', '것', '것', '앞', '모습', '이전', '것', '것', '세상', '모습', '기술', '자연', '인간', '사이', '협력', '관계', '덕분', '기대', '만', '가치', '미래']\n",
        ",['바', '적', '바', '간', '덕분', '달러', '계약', '거', '예', '년', '전', '일', '하루', '날', '고객', '사가', '소프트웨어', '컨설팅', '회사', '특정', '프로그래밍', '스키', '이', '고객', '첨단', '클라우드', '시스템', '구축', '수', '엔지니어', '아무도', '고객', '만족', '수', '지경', '바', '바텐더', '제프', '얘기', '바텐더', '일', '얘기', '공감', '기분', '고충', '고객', '신경', '말', '고객', '사', '제가', '방법', '다음날', '아침', '팀', '회의', '다', '술', '상태', '농담', '조로', '말', '판', '말', '바텐더', '제프', '침묵', '다', '듯', '팀장', '말', '아이디어', '제프', '사람', '방법', '겁', '니다', '고객', '제프', '프로그래머', '사실', '펜', '실', '베니', '대학', '철학', '공부', '중퇴', '문제', '능력', '직전', '긴장', '일', '후', '제프', '고객', '사', '고객', '수', '내막', '고객', '프로그래밍', '스키', '집착', '논의', '주제', '대상', '무어', '목적', '논의', '주제가', '제프', '해결책', '프로그래밍', '방법', '고객', '사례', '중', '당시', '명', '직원', '절반', '컴퓨터 과학', '공학', '전공자', '제프', '사례', '한가지', '의문점', '업무', '적용', '수', '채용', '교육', '방식', '컴퓨터 과학', '공학', '전공자', '예술가', '음악가', '작가', '포함', '제프', '경우', '반복', '시작', '최고', '기술', '책임자', '영어', '전공자', '맨해튼', '자전거', '택배', '현재', '직원', '명', '명', '이하', '컴퓨터 과학', '공학', '전공자', '컴퓨터', '컨설팅', '회사', '시장', '일등', '기업', '급', '성장', '소프트웨어 패키지', '연', '매출', '달러', '효과', '거', '반면', '우리나라', '기반', '교육', '강요', '과학', '기술', '공학', '수학', '모두', '모습', '실수', '년', '이후', '미국', '전공자', '증가', '반면', '인문학', '공자 수', '대통령', '10억', '달러', '이상', '교육', '투자', '과목', '예산', '말', '대통령', '최근', '교육부', '예산', '중', '달러', '컴퓨터 과학', '쪽', '투자', '기업', '공학', '전공', '인력', '부족', '불평', '움직임', '기술', '경제', '성공', '말', '시가총액', '세계', '10대', '기업', '중', '개', '기술', '관련', '회사', '예측', '것', '미래', '인력', '경력', '것', '이론', '매력', '과대평가', '축구팀', '선수', '모두', '공', '한곳', '구석', '모양새', '공', '가치', '부여', '안', '이상', '인문학', '이상', '과학', '가치', '부여', '안', '가지', '이유', '오늘날', '기술', '직관', '전공자', '채용', '수', '전문', '분야', '눈', '수', '이유', '최신', '시스템', '프로그래밍', '기술', '수', '때문', '레고', '조립', '프로그래밍', '학습', '필요', '광범위', '정보', '때문', '인력', '전문', '능력', '필요', '능력', '정형', '교육', '과거', '말', '필요', '차별', '능력', '직관', '기술', '세계', '인간', '일', '데', '도움', '능력', '일', '것', '최종', '산출물', '구상', '것', '효용', '성도', '포함', '실제', '세계', '경험', '판단', '역사', '맥락', '요구', '제프', '사례', '것', '고객', '잘못', '곳', '집중', '것', '전형', '형태', '기술자', '기업', '최종 사용자', '소통', '기업', '자신', '요구', '사항', '설명', '경우', '표면', '인간', '소통', '개발', '능력', '말', '과학', '언가', '반면', '인문학', '제가', '불편', '때', '사람', '인문학', '경력', '취급', '때', '여러분', '인문학', '세상', '맥락', '제공', '비판', '사고', '방법', '인문학', '의도', '구조', '반면', '과학', '의도', '구조', '인문학', '설득', '언어', '제공', '감성', '사고', '행동', '전환', '인문학', '과학', '동등', '취급', '예술가', '채용', '기술', '회사', '설립', '수', '결과', '것', '오늘', '이', '말', '것', '여성', '프로그래머', '반대', '것', '제가', '운전', '다음', '다리', '다음', '엘리베이터', '이면', '공학', '편집증', '미래', '직업', '이', '지배', '것', '것', '친구', '자녀', '친척', '손주', '여자', '조카', '남자', '조카', '대로', '수', '격려', '일자리', '것', '기술', '졸업장', '요구', '채용', '아', '세', '구글', '애플', '페이스북', '회사', '일자리', '중', '기술직', '판', '매직', '디자이너', '프로젝트 매니저', '프로그램', '매니저', '제품', '매니저', '변호사', '인사', '관리', '전문가', '강사', '코치', '영업', '구매', '담당자', '등', '일', '사람', '미래', '인력', '필요', '한가지', '다', '동의', '생각', '다양성', '다양성', '성별', '인종', '끝', '나선', '안', '필요', '건', '배경', '다양성', '능력', '다양성', '내성', '사람', '외향', '사람', '사람', '사람', '미래', '인력', '기술', '인력', '자유', '자신', '것']]"
      ],
      "metadata": {
        "id": "hQMO9oEw7FzK"
      },
      "execution_count": null,
      "outputs": []
    },
    {
      "cell_type": "code",
      "source": [
        "from gensim.models import FastText\n",
        "\n",
        "embedding = FastText(data, size=100, window=7, negative=3, min_count=5)\n",
        "embedding.save('fasttext.model')\n",
        "\n",
        "model = FastText.load('fasttext.model')\n",
        "print(model.wv['인공지능'])\n",
        "print(model.most_similar('인공지능'))"
      ],
      "metadata": {
        "colab": {
          "base_uri": "https://localhost:8080/"
        },
        "id": "3G-RJudL7QV6",
        "outputId": "3c8cc651-183f-44d0-eda1-502286e2b188"
      },
      "execution_count": null,
      "outputs": [
        {
          "output_type": "stream",
          "name": "stdout",
          "text": [
            "[-7.2016024e-05 -1.8346038e-03  2.3303700e-03 -5.9494638e-04\n",
            "  2.5070668e-03  2.5580435e-03  3.0331768e-04  5.3263165e-04\n",
            " -8.2824973e-04 -2.8264979e-03 -3.2569885e-03  9.2922745e-04\n",
            "  1.4796389e-03  1.7676638e-03  9.0155570e-04 -2.2840744e-03\n",
            "  3.8270636e-03 -3.1362992e-04  2.5162732e-03  2.7900346e-04\n",
            " -2.9032230e-03  1.9817122e-03 -2.1441376e-03 -5.1172995e-03\n",
            "  8.1473372e-05  1.2570281e-04 -2.3611265e-03  2.5320272e-03\n",
            "  2.5138403e-03 -2.5730403e-03  4.0781029e-04 -3.0369752e-05\n",
            "  2.1145025e-03  8.5310318e-04  7.8549556e-04 -7.2389434e-04\n",
            "  1.1848909e-03 -4.9776153e-04 -1.7528980e-03 -2.3660744e-03\n",
            "  3.5379634e-03  3.2914251e-03  7.8175093e-05  4.6666544e-03\n",
            " -2.9600568e-03  3.0545748e-03  3.3748366e-03  2.5703248e-03\n",
            " -3.5720682e-04 -2.2432420e-03 -2.4262141e-03  4.4297557e-03\n",
            " -1.4584485e-03 -7.6619000e-04  6.8215490e-04  4.4034544e-04\n",
            " -1.3048560e-03 -3.1120456e-03  2.3790567e-04 -8.5192063e-04\n",
            "  8.2493381e-04  2.5649377e-04  1.8780296e-03 -2.9221716e-04\n",
            "  1.9550703e-03 -9.2392671e-04 -1.5231670e-03 -4.5214812e-03\n",
            " -9.8796026e-04  1.6057658e-03  2.7707242e-03 -2.6522324e-04\n",
            "  1.4967519e-03 -4.2768338e-04  2.2965630e-03 -3.1912329e-03\n",
            " -1.3825737e-03 -6.8313547e-04 -1.5004274e-03  8.1947126e-04\n",
            "  1.9137473e-03  3.4730986e-03  9.5206028e-04  3.3488802e-03\n",
            "  7.1018294e-04  2.8944192e-03 -4.0442464e-03 -1.3064957e-03\n",
            " -1.8853755e-03  3.7170262e-03 -1.8018518e-03  1.1539598e-03\n",
            " -4.0448763e-04 -2.2689954e-03  1.9202862e-03 -1.0842119e-05\n",
            "  1.3873384e-03 -1.4113865e-03 -1.0025386e-03 -2.6865851e-04]\n",
            "[('세계', 0.3334685266017914), ('과학', 0.33266639709472656), ('지능', 0.3317250609397888), ('인간', 0.29917165637016296), ('지시', 0.27292901277542114), ('인공', 0.257985383272171), ('사용', 0.23043161630630493), ('방법', 0.21681763231754303), ('컴퓨터', 0.20820456743240356), ('경우', 0.20299169421195984)]\n"
          ]
        },
        {
          "output_type": "stream",
          "name": "stderr",
          "text": [
            "/usr/local/lib/python3.7/dist-packages/ipykernel_launcher.py:8: DeprecationWarning: Call to deprecated `most_similar` (Method will be removed in 4.0.0, use self.wv.most_similar() instead).\n",
            "  \n"
          ]
        }
      ]
    }
  ]
}