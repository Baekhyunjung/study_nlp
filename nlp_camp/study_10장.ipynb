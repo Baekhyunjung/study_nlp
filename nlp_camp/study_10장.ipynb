{
  "nbformat": 4,
  "nbformat_minor": 0,
  "metadata": {
    "colab": {
      "provenance": [],
      "authorship_tag": "ABX9TyOwkysAxjWxItJlOZEadZ8K",
      "include_colab_link": true
    },
    "kernelspec": {
      "name": "python3",
      "display_name": "Python 3"
    },
    "language_info": {
      "name": "python"
    }
  },
  "cells": [
    {
      "cell_type": "markdown",
      "metadata": {
        "id": "view-in-github",
        "colab_type": "text"
      },
      "source": [
        "<a href=\"https://colab.research.google.com/github/Baekhyunjung/study_nlp/blob/main/nlp_camp/study_10%EC%9E%A5.ipynb\" target=\"_parent\"><img src=\"https://colab.research.google.com/assets/colab-badge.svg\" alt=\"Open In Colab\"/></a>"
      ]
    },
    {
      "cell_type": "code",
      "execution_count": null,
      "metadata": {
        "id": "ahhVScrqI07T"
      },
      "outputs": [],
      "source": []
    },
    {
      "cell_type": "code",
      "source": [
        "import torch.utils\n",
        "import torch.nn as nn\n",
        "from struct import *\n",
        "\n",
        "class Encoder(nn.Module):\n",
        "  def __init__(self, word_vec_dim, hidden_size, n_layers=4, dropout_p=.2):\n",
        "    super(Encoder, self).__init__()\n",
        "    self.rnn = nn.LSTM(word_vec_dim,\n",
        "                       int(hidden_size/2),\n",
        "                       num_layers=n_layers,\n",
        "                       dropout=dropout_p,\n",
        "                       bidirectional=True,\n",
        "                       batch_first=True)\n",
        "\n",
        "  def forward(self, emb):\n",
        "    if isinstance(emb, tuple):\n",
        "      x, lengths = emb\n",
        "      x = pack(x, lengths.tolist(), batch_first=True)\n",
        "\n",
        "    else:\n",
        "      x = emb\n",
        "\n",
        "    y, h = self.rnn(x)\n",
        "    if isinstance(emb, tuple):\n",
        "      y, _ = unpack(y, batch_first=True)\n",
        "\n",
        "    return y, h\n"
      ],
      "metadata": {
        "id": "jsrRyuN_Mhxq"
      },
      "execution_count": null,
      "outputs": []
    },
    {
      "cell_type": "code",
      "source": [
        "class Generator(nn.Module):\n",
        "  def __init__(self, hidden_size, output_size):\n",
        "    super(Generator, self).__init__()\n",
        "    self.output = nn.Linear(hidden_size, output_size)\n",
        "    self.softmax = nn.LogSoftmax(dim=-1)\n",
        "\n",
        "  def forward(self, x):\n",
        "    y = self.softmax(self.output(x))\n",
        "    return y"
      ],
      "metadata": {
        "id": "f3RUMMVEMhz-"
      },
      "execution_count": null,
      "outputs": []
    },
    {
      "cell_type": "code",
      "source": [
        "loss_weight = torch.ones(output_size)\n",
        "loss_weight[data_loader.PAD] = 0.\n",
        "crit = nn.NLLLoss(weight=loss_weight, reduction='sum')"
      ],
      "metadata": {
        "id": "na2h7tDkOPlA"
      },
      "execution_count": null,
      "outputs": []
    },
    {
      "cell_type": "code",
      "source": [],
      "metadata": {
        "id": "WJMRJ5FFOPnI"
      },
      "execution_count": null,
      "outputs": []
    },
    {
      "cell_type": "code",
      "source": [
        "import torch\n",
        "\n",
        "a = [torch.tensor([1,2,3]), torch.tensor([3,4])]\n",
        "b = torch.nn.utils.rnn.pad_sequence(a, batch_first=True)\n",
        "print(b)\n",
        "\n",
        "print(torch.nn.utils.rnn.pack_padded_sequence(b, batch_first=True, lengths=[3,2]))"
      ],
      "metadata": {
        "colab": {
          "base_uri": "https://localhost:8080/"
        },
        "id": "DnwSxi3OL8n-",
        "outputId": "db9e27f6-00da-438c-bc95-8d02fbf3cc02"
      },
      "execution_count": null,
      "outputs": [
        {
          "output_type": "stream",
          "name": "stdout",
          "text": [
            "tensor([[1, 2, 3],\n",
            "        [3, 4, 0]])\n",
            "PackedSequence(data=tensor([1, 3, 2, 4, 3]), batch_sizes=tensor([2, 2, 1]), sorted_indices=None, unsorted_indices=None)\n"
          ]
        }
      ]
    },
    {
      "cell_type": "code",
      "source": [
        "dic = {'computer':9, 'dog':2, 'cat':3}\n",
        "\n",
        "def key_value_func(query):\n",
        "  weights = []\n",
        "  for key in dic.keys():\n",
        "    weights += [is_same(key, query)]\n",
        "\n",
        "  weight_sum = sum(weights)\n",
        "  for i, w in enumerate(weights):\n",
        "    weights[i] = weights[i]/weight_sum\n",
        "\n",
        "  answer = 0\n",
        "\n",
        "  for weight, value in zip(weights, dic.values()):\n",
        "    answer += weight * value\n",
        "\n",
        "  return answer\n",
        "\n",
        "def is_same(key, query):\n",
        "  if key == query:\n",
        "    return 1.\n",
        "  else:\n",
        "    return .0"
      ],
      "metadata": {
        "id": "96Vk5cntJ8VZ"
      },
      "execution_count": null,
      "outputs": []
    },
    {
      "cell_type": "code",
      "source": [
        "query = 'puppy'\n",
        "is_same('computer', query)"
      ],
      "metadata": {
        "colab": {
          "base_uri": "https://localhost:8080/"
        },
        "id": "sZROUQKQKazr",
        "outputId": "5b09bd1a-2202-491d-8aeb-f7bc01983d37"
      },
      "execution_count": null,
      "outputs": [
        {
          "output_type": "execute_result",
          "data": {
            "text/plain": [
              "0.0"
            ]
          },
          "metadata": {},
          "execution_count": 6
        }
      ]
    },
    {
      "cell_type": "code",
      "source": [],
      "metadata": {
        "id": "h-phgngp-u9K"
      },
      "execution_count": null,
      "outputs": []
    },
    {
      "cell_type": "code",
      "source": [
        "import torch.nn as nn"
      ],
      "metadata": {
        "id": "Z4d2j4IKHFDU"
      },
      "execution_count": null,
      "outputs": []
    },
    {
      "cell_type": "code",
      "source": [
        "class Transformer(nn.Module):\n",
        "\n",
        "\tdef __init__(self, src_embed, trg_embed, encoder, decoder, fc_layer):\n",
        "\t\tsuper(Transformer, self).__init__()\n",
        "\t\tself.src_embed = src_embed\n",
        "\t\tself.trg_embed = trg_embed\n",
        "\t\tself.encoder = encoder\n",
        "\t\tself.decoder = decoder\n",
        "\t\tself.fc_layer = fc_layer\n",
        "\n",
        "\tdef forward(self, src, trg, src_mask, trg_mask):\n",
        "\t\tencoder_output = self.encoder(self.src_embed(src), src_mask)\n",
        "\t\tout = self.decoder(self.trg_embed(trg), trg_mask, encoder_output, src_mask)\n",
        "\t\tout = self.fc_layer(out)\n",
        "\t\tout = F.log_softmax(out, dim=-1)\n",
        "\t\treturn out"
      ],
      "metadata": {
        "id": "neIxx4Y9-u_t"
      },
      "execution_count": null,
      "outputs": []
    },
    {
      "cell_type": "code",
      "source": [
        "class Encoder(nn.Module):\n",
        "\n",
        "\tdef __init__(self, encoder_layer, n_layer):  # n_layer: Encoder Layer의 개수\n",
        "\t\tsuper(Encoder, self).__init__()\n",
        "\t\tself.layers = []\n",
        "\t\tfor i in range(n_layer):\n",
        "\t\t\tself.layers.append(copy.deepcopy(encoder_layer))\n",
        "\n",
        "\tdef forward(self, x, mask):\n",
        "\t\tout = x\n",
        "\t\tfor layer in self.layers:\n",
        "\t\t\tout = layer(out, mask)\n",
        "\t\treturn out"
      ],
      "metadata": {
        "id": "dZZGz9nQHIUV"
      },
      "execution_count": null,
      "outputs": []
    },
    {
      "cell_type": "code",
      "source": [
        "class EncoderLayer(nn.Module):\n",
        "\n",
        "\tdef __init__(self, multi_head_attention_layer, position_wise_feed_forward_layer, norm_layer):\n",
        "\t\tsuper(EncoderLayer, self).__init__()\n",
        "\t\tself.multi_head_attention_layer = multi_head_attention_layer\n",
        "\t\tself.position_wise_feed_forward_layer = position_wise_feed_forward_layer\n",
        "\t\tself.residual_connection_layers = [ResidualConnectionLayer(copy.deepcopy(norm_layer)) for i in range(2)]\n",
        "\n",
        "\tdef forward(self, x, mask):\n",
        "\t\tout = self.residual_connection_layers[0](x, lambda x: self.multi_head_attention_layer(x, x, x, mask))\n",
        "\t\tout = self.residual_connection_layers[1](x, lambda x: self.position_wise_feed_forward_layer(x))\n",
        "\t\treturn out"
      ],
      "metadata": {
        "id": "sXVIuOVAHLGa"
      },
      "execution_count": null,
      "outputs": []
    },
    {
      "cell_type": "code",
      "source": [
        "def calculate_attention(self, query, key, value, mask):\n",
        "\t# query, key, value's shape: (n_batch, seq_len, d_k)\n",
        "\td_k = key.size(-1) # get d_k\n",
        "\tattention_score = torch.matmul(query, key.transpose(-2, -1)) # Q x K^T, attention_score's shape: (n_batch, seq_len, seq_len)\n",
        "\tattention_score = attention_score / math.sqrt(d_k) # scaling\n",
        "\tif mask is not None:\n",
        "\t\tattention_score = score.masked_fill(mask==0, -1e9) # masking\n",
        "\tattention_prob = F.softmax(score, dim=-1) # softmax, attention_prob's shape: (n_batch, seq_len, seq_len)\n",
        "\tout = torch.matmul(attention_prob, value) # Attention_Prob x V, out's shape: (n_batch, seq_len, d_k)\n",
        "\treturn out"
      ],
      "metadata": {
        "id": "pDDBbxAkHSAr"
      },
      "execution_count": null,
      "outputs": []
    },
    {
      "cell_type": "code",
      "source": [
        "class MultiHeadAttentionLayer(nn.Module):\n",
        "  def __init__(self, d_model, h, qkv_fc_layer, fc_layer):\n",
        "\t\t# qkv_fc_layer's shape: (d_embed, d_model)\n",
        "\t\t# fc_layer's shape: (d_model, d_embed)\n",
        "    super(MultiHeadAttentionLayer, self).__init__()\n",
        "    self.d_model = d_model\n",
        "    self.h = h\n",
        "    self.query_fc_layer = copy.deepcopy(qkv_fc_layer)\n",
        "    self.key_fc_layer = copy.deepcopy(qkv_fc_layer)\n",
        "    self.value_fc_layer = copy.deepcopy(qkv_fc_layer)\n",
        "    self.fc_layer = fc_layer\n",
        "\n",
        "  def forward(self, query, key, value, mask=None):\n",
        "\t\t# query, key, value's shape: (n_batch, seq_len, d_embed)\n",
        "\t\t# mask's shape: (n_batch, seq_len, seq_len)\n",
        "    n_batch = query.shape[0] # get n_batch\n",
        "\n",
        "    def transform(x, fc_layer): # reshape (n_batch, seq_len, d_embed) to (n_batch, h, seq_len, d_k)\n",
        "      out = fc_layer(x) # out's shape: (n_batch, seq_len, d_model)\n",
        "      out = out.view(n_batch, -1, self.h, self.d_model//self.h) # out's shape: (n_batch, seq_len, h, d_k)\n",
        "      out = out.transpose(1, 2) # out's shape: (n_batch, h, seq_len, d_k)\n",
        "      return out\n",
        "\n",
        "    query = transform(query, self.query_fc_layer) # query, key, value's shape: (n_batch, h, seq_len ,d_k)\n",
        "    key = transform(key, self.key_fc_layer)\n",
        "    value = transform(value, self.value_fc_layer)\n",
        "\n",
        "    if mask is not None:\n",
        "      mask = mask.unsqueeze(1) # mask's shape: (n_batch, 1, seq_len, seq_len)\n",
        "\n",
        "    out = self.calculate_attention(query, key, value, mask) # out's shape: (n_batch, h, seq_len, d_k)\n",
        "    out = out.transpose(1, 2) # out's shape: (n_batch, seq_len, h, d_k)\n",
        "    out = contiguous().view(n_batch, -1, self.d_model) # out's shape: (n_batch, seq_len, d_model)\n",
        "    out = self.fc_layer(out) # out's shape: (n_batch, seq_len, d_embed)\n",
        "    return out"
      ],
      "metadata": {
        "id": "ND6pyV2LHW-H"
      },
      "execution_count": null,
      "outputs": []
    },
    {
      "cell_type": "code",
      "source": [
        "def calculate_attention(self, query, key, value, mask):\n",
        "\t# query, key, value's shape: (n_batch, seq_len, d_k)\n",
        "\td_k = key.size(-1) # get d_k\n",
        "\tattention_score = torch.matmul(query, key.transpose(-2, -1)) # Q x K^T, attention_score's shape: (n_batch, seq_len, seq_len)\n",
        "\tattention_score = attention_score / math.sqrt(d_k) # scaling\n",
        "\tif mask is not None:\n",
        "\t\tattention_score = score.masked_fill(mask==0, -1e9) # masking\n",
        "\tattention_prob = F.softmax(score, dim=-1) # softmax, attention_prob's shape: (n_batch, seq_len, seq_len)\n",
        "\tout = torch.matmul(attention_prob, value) # Attention_Prob x V, out's shape: (n_batch, seq_len, d_k)\n",
        "\treturn out"
      ],
      "metadata": {
        "id": "885rmAzVH-PE"
      },
      "execution_count": null,
      "outputs": []
    },
    {
      "cell_type": "code",
      "source": [
        "class PositionWiseFeedForwardLayer(nn.Module):\n",
        "\tdef __init__(self, first_fc_layer, second_fc_layer):\n",
        "\t\tself.first_fc_layer = first_fc_layer\n",
        "\t\tself.second_fc_layer = second_fc_layer\n",
        "\n",
        "\tdef forward(self, x):\n",
        "\t\tout = self.first_fc_layer(x)\n",
        "\t\tout = F.relu(out)\n",
        "\t\tout = self.dropout(out)\n",
        "\t\tout = self.second_fc_layer(out)\n",
        "\t\treturn out"
      ],
      "metadata": {
        "id": "xK1ixmyAIM_3"
      },
      "execution_count": null,
      "outputs": []
    },
    {
      "cell_type": "code",
      "source": [
        "class ResidualConnectionLayer(nn.Module):\n",
        "\tdef __init__(self, norm_layer):\n",
        "\t\tsuper(ResidualConnectionLayer, self).__init__()\n",
        "\t\tself.norm_layer = norm_layer\n",
        "\n",
        "\tdef forward(self, x, sub_layer):\n",
        "\t\tout = sub_layer(x) + x\n",
        "\t\tout = self.norm_layer(out)\n",
        "\t\treturn out"
      ],
      "metadata": {
        "id": "aaMrdtpEIRJ9"
      },
      "execution_count": null,
      "outputs": []
    },
    {
      "cell_type": "code",
      "source": [
        "def subsequent_mask(size):\n",
        "\tatten_shape = (1, size, size)\n",
        "\tmask = np.triu(np.ones(atatn_shape), k=1).astype('uint8') # masking with upper triangle matrix\n",
        "\treturn torch.from_numpy(mask)==0 # reverse (masking=False, non-masking=True)\n",
        "\n",
        "def make_std_mask(tgt, pad):\n",
        "\ttgt_mask = (tgt != pad) # pad masking\n",
        "\ttgt_mask = tgt_mask.unsqueeze(-2) # reshape (n_batch, seq_len) -> (n_batch, 1, seq_len)\n",
        "\ttgt_mask = tgt_mask & Variable(subsequent_mask(tgt.size(-1)).type_as(tgt_mask.data)) # pad_masking & subsequent_masking\n",
        "\treturn tgt_mask"
      ],
      "metadata": {
        "id": "vx9YD0F7IWqD"
      },
      "execution_count": null,
      "outputs": []
    },
    {
      "cell_type": "code",
      "source": [
        "class Decoder(nn.Module):\n",
        "\tdef __init__(self, sub_layer, n_layer):\n",
        "\t\tsuper(Decoder, self).__init__()\n",
        "\t\tself.layers = []\n",
        "\t\tfor i in range(n_layer):\n",
        "\t\t\tself.layers.append(copy.deepcopy(sub_layer))\n",
        "\n",
        "\tdef forward(self, x, mask, encoder_output, encoder_mask):\n",
        "\t\tout = x\n",
        "\t\tfor layer in self.layers:\n",
        "\t\t\tout = layer(out, mask, encoder_output, encoder_mask)\n",
        "\t\treturn out"
      ],
      "metadata": {
        "id": "WCp5im1UIeUT"
      },
      "execution_count": null,
      "outputs": []
    },
    {
      "cell_type": "code",
      "source": [
        "class DecoderLayer(nn.Module):\n",
        "\tdef __init__(self, masked_multi_head_attention_layer, multi_head_attention_layer, position_wise_feed_forward_layer, norm_layer):\n",
        "\t\tsuper(DecoderLayer, self).__init__()\n",
        "\t\tself.masked_multi_head_attention_layer = ResidualConnectionLayer(masked_multi_head_attention_layer, copy.deepcopy(norm_layer))\n",
        "\t\tself.multi_head_attention_layer = ResidualConnectionLayer(multi_head_attention_layer, copy.deepcopy(norm_layer))\n",
        "\t\tself.position_wise_feed_forward_layer = ResidualConnectionLayer(position_wise_feed_forward_layer, copy.deepcopy(norm_layer))\n",
        "\n",
        "\tdef forward(self, x, mask, encoder_output, encoder_mask):\n",
        "\t\tout = self.masked_multi_head_attention_layer(query=x, key=x, value=x, mask=mask)\n",
        "\t\tout = self.multi_head_attention_layer(query=out, key=encoder_output, value=encoder_output, mask=encoder_mask)\n",
        "\t\tout = self.position_wise_feed_forward_layer(x=out)\n",
        "\t\treturn out"
      ],
      "metadata": {
        "id": "UOCmEEUGIes9"
      },
      "execution_count": null,
      "outputs": []
    },
    {
      "cell_type": "code",
      "source": [
        "class TransformerEmbedding(nn.Module):\n",
        "\tdef __init__(self, embedding, positional_encoding):\n",
        "\t\tsuper(TransformerEmbedding, self).__init__()\n",
        "\t\tself.embedding = nn.Sequential(embedding, positional_encoding)\n",
        "\n",
        "\tdef forward(self, x):\n",
        "\t\tout = self.embedding(x)\n",
        "\t\treturn out"
      ],
      "metadata": {
        "id": "70-L5HNaIgSP"
      },
      "execution_count": null,
      "outputs": []
    },
    {
      "cell_type": "code",
      "source": [
        "class Embedding(nn.Module):\n",
        "\tdef __init__(self, d_embed, vocab):\n",
        "\t\tsuper(Embedding, self).__init__()\n",
        "\t\tself.embedding = nn.Embedding(len(vocab), d_embed)\n",
        "\t\tself.vocab = vocab\n",
        "\t\tself.d_embed = d_embed\n",
        "\n",
        "\tdef forward(self, x):\n",
        "\t\tout = self.embedding(x) * math.sqrt(self.d_embed)\n",
        "\t\treturn out"
      ],
      "metadata": {
        "id": "qzGIlxzBImgB"
      },
      "execution_count": null,
      "outputs": []
    },
    {
      "cell_type": "code",
      "source": [
        "class PositionalEncoding(nn.Module):\n",
        "\tdef __init__(self, d_embed, max_seq_len=5000):\n",
        "\t\tsuper(PositionalEncoding, self).__init__()\n",
        "\t\tencoding = torch.zeros(max_seq_len, d_embed)\n",
        "\t\tposition = torch.arange(0, max_seq_len).unsqueeze(1)\n",
        "\t\tdiv_term = torch.exp(torch.arange(0, d_embed, 2) * -(math.log(10000.0) / d_embed))\n",
        "\t\tencoding[:, 0::2] = torch.sin(position * div_term)\n",
        "\t\tencoding[:, 1::2] = torch.cos(position * div_term)\n",
        "\t\tself.encoding = encoding\n",
        "\n",
        "\tdef forward(self, x):\n",
        "\t\tout = x + Variable(self.encoding[:, :x.size(1)], requires_grad=False)\n",
        "\t\tout = self.dropout(out)\n",
        "\t\treturn out"
      ],
      "metadata": {
        "id": "NVkIfTnPIoSZ"
      },
      "execution_count": null,
      "outputs": []
    }
  ]
}